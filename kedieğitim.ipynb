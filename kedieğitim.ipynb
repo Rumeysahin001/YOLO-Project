{
  "cells": [
    {
      "cell_type": "code",
      "source": [
        "from google.colab import drive\n",
        "drive.mount('/content/drive')\n"
      ],
      "metadata": {
        "colab": {
          "base_uri": "https://localhost:8080/"
        },
        "id": "3Sh00YShP3Xo",
        "outputId": "6d08b46f-2120-4d35-c7a6-a21b5d1345ec"
      },
      "execution_count": null,
      "outputs": [
        {
          "output_type": "stream",
          "name": "stdout",
          "text": [
            "Mounted at /content/drive\n"
          ]
        }
      ]
    },
    {
      "cell_type": "code",
      "source": [
        "import zipfile\n",
        "import os\n",
        "\n",
        "# Google Drive’daki dosyanın tam yolu\n",
        "zip_path = \"/content/drive/MyDrive/yüklediklerimgitmesin/My First Project.v4i.yolov8.zip\"\n",
        "\n",
        "# ZIP dosyasını açacağımız geçici klasör\n",
        "extract_path = \"/content/dataset\"\n",
        "os.makedirs(extract_path, exist_ok=True)\n",
        "\n",
        "# ZIP dosyasını aç (extract)\n",
        "with zipfile.ZipFile(zip_path, 'r') as zip_ref:\n",
        "    zip_ref.extractall(extract_path)\n",
        "\n",
        "print(\"Dosyalar çıkarıldı:\", os.listdir(extract_path))\n"
      ],
      "metadata": {
        "colab": {
          "base_uri": "https://localhost:8080/"
        },
        "id": "drWNmMxdRbLI",
        "outputId": "d14f3629-4c13-4858-9589-38e147a2d19e"
      },
      "execution_count": null,
      "outputs": [
        {
          "output_type": "stream",
          "name": "stdout",
          "text": [
            "Dosyalar çıkarıldı: ['train', 'test', 'data.yaml', 'valid', 'README.roboflow.txt', 'README.dataset.txt']\n"
          ]
        }
      ]
    },
    {
      "cell_type": "code",
      "source": [
        "data_yaml = \"/content/dataset/data.yaml\"\n",
        "\n"
      ],
      "metadata": {
        "id": "CIah-2OTSz0v"
      },
      "execution_count": null,
      "outputs": []
    },
    {
      "cell_type": "markdown",
      "source": [],
      "metadata": {
        "id": "tcJAL1Xm3zIw"
      }
    },
    {
      "cell_type": "code",
      "source": [
        "!pip install ultralytics\n"
      ],
      "metadata": {
        "colab": {
          "base_uri": "https://localhost:8080/"
        },
        "id": "YH9j0wSm3zZw",
        "outputId": "ca9d21a0-80c7-460f-9a67-909b1dde3281"
      },
      "execution_count": null,
      "outputs": [
        {
          "output_type": "stream",
          "name": "stdout",
          "text": [
            "Collecting ultralytics\n",
            "  Downloading ultralytics-8.3.160-py3-none-any.whl.metadata (37 kB)\n",
            "Requirement already satisfied: numpy>=1.23.0 in /usr/local/lib/python3.11/dist-packages (from ultralytics) (2.0.2)\n",
            "Requirement already satisfied: matplotlib>=3.3.0 in /usr/local/lib/python3.11/dist-packages (from ultralytics) (3.10.0)\n",
            "Requirement already satisfied: opencv-python>=4.6.0 in /usr/local/lib/python3.11/dist-packages (from ultralytics) (4.11.0.86)\n",
            "Requirement already satisfied: pillow>=7.1.2 in /usr/local/lib/python3.11/dist-packages (from ultralytics) (11.2.1)\n",
            "Requirement already satisfied: pyyaml>=5.3.1 in /usr/local/lib/python3.11/dist-packages (from ultralytics) (6.0.2)\n",
            "Requirement already satisfied: requests>=2.23.0 in /usr/local/lib/python3.11/dist-packages (from ultralytics) (2.32.3)\n",
            "Requirement already satisfied: scipy>=1.4.1 in /usr/local/lib/python3.11/dist-packages (from ultralytics) (1.15.3)\n",
            "Requirement already satisfied: torch>=1.8.0 in /usr/local/lib/python3.11/dist-packages (from ultralytics) (2.6.0+cu124)\n",
            "Requirement already satisfied: torchvision>=0.9.0 in /usr/local/lib/python3.11/dist-packages (from ultralytics) (0.21.0+cu124)\n",
            "Requirement already satisfied: tqdm>=4.64.0 in /usr/local/lib/python3.11/dist-packages (from ultralytics) (4.67.1)\n",
            "Requirement already satisfied: psutil in /usr/local/lib/python3.11/dist-packages (from ultralytics) (5.9.5)\n",
            "Requirement already satisfied: py-cpuinfo in /usr/local/lib/python3.11/dist-packages (from ultralytics) (9.0.0)\n",
            "Requirement already satisfied: pandas>=1.1.4 in /usr/local/lib/python3.11/dist-packages (from ultralytics) (2.2.2)\n",
            "Collecting ultralytics-thop>=2.0.0 (from ultralytics)\n",
            "  Downloading ultralytics_thop-2.0.14-py3-none-any.whl.metadata (9.4 kB)\n",
            "Requirement already satisfied: contourpy>=1.0.1 in /usr/local/lib/python3.11/dist-packages (from matplotlib>=3.3.0->ultralytics) (1.3.2)\n",
            "Requirement already satisfied: cycler>=0.10 in /usr/local/lib/python3.11/dist-packages (from matplotlib>=3.3.0->ultralytics) (0.12.1)\n",
            "Requirement already satisfied: fonttools>=4.22.0 in /usr/local/lib/python3.11/dist-packages (from matplotlib>=3.3.0->ultralytics) (4.58.4)\n",
            "Requirement already satisfied: kiwisolver>=1.3.1 in /usr/local/lib/python3.11/dist-packages (from matplotlib>=3.3.0->ultralytics) (1.4.8)\n",
            "Requirement already satisfied: packaging>=20.0 in /usr/local/lib/python3.11/dist-packages (from matplotlib>=3.3.0->ultralytics) (24.2)\n",
            "Requirement already satisfied: pyparsing>=2.3.1 in /usr/local/lib/python3.11/dist-packages (from matplotlib>=3.3.0->ultralytics) (3.2.3)\n",
            "Requirement already satisfied: python-dateutil>=2.7 in /usr/local/lib/python3.11/dist-packages (from matplotlib>=3.3.0->ultralytics) (2.9.0.post0)\n",
            "Requirement already satisfied: pytz>=2020.1 in /usr/local/lib/python3.11/dist-packages (from pandas>=1.1.4->ultralytics) (2025.2)\n",
            "Requirement already satisfied: tzdata>=2022.7 in /usr/local/lib/python3.11/dist-packages (from pandas>=1.1.4->ultralytics) (2025.2)\n",
            "Requirement already satisfied: charset-normalizer<4,>=2 in /usr/local/lib/python3.11/dist-packages (from requests>=2.23.0->ultralytics) (3.4.2)\n",
            "Requirement already satisfied: idna<4,>=2.5 in /usr/local/lib/python3.11/dist-packages (from requests>=2.23.0->ultralytics) (3.10)\n",
            "Requirement already satisfied: urllib3<3,>=1.21.1 in /usr/local/lib/python3.11/dist-packages (from requests>=2.23.0->ultralytics) (2.4.0)\n",
            "Requirement already satisfied: certifi>=2017.4.17 in /usr/local/lib/python3.11/dist-packages (from requests>=2.23.0->ultralytics) (2025.6.15)\n",
            "Requirement already satisfied: filelock in /usr/local/lib/python3.11/dist-packages (from torch>=1.8.0->ultralytics) (3.18.0)\n",
            "Requirement already satisfied: typing-extensions>=4.10.0 in /usr/local/lib/python3.11/dist-packages (from torch>=1.8.0->ultralytics) (4.14.0)\n",
            "Requirement already satisfied: networkx in /usr/local/lib/python3.11/dist-packages (from torch>=1.8.0->ultralytics) (3.5)\n",
            "Requirement already satisfied: jinja2 in /usr/local/lib/python3.11/dist-packages (from torch>=1.8.0->ultralytics) (3.1.6)\n",
            "Requirement already satisfied: fsspec in /usr/local/lib/python3.11/dist-packages (from torch>=1.8.0->ultralytics) (2025.3.2)\n",
            "Collecting nvidia-cuda-nvrtc-cu12==12.4.127 (from torch>=1.8.0->ultralytics)\n",
            "  Downloading nvidia_cuda_nvrtc_cu12-12.4.127-py3-none-manylinux2014_x86_64.whl.metadata (1.5 kB)\n",
            "Collecting nvidia-cuda-runtime-cu12==12.4.127 (from torch>=1.8.0->ultralytics)\n",
            "  Downloading nvidia_cuda_runtime_cu12-12.4.127-py3-none-manylinux2014_x86_64.whl.metadata (1.5 kB)\n",
            "Collecting nvidia-cuda-cupti-cu12==12.4.127 (from torch>=1.8.0->ultralytics)\n",
            "  Downloading nvidia_cuda_cupti_cu12-12.4.127-py3-none-manylinux2014_x86_64.whl.metadata (1.6 kB)\n",
            "Collecting nvidia-cudnn-cu12==9.1.0.70 (from torch>=1.8.0->ultralytics)\n",
            "  Downloading nvidia_cudnn_cu12-9.1.0.70-py3-none-manylinux2014_x86_64.whl.metadata (1.6 kB)\n",
            "Collecting nvidia-cublas-cu12==12.4.5.8 (from torch>=1.8.0->ultralytics)\n",
            "  Downloading nvidia_cublas_cu12-12.4.5.8-py3-none-manylinux2014_x86_64.whl.metadata (1.5 kB)\n",
            "Collecting nvidia-cufft-cu12==11.2.1.3 (from torch>=1.8.0->ultralytics)\n",
            "  Downloading nvidia_cufft_cu12-11.2.1.3-py3-none-manylinux2014_x86_64.whl.metadata (1.5 kB)\n",
            "Collecting nvidia-curand-cu12==10.3.5.147 (from torch>=1.8.0->ultralytics)\n",
            "  Downloading nvidia_curand_cu12-10.3.5.147-py3-none-manylinux2014_x86_64.whl.metadata (1.5 kB)\n",
            "Collecting nvidia-cusolver-cu12==11.6.1.9 (from torch>=1.8.0->ultralytics)\n",
            "  Downloading nvidia_cusolver_cu12-11.6.1.9-py3-none-manylinux2014_x86_64.whl.metadata (1.6 kB)\n",
            "Collecting nvidia-cusparse-cu12==12.3.1.170 (from torch>=1.8.0->ultralytics)\n",
            "  Downloading nvidia_cusparse_cu12-12.3.1.170-py3-none-manylinux2014_x86_64.whl.metadata (1.6 kB)\n",
            "Requirement already satisfied: nvidia-cusparselt-cu12==0.6.2 in /usr/local/lib/python3.11/dist-packages (from torch>=1.8.0->ultralytics) (0.6.2)\n",
            "Requirement already satisfied: nvidia-nccl-cu12==2.21.5 in /usr/local/lib/python3.11/dist-packages (from torch>=1.8.0->ultralytics) (2.21.5)\n",
            "Requirement already satisfied: nvidia-nvtx-cu12==12.4.127 in /usr/local/lib/python3.11/dist-packages (from torch>=1.8.0->ultralytics) (12.4.127)\n",
            "Collecting nvidia-nvjitlink-cu12==12.4.127 (from torch>=1.8.0->ultralytics)\n",
            "  Downloading nvidia_nvjitlink_cu12-12.4.127-py3-none-manylinux2014_x86_64.whl.metadata (1.5 kB)\n",
            "Requirement already satisfied: triton==3.2.0 in /usr/local/lib/python3.11/dist-packages (from torch>=1.8.0->ultralytics) (3.2.0)\n",
            "Requirement already satisfied: sympy==1.13.1 in /usr/local/lib/python3.11/dist-packages (from torch>=1.8.0->ultralytics) (1.13.1)\n",
            "Requirement already satisfied: mpmath<1.4,>=1.1.0 in /usr/local/lib/python3.11/dist-packages (from sympy==1.13.1->torch>=1.8.0->ultralytics) (1.3.0)\n",
            "Requirement already satisfied: six>=1.5 in /usr/local/lib/python3.11/dist-packages (from python-dateutil>=2.7->matplotlib>=3.3.0->ultralytics) (1.17.0)\n",
            "Requirement already satisfied: MarkupSafe>=2.0 in /usr/local/lib/python3.11/dist-packages (from jinja2->torch>=1.8.0->ultralytics) (3.0.2)\n",
            "Downloading ultralytics-8.3.160-py3-none-any.whl (1.0 MB)\n",
            "\u001b[2K   \u001b[90m━━━━━━━━━━━━━━━━━━━━━━━━━━━━━━━━━━━━━━━━\u001b[0m \u001b[32m1.0/1.0 MB\u001b[0m \u001b[31m48.3 MB/s\u001b[0m eta \u001b[36m0:00:00\u001b[0m\n",
            "\u001b[?25hDownloading nvidia_cublas_cu12-12.4.5.8-py3-none-manylinux2014_x86_64.whl (363.4 MB)\n",
            "\u001b[2K   \u001b[90m━━━━━━━━━━━━━━━━━━━━━━━━━━━━━━━━━━━━━━━━\u001b[0m \u001b[32m363.4/363.4 MB\u001b[0m \u001b[31m5.5 MB/s\u001b[0m eta \u001b[36m0:00:00\u001b[0m\n",
            "\u001b[?25hDownloading nvidia_cuda_cupti_cu12-12.4.127-py3-none-manylinux2014_x86_64.whl (13.8 MB)\n",
            "\u001b[2K   \u001b[90m━━━━━━━━━━━━━━━━━━━━━━━━━━━━━━━━━━━━━━━━\u001b[0m \u001b[32m13.8/13.8 MB\u001b[0m \u001b[31m129.6 MB/s\u001b[0m eta \u001b[36m0:00:00\u001b[0m\n",
            "\u001b[?25hDownloading nvidia_cuda_nvrtc_cu12-12.4.127-py3-none-manylinux2014_x86_64.whl (24.6 MB)\n",
            "\u001b[2K   \u001b[90m━━━━━━━━━━━━━━━━━━━━━━━━━━━━━━━━━━━━━━━━\u001b[0m \u001b[32m24.6/24.6 MB\u001b[0m \u001b[31m95.7 MB/s\u001b[0m eta \u001b[36m0:00:00\u001b[0m\n",
            "\u001b[?25hDownloading nvidia_cuda_runtime_cu12-12.4.127-py3-none-manylinux2014_x86_64.whl (883 kB)\n",
            "\u001b[2K   \u001b[90m━━━━━━━━━━━━━━━━━━━━━━━━━━━━━━━━━━━━━━━━\u001b[0m \u001b[32m883.7/883.7 kB\u001b[0m \u001b[31m63.9 MB/s\u001b[0m eta \u001b[36m0:00:00\u001b[0m\n",
            "\u001b[?25hDownloading nvidia_cudnn_cu12-9.1.0.70-py3-none-manylinux2014_x86_64.whl (664.8 MB)\n",
            "\u001b[2K   \u001b[90m━━━━━━━━━━━━━━━━━━━━━━━━━━━━━━━━━━━━━━━━\u001b[0m \u001b[32m664.8/664.8 MB\u001b[0m \u001b[31m2.6 MB/s\u001b[0m eta \u001b[36m0:00:00\u001b[0m\n",
            "\u001b[?25hDownloading nvidia_cufft_cu12-11.2.1.3-py3-none-manylinux2014_x86_64.whl (211.5 MB)\n",
            "\u001b[2K   \u001b[90m━━━━━━━━━━━━━━━━━━━━━━━━━━━━━━━━━━━━━━━━\u001b[0m \u001b[32m211.5/211.5 MB\u001b[0m \u001b[31m5.3 MB/s\u001b[0m eta \u001b[36m0:00:00\u001b[0m\n",
            "\u001b[?25hDownloading nvidia_curand_cu12-10.3.5.147-py3-none-manylinux2014_x86_64.whl (56.3 MB)\n",
            "\u001b[2K   \u001b[90m━━━━━━━━━━━━━━━━━━━━━━━━━━━━━━━━━━━━━━━━\u001b[0m \u001b[32m56.3/56.3 MB\u001b[0m \u001b[31m15.4 MB/s\u001b[0m eta \u001b[36m0:00:00\u001b[0m\n",
            "\u001b[?25hDownloading nvidia_cusolver_cu12-11.6.1.9-py3-none-manylinux2014_x86_64.whl (127.9 MB)\n",
            "\u001b[2K   \u001b[90m━━━━━━━━━━━━━━━━━━━━━━━━━━━━━━━━━━━━━━━━\u001b[0m \u001b[32m127.9/127.9 MB\u001b[0m \u001b[31m6.9 MB/s\u001b[0m eta \u001b[36m0:00:00\u001b[0m\n",
            "\u001b[?25hDownloading nvidia_cusparse_cu12-12.3.1.170-py3-none-manylinux2014_x86_64.whl (207.5 MB)\n",
            "\u001b[2K   \u001b[90m━━━━━━━━━━━━━━━━━━━━━━━━━━━━━━━━━━━━━━━━\u001b[0m \u001b[32m207.5/207.5 MB\u001b[0m \u001b[31m5.8 MB/s\u001b[0m eta \u001b[36m0:00:00\u001b[0m\n",
            "\u001b[?25hDownloading nvidia_nvjitlink_cu12-12.4.127-py3-none-manylinux2014_x86_64.whl (21.1 MB)\n",
            "\u001b[2K   \u001b[90m━━━━━━━━━━━━━━━━━━━━━━━━━━━━━━━━━━━━━━━━\u001b[0m \u001b[32m21.1/21.1 MB\u001b[0m \u001b[31m64.0 MB/s\u001b[0m eta \u001b[36m0:00:00\u001b[0m\n",
            "\u001b[?25hDownloading ultralytics_thop-2.0.14-py3-none-any.whl (26 kB)\n",
            "Installing collected packages: nvidia-nvjitlink-cu12, nvidia-curand-cu12, nvidia-cufft-cu12, nvidia-cuda-runtime-cu12, nvidia-cuda-nvrtc-cu12, nvidia-cuda-cupti-cu12, nvidia-cublas-cu12, nvidia-cusparse-cu12, nvidia-cudnn-cu12, nvidia-cusolver-cu12, ultralytics-thop, ultralytics\n",
            "  Attempting uninstall: nvidia-nvjitlink-cu12\n",
            "    Found existing installation: nvidia-nvjitlink-cu12 12.5.82\n",
            "    Uninstalling nvidia-nvjitlink-cu12-12.5.82:\n",
            "      Successfully uninstalled nvidia-nvjitlink-cu12-12.5.82\n",
            "  Attempting uninstall: nvidia-curand-cu12\n",
            "    Found existing installation: nvidia-curand-cu12 10.3.6.82\n",
            "    Uninstalling nvidia-curand-cu12-10.3.6.82:\n",
            "      Successfully uninstalled nvidia-curand-cu12-10.3.6.82\n",
            "  Attempting uninstall: nvidia-cufft-cu12\n",
            "    Found existing installation: nvidia-cufft-cu12 11.2.3.61\n",
            "    Uninstalling nvidia-cufft-cu12-11.2.3.61:\n",
            "      Successfully uninstalled nvidia-cufft-cu12-11.2.3.61\n",
            "  Attempting uninstall: nvidia-cuda-runtime-cu12\n",
            "    Found existing installation: nvidia-cuda-runtime-cu12 12.5.82\n",
            "    Uninstalling nvidia-cuda-runtime-cu12-12.5.82:\n",
            "      Successfully uninstalled nvidia-cuda-runtime-cu12-12.5.82\n",
            "  Attempting uninstall: nvidia-cuda-nvrtc-cu12\n",
            "    Found existing installation: nvidia-cuda-nvrtc-cu12 12.5.82\n",
            "    Uninstalling nvidia-cuda-nvrtc-cu12-12.5.82:\n",
            "      Successfully uninstalled nvidia-cuda-nvrtc-cu12-12.5.82\n",
            "  Attempting uninstall: nvidia-cuda-cupti-cu12\n",
            "    Found existing installation: nvidia-cuda-cupti-cu12 12.5.82\n",
            "    Uninstalling nvidia-cuda-cupti-cu12-12.5.82:\n",
            "      Successfully uninstalled nvidia-cuda-cupti-cu12-12.5.82\n",
            "  Attempting uninstall: nvidia-cublas-cu12\n",
            "    Found existing installation: nvidia-cublas-cu12 12.5.3.2\n",
            "    Uninstalling nvidia-cublas-cu12-12.5.3.2:\n",
            "      Successfully uninstalled nvidia-cublas-cu12-12.5.3.2\n",
            "  Attempting uninstall: nvidia-cusparse-cu12\n",
            "    Found existing installation: nvidia-cusparse-cu12 12.5.1.3\n",
            "    Uninstalling nvidia-cusparse-cu12-12.5.1.3:\n",
            "      Successfully uninstalled nvidia-cusparse-cu12-12.5.1.3\n",
            "  Attempting uninstall: nvidia-cudnn-cu12\n",
            "    Found existing installation: nvidia-cudnn-cu12 9.3.0.75\n",
            "    Uninstalling nvidia-cudnn-cu12-9.3.0.75:\n",
            "      Successfully uninstalled nvidia-cudnn-cu12-9.3.0.75\n",
            "  Attempting uninstall: nvidia-cusolver-cu12\n",
            "    Found existing installation: nvidia-cusolver-cu12 11.6.3.83\n",
            "    Uninstalling nvidia-cusolver-cu12-11.6.3.83:\n",
            "      Successfully uninstalled nvidia-cusolver-cu12-11.6.3.83\n",
            "Successfully installed nvidia-cublas-cu12-12.4.5.8 nvidia-cuda-cupti-cu12-12.4.127 nvidia-cuda-nvrtc-cu12-12.4.127 nvidia-cuda-runtime-cu12-12.4.127 nvidia-cudnn-cu12-9.1.0.70 nvidia-cufft-cu12-11.2.1.3 nvidia-curand-cu12-10.3.5.147 nvidia-cusolver-cu12-11.6.1.9 nvidia-cusparse-cu12-12.3.1.170 nvidia-nvjitlink-cu12-12.4.127 ultralytics-8.3.160 ultralytics-thop-2.0.14\n"
          ]
        }
      ]
    },
    {
      "cell_type": "code",
      "source": [
        "os.listdir(\"/content\")\n"
      ],
      "metadata": {
        "colab": {
          "base_uri": "https://localhost:8080/"
        },
        "id": "TTY7objCOt_1",
        "outputId": "def3f1d8-8be8-4cd1-d596-2044a30ccdbd"
      },
      "execution_count": null,
      "outputs": [
        {
          "output_type": "execute_result",
          "data": {
            "text/plain": [
              "['.config', 'dataset', 'My First Project.v4i.yolov8.zip', 'sample_data']"
            ]
          },
          "metadata": {},
          "execution_count": 7
        }
      ]
    },
    {
      "cell_type": "code",
      "source": [
        "import os, glob, pprint\n",
        "pprint.pprint(glob.glob(\"/content/*\"))"
      ],
      "metadata": {
        "colab": {
          "base_uri": "https://localhost:8080/"
        },
        "id": "svCS8kan4DOS",
        "outputId": "81232830-abc4-45ba-ee07-b3e05be05b5a"
      },
      "execution_count": null,
      "outputs": [
        {
          "output_type": "stream",
          "name": "stdout",
          "text": [
            "['/content/My First Project.v4i.yolov8.zip', '/content/sample_data']\n"
          ]
        }
      ]
    },
    {
      "cell_type": "code",
      "source": [
        "import zipfile, os, textwrap\n",
        "\n",
        "# 1) ZIP dosyasının TAM yolu\n",
        "zip_path = \"/content/My First Project.v4i.yolov8.zip\"\n",
        "\n",
        "# 2) Nereye çıkartılacak?\n",
        "extract_path = \"/content/dataset\"\n",
        "os.makedirs(extract_path, exist_ok=True)\n",
        "\n",
        "# 3) ZIP’i aç\n",
        "with zipfile.ZipFile(zip_path, 'r') as z:\n",
        "    z.extractall(extract_path)\n",
        "\n",
        "print(\"✅ ZIP açıldı, ilk 5 dosya:\", os.listdir(extract_path)[:5])"
      ],
      "metadata": {
        "colab": {
          "base_uri": "https://localhost:8080/"
        },
        "id": "N0_RuOZJ4O27",
        "outputId": "741e45c8-de04-447f-b547-44447f559ebd"
      },
      "execution_count": null,
      "outputs": [
        {
          "output_type": "stream",
          "name": "stdout",
          "text": [
            "✅ ZIP açıldı, ilk 5 dosya: ['train', 'test', 'data.yaml', 'valid', 'README.roboflow.txt']\n"
          ]
        }
      ]
    },
    {
      "cell_type": "code",
      "source": [
        "data_yaml = f\"{extract_path}/data.yaml\"\n",
        "with open(data_yaml) as f:\n",
        "    print(f.read())\n"
      ],
      "metadata": {
        "id": "l1YhS96U4XL7",
        "colab": {
          "base_uri": "https://localhost:8080/"
        },
        "outputId": "44c635f6-0eda-4900-d436-dd41f6f1b52e"
      },
      "execution_count": null,
      "outputs": [
        {
          "output_type": "stream",
          "name": "stdout",
          "text": [
            "train: ../train/images\n",
            "val: ../valid/images\n",
            "test: ../test/images\n",
            "\n",
            "nc: 1\n",
            "names: ['kedo']\n",
            "\n",
            "roboflow:\n",
            "  workspace: aa-quhu6\n",
            "  project: my-first-project-rr3vu\n",
            "  version: 4\n",
            "  license: CC BY 4.0\n",
            "  url: https://universe.roboflow.com/aa-quhu6/my-first-project-rr3vu/dataset/4\n"
          ]
        }
      ]
    },
    {
      "cell_type": "code",
      "source": [
        "import textwrap, os\n",
        "\n",
        "# Çıkardığın klasör\n",
        "extract_path = \"/content/dataset\"          # bir önceki hücrede kullandığımızla aynı\n",
        "data_yaml    = f\"{extract_path}/data.yaml\" # tam yol\n",
        "\n",
        "# Yeni içerik\n",
        "fixed_yaml = textwrap.dedent(f\"\"\"\n",
        "train: {extract_path}/train/images\n",
        "val: {extract_path}/valid/images\n",
        "test: {extract_path}/test/images      # test klasörün yoksa bu satırı silebilirsin\n",
        "nc: 1\n",
        "names: [\"kedi\"]\n",
        "\"\"\")\n",
        "\n",
        "with open(data_yaml, \"w\") as f:\n",
        "    f.write(fixed_yaml)\n",
        "\n",
        "print(\"✅ data.yaml güncellendi!\\n\")\n",
        "with open(data_yaml) as f:\n",
        "    print(f.read())"
      ],
      "metadata": {
        "id": "7TtWDQqJ4cwa",
        "colab": {
          "base_uri": "https://localhost:8080/"
        },
        "outputId": "667c49d5-3081-48a9-80c1-c584e7f9f97a"
      },
      "execution_count": null,
      "outputs": [
        {
          "output_type": "stream",
          "name": "stdout",
          "text": [
            "✅ data.yaml güncellendi!\n",
            "\n",
            "\n",
            "train: /content/dataset/train/images\n",
            "val: /content/dataset/valid/images\n",
            "test: /content/dataset/test/images      # test klasörün yoksa bu satırı silebilirsin\n",
            "nc: 1\n",
            "names: [\"kedi\"]\n",
            "\n"
          ]
        }
      ]
    },
    {
      "cell_type": "code",
      "source": [
        "from ultralytics import YOLO\n",
        "\n",
        "model = YOLO(\"yolov8s.pt\")  # veya yolov8n.pt\n",
        "model.train(\n",
        "    data=data_yaml,\n",
        "    imgsz=416,\n",
        "    epochs=50,\n",
        "    batch=16,\n",
        "    project=\"kedi_project\",\n",
        "    name=\"yolov8s_cat\"\n",
        ")"
      ],
      "metadata": {
        "id": "4hOXoMZe4mpO",
        "colab": {
          "base_uri": "https://localhost:8080/"
        },
        "outputId": "fefebb02-7d5b-4a16-f1dc-2e745a3c0fd9"
      },
      "execution_count": null,
      "outputs": [
        {
          "output_type": "stream",
          "name": "stdout",
          "text": [
            "Creating new Ultralytics Settings v0.0.6 file ✅ \n",
            "View Ultralytics Settings with 'yolo settings' or at '/root/.config/Ultralytics/settings.json'\n",
            "Update Settings with 'yolo settings key=value', i.e. 'yolo settings runs_dir=path/to/dir'. For help see https://docs.ultralytics.com/quickstart/#ultralytics-settings.\n",
            "Downloading https://github.com/ultralytics/assets/releases/download/v8.3.0/yolov8s.pt to 'yolov8s.pt'...\n"
          ]
        },
        {
          "output_type": "stream",
          "name": "stderr",
          "text": [
            "100%|██████████| 21.5M/21.5M [00:00<00:00, 74.3MB/s]\n"
          ]
        },
        {
          "output_type": "stream",
          "name": "stdout",
          "text": [
            "Ultralytics 8.3.160 🚀 Python-3.11.13 torch-2.6.0+cu124 CUDA:0 (Tesla T4, 15095MiB)\n",
            "\u001b[34m\u001b[1mengine/trainer: \u001b[0magnostic_nms=False, amp=True, augment=False, auto_augment=randaugment, batch=16, bgr=0.0, box=7.5, cache=False, cfg=None, classes=None, close_mosaic=10, cls=0.5, conf=None, copy_paste=0.0, copy_paste_mode=flip, cos_lr=False, cutmix=0.0, data=/content/dataset/data.yaml, degrees=0.0, deterministic=True, device=None, dfl=1.5, dnn=False, dropout=0.0, dynamic=False, embed=None, epochs=50, erasing=0.4, exist_ok=False, fliplr=0.5, flipud=0.0, format=torchscript, fraction=1.0, freeze=None, half=False, hsv_h=0.015, hsv_s=0.7, hsv_v=0.4, imgsz=416, int8=False, iou=0.7, keras=False, kobj=1.0, line_width=None, lr0=0.01, lrf=0.01, mask_ratio=4, max_det=300, mixup=0.0, mode=train, model=yolov8s.pt, momentum=0.937, mosaic=1.0, multi_scale=False, name=yolov8s_cat, nbs=64, nms=False, opset=None, optimize=False, optimizer=auto, overlap_mask=True, patience=100, perspective=0.0, plots=True, pose=12.0, pretrained=True, profile=False, project=kedi_project, rect=False, resume=False, retina_masks=False, save=True, save_conf=False, save_crop=False, save_dir=kedi_project/yolov8s_cat, save_frames=False, save_json=False, save_period=-1, save_txt=False, scale=0.5, seed=0, shear=0.0, show=False, show_boxes=True, show_conf=True, show_labels=True, simplify=True, single_cls=False, source=None, split=val, stream_buffer=False, task=detect, time=None, tracker=botsort.yaml, translate=0.1, val=True, verbose=True, vid_stride=1, visualize=False, warmup_bias_lr=0.1, warmup_epochs=3.0, warmup_momentum=0.8, weight_decay=0.0005, workers=8, workspace=None\n",
            "Downloading https://ultralytics.com/assets/Arial.ttf to '/root/.config/Ultralytics/Arial.ttf'...\n"
          ]
        },
        {
          "output_type": "stream",
          "name": "stderr",
          "text": [
            "100%|██████████| 755k/755k [00:00<00:00, 141MB/s]"
          ]
        },
        {
          "output_type": "stream",
          "name": "stdout",
          "text": [
            "Overriding model.yaml nc=80 with nc=1\n",
            "\n",
            "                   from  n    params  module                                       arguments                     \n",
            "  0                  -1  1       928  ultralytics.nn.modules.conv.Conv             [3, 32, 3, 2]                 \n",
            "  1                  -1  1     18560  ultralytics.nn.modules.conv.Conv             [32, 64, 3, 2]                \n",
            "  2                  -1  1     29056  ultralytics.nn.modules.block.C2f             [64, 64, 1, True]             \n",
            "  3                  -1  1     73984  ultralytics.nn.modules.conv.Conv             [64, 128, 3, 2]               \n",
            "  4                  -1  2    197632  ultralytics.nn.modules.block.C2f             [128, 128, 2, True]           \n",
            "  5                  -1  1    295424  ultralytics.nn.modules.conv.Conv             [128, 256, 3, 2]              \n",
            "  6                  -1  2    788480  ultralytics.nn.modules.block.C2f             [256, 256, 2, True]           \n",
            "  7                  -1  1   1180672  ultralytics.nn.modules.conv.Conv             [256, 512, 3, 2]              \n",
            "  8                  -1  1   1838080  ultralytics.nn.modules.block.C2f             [512, 512, 1, True]           \n",
            "  9                  -1  1    656896  ultralytics.nn.modules.block.SPPF            [512, 512, 5]                 \n",
            " 10                  -1  1         0  torch.nn.modules.upsampling.Upsample         [None, 2, 'nearest']          \n",
            " 11             [-1, 6]  1         0  ultralytics.nn.modules.conv.Concat           [1]                           \n",
            " 12                  -1  1    591360  ultralytics.nn.modules.block.C2f             [768, 256, 1]                 \n",
            " 13                  -1  1         0  torch.nn.modules.upsampling.Upsample         [None, 2, 'nearest']          \n",
            " 14             [-1, 4]  1         0  ultralytics.nn.modules.conv.Concat           [1]                           \n",
            " 15                  -1  1    148224  ultralytics.nn.modules.block.C2f             [384, 128, 1]                 \n",
            " 16                  -1  1    147712  ultralytics.nn.modules.conv.Conv             [128, 128, 3, 2]              \n",
            " 17            [-1, 12]  1         0  ultralytics.nn.modules.conv.Concat           [1]                           \n",
            " 18                  -1  1    493056  ultralytics.nn.modules.block.C2f             [384, 256, 1]                 \n",
            " 19                  -1  1    590336  ultralytics.nn.modules.conv.Conv             [256, 256, 3, 2]              \n",
            " 20             [-1, 9]  1         0  ultralytics.nn.modules.conv.Concat           [1]                           \n",
            " 21                  -1  1   1969152  ultralytics.nn.modules.block.C2f             [768, 512, 1]                 \n"
          ]
        },
        {
          "output_type": "stream",
          "name": "stderr",
          "text": [
            "\n"
          ]
        },
        {
          "output_type": "stream",
          "name": "stdout",
          "text": [
            " 22        [15, 18, 21]  1   2116435  ultralytics.nn.modules.head.Detect           [1, [128, 256, 512]]          \n",
            "Model summary: 129 layers, 11,135,987 parameters, 11,135,971 gradients, 28.6 GFLOPs\n",
            "\n",
            "Transferred 349/355 items from pretrained weights\n",
            "Freezing layer 'model.22.dfl.conv.weight'\n",
            "\u001b[34m\u001b[1mAMP: \u001b[0mrunning Automatic Mixed Precision (AMP) checks...\n",
            "Downloading https://github.com/ultralytics/assets/releases/download/v8.3.0/yolo11n.pt to 'yolo11n.pt'...\n"
          ]
        },
        {
          "output_type": "stream",
          "name": "stderr",
          "text": [
            "100%|██████████| 5.35M/5.35M [00:00<00:00, 413MB/s]\n"
          ]
        },
        {
          "output_type": "stream",
          "name": "stdout",
          "text": [
            "\u001b[34m\u001b[1mAMP: \u001b[0mchecks passed ✅\n",
            "\u001b[34m\u001b[1mtrain: \u001b[0mFast image access ✅ (ping: 0.0±0.0 ms, read: 705.3±429.0 MB/s, size: 41.9 KB)\n"
          ]
        },
        {
          "output_type": "stream",
          "name": "stderr",
          "text": [
            "\u001b[34m\u001b[1mtrain: \u001b[0mScanning /content/dataset/train/labels... 705 images, 2 backgrounds, 0 corrupt: 100%|██████████| 705/705 [00:00<00:00, 2272.33it/s]"
          ]
        },
        {
          "output_type": "stream",
          "name": "stdout",
          "text": [
            "\u001b[34m\u001b[1mtrain: \u001b[0mNew cache created: /content/dataset/train/labels.cache\n"
          ]
        },
        {
          "output_type": "stream",
          "name": "stderr",
          "text": [
            "\n"
          ]
        },
        {
          "output_type": "stream",
          "name": "stdout",
          "text": [
            "\u001b[34m\u001b[1malbumentations: \u001b[0mBlur(p=0.01, blur_limit=(3, 7)), MedianBlur(p=0.01, blur_limit=(3, 7)), ToGray(p=0.01, method='weighted_average', num_output_channels=3), CLAHE(p=0.01, clip_limit=(1.0, 4.0), tile_grid_size=(8, 8))\n",
            "\u001b[34m\u001b[1mval: \u001b[0mFast image access ✅ (ping: 0.0±0.0 ms, read: 428.2±343.7 MB/s, size: 18.3 KB)\n"
          ]
        },
        {
          "output_type": "stream",
          "name": "stderr",
          "text": [
            "\u001b[34m\u001b[1mval: \u001b[0mScanning /content/dataset/valid/labels... 201 images, 0 backgrounds, 0 corrupt: 100%|██████████| 201/201 [00:00<00:00, 644.35it/s]"
          ]
        },
        {
          "output_type": "stream",
          "name": "stdout",
          "text": [
            "\u001b[34m\u001b[1mval: \u001b[0mNew cache created: /content/dataset/valid/labels.cache\n"
          ]
        },
        {
          "output_type": "stream",
          "name": "stderr",
          "text": [
            "\n"
          ]
        },
        {
          "output_type": "stream",
          "name": "stdout",
          "text": [
            "Plotting labels to kedi_project/yolov8s_cat/labels.jpg... \n",
            "\u001b[34m\u001b[1moptimizer:\u001b[0m 'optimizer=auto' found, ignoring 'lr0=0.01' and 'momentum=0.937' and determining best 'optimizer', 'lr0' and 'momentum' automatically... \n",
            "\u001b[34m\u001b[1moptimizer:\u001b[0m AdamW(lr=0.002, momentum=0.9) with parameter groups 57 weight(decay=0.0), 64 weight(decay=0.0005), 63 bias(decay=0.0)\n",
            "Image sizes 416 train, 416 val\n",
            "Using 2 dataloader workers\n",
            "Logging results to \u001b[1mkedi_project/yolov8s_cat\u001b[0m\n",
            "Starting training for 50 epochs...\n",
            "\n",
            "      Epoch    GPU_mem   box_loss   cls_loss   dfl_loss  Instances       Size\n"
          ]
        },
        {
          "output_type": "stream",
          "name": "stderr",
          "text": [
            "       1/50      1.75G      1.116      1.709       1.39          1        416: 100%|██████████| 45/45 [00:14<00:00,  3.09it/s]\n",
            "                 Class     Images  Instances      Box(P          R      mAP50  mAP50-95): 100%|██████████| 7/7 [00:03<00:00,  1.90it/s]"
          ]
        },
        {
          "output_type": "stream",
          "name": "stdout",
          "text": [
            "                   all        201        208      0.425      0.534      0.436      0.203\n"
          ]
        },
        {
          "output_type": "stream",
          "name": "stderr",
          "text": [
            "\n"
          ]
        },
        {
          "output_type": "stream",
          "name": "stdout",
          "text": [
            "\n",
            "      Epoch    GPU_mem   box_loss   cls_loss   dfl_loss  Instances       Size\n"
          ]
        },
        {
          "output_type": "stream",
          "name": "stderr",
          "text": [
            "       2/50      2.12G      1.368      1.649      1.556          3        416: 100%|██████████| 45/45 [00:12<00:00,  3.73it/s]\n",
            "                 Class     Images  Instances      Box(P          R      mAP50  mAP50-95): 100%|██████████| 7/7 [00:01<00:00,  4.14it/s]"
          ]
        },
        {
          "output_type": "stream",
          "name": "stdout",
          "text": [
            "                   all        201        208      0.153      0.308       0.13     0.0429\n"
          ]
        },
        {
          "output_type": "stream",
          "name": "stderr",
          "text": [
            "\n"
          ]
        },
        {
          "output_type": "stream",
          "name": "stdout",
          "text": [
            "\n",
            "      Epoch    GPU_mem   box_loss   cls_loss   dfl_loss  Instances       Size\n"
          ]
        },
        {
          "output_type": "stream",
          "name": "stderr",
          "text": [
            "       3/50      2.16G        1.5      1.726      1.641          2        416: 100%|██████████| 45/45 [00:11<00:00,  3.83it/s]\n",
            "                 Class     Images  Instances      Box(P          R      mAP50  mAP50-95): 100%|██████████| 7/7 [00:01<00:00,  3.52it/s]\n"
          ]
        },
        {
          "output_type": "stream",
          "name": "stdout",
          "text": [
            "                   all        201        208      0.263      0.361      0.215     0.0876\n",
            "\n",
            "      Epoch    GPU_mem   box_loss   cls_loss   dfl_loss  Instances       Size\n"
          ]
        },
        {
          "output_type": "stream",
          "name": "stderr",
          "text": [
            "       4/50       2.2G      1.497      1.717      1.617          4        416: 100%|██████████| 45/45 [00:11<00:00,  3.86it/s]\n",
            "                 Class     Images  Instances      Box(P          R      mAP50  mAP50-95): 100%|██████████| 7/7 [00:01<00:00,  3.78it/s]"
          ]
        },
        {
          "output_type": "stream",
          "name": "stdout",
          "text": [
            "                   all        201        208      0.124       0.28        0.1     0.0364\n"
          ]
        },
        {
          "output_type": "stream",
          "name": "stderr",
          "text": [
            "\n"
          ]
        },
        {
          "output_type": "stream",
          "name": "stdout",
          "text": [
            "\n",
            "      Epoch    GPU_mem   box_loss   cls_loss   dfl_loss  Instances       Size\n"
          ]
        },
        {
          "output_type": "stream",
          "name": "stderr",
          "text": [
            "       5/50      2.22G      1.422      1.621      1.548          1        416: 100%|██████████| 45/45 [00:11<00:00,  3.88it/s]\n",
            "                 Class     Images  Instances      Box(P          R      mAP50  mAP50-95): 100%|██████████| 7/7 [00:01<00:00,  3.71it/s]"
          ]
        },
        {
          "output_type": "stream",
          "name": "stdout",
          "text": [
            "                   all        201        208      0.283      0.428      0.235     0.0885\n"
          ]
        },
        {
          "output_type": "stream",
          "name": "stderr",
          "text": [
            "\n"
          ]
        },
        {
          "output_type": "stream",
          "name": "stdout",
          "text": [
            "\n",
            "      Epoch    GPU_mem   box_loss   cls_loss   dfl_loss  Instances       Size\n"
          ]
        },
        {
          "output_type": "stream",
          "name": "stderr",
          "text": [
            "       6/50      2.27G      1.469      1.641       1.57          3        416: 100%|██████████| 45/45 [00:11<00:00,  3.77it/s]\n",
            "                 Class     Images  Instances      Box(P          R      mAP50  mAP50-95): 100%|██████████| 7/7 [00:01<00:00,  4.19it/s]\n"
          ]
        },
        {
          "output_type": "stream",
          "name": "stdout",
          "text": [
            "                   all        201        208      0.348      0.409      0.319      0.131\n",
            "\n",
            "      Epoch    GPU_mem   box_loss   cls_loss   dfl_loss  Instances       Size\n"
          ]
        },
        {
          "output_type": "stream",
          "name": "stderr",
          "text": [
            "       7/50       2.3G      1.389      1.551      1.525          2        416: 100%|██████████| 45/45 [00:11<00:00,  3.81it/s]\n",
            "                 Class     Images  Instances      Box(P          R      mAP50  mAP50-95): 100%|██████████| 7/7 [00:01<00:00,  4.35it/s]"
          ]
        },
        {
          "output_type": "stream",
          "name": "stdout",
          "text": [
            "                   all        201        208      0.437      0.448       0.39      0.184\n"
          ]
        },
        {
          "output_type": "stream",
          "name": "stderr",
          "text": [
            "\n"
          ]
        },
        {
          "output_type": "stream",
          "name": "stdout",
          "text": [
            "\n",
            "      Epoch    GPU_mem   box_loss   cls_loss   dfl_loss  Instances       Size\n"
          ]
        },
        {
          "output_type": "stream",
          "name": "stderr",
          "text": [
            "       8/50      2.34G       1.39      1.534      1.602          1        416: 100%|██████████| 45/45 [00:11<00:00,  3.77it/s]\n",
            "                 Class     Images  Instances      Box(P          R      mAP50  mAP50-95): 100%|██████████| 7/7 [00:01<00:00,  3.89it/s]"
          ]
        },
        {
          "output_type": "stream",
          "name": "stdout",
          "text": [
            "                   all        201        208      0.486      0.599      0.549      0.254\n"
          ]
        },
        {
          "output_type": "stream",
          "name": "stderr",
          "text": [
            "\n"
          ]
        },
        {
          "output_type": "stream",
          "name": "stdout",
          "text": [
            "\n",
            "      Epoch    GPU_mem   box_loss   cls_loss   dfl_loss  Instances       Size\n"
          ]
        },
        {
          "output_type": "stream",
          "name": "stderr",
          "text": [
            "       9/50      2.36G      1.305      1.499      1.475          2        416: 100%|██████████| 45/45 [00:11<00:00,  3.90it/s]\n",
            "                 Class     Images  Instances      Box(P          R      mAP50  mAP50-95): 100%|██████████| 7/7 [00:01<00:00,  3.69it/s]"
          ]
        },
        {
          "output_type": "stream",
          "name": "stdout",
          "text": [
            "                   all        201        208       0.63       0.63      0.658       0.36\n"
          ]
        },
        {
          "output_type": "stream",
          "name": "stderr",
          "text": [
            "\n"
          ]
        },
        {
          "output_type": "stream",
          "name": "stdout",
          "text": [
            "\n",
            "      Epoch    GPU_mem   box_loss   cls_loss   dfl_loss  Instances       Size\n"
          ]
        },
        {
          "output_type": "stream",
          "name": "stderr",
          "text": [
            "      10/50      2.41G      1.276      1.456       1.46          3        416: 100%|██████████| 45/45 [00:11<00:00,  3.90it/s]\n",
            "                 Class     Images  Instances      Box(P          R      mAP50  mAP50-95): 100%|██████████| 7/7 [00:01<00:00,  4.05it/s]\n"
          ]
        },
        {
          "output_type": "stream",
          "name": "stdout",
          "text": [
            "                   all        201        208      0.577      0.601       0.62      0.348\n",
            "\n",
            "      Epoch    GPU_mem   box_loss   cls_loss   dfl_loss  Instances       Size\n"
          ]
        },
        {
          "output_type": "stream",
          "name": "stderr",
          "text": [
            "      11/50      2.45G      1.223      1.376      1.448          1        416: 100%|██████████| 45/45 [00:11<00:00,  3.89it/s]\n",
            "                 Class     Images  Instances      Box(P          R      mAP50  mAP50-95): 100%|██████████| 7/7 [00:01<00:00,  3.77it/s]"
          ]
        },
        {
          "output_type": "stream",
          "name": "stdout",
          "text": [
            "                   all        201        208      0.637      0.606      0.653      0.329\n"
          ]
        },
        {
          "output_type": "stream",
          "name": "stderr",
          "text": [
            "\n"
          ]
        },
        {
          "output_type": "stream",
          "name": "stdout",
          "text": [
            "\n",
            "      Epoch    GPU_mem   box_loss   cls_loss   dfl_loss  Instances       Size\n"
          ]
        },
        {
          "output_type": "stream",
          "name": "stderr",
          "text": [
            "      12/50      2.49G      1.203      1.354      1.422          2        416: 100%|██████████| 45/45 [00:11<00:00,  3.81it/s]\n",
            "                 Class     Images  Instances      Box(P          R      mAP50  mAP50-95): 100%|██████████| 7/7 [00:01<00:00,  3.51it/s]"
          ]
        },
        {
          "output_type": "stream",
          "name": "stdout",
          "text": [
            "                   all        201        208      0.593      0.514      0.548      0.284\n"
          ]
        },
        {
          "output_type": "stream",
          "name": "stderr",
          "text": [
            "\n"
          ]
        },
        {
          "output_type": "stream",
          "name": "stdout",
          "text": [
            "\n",
            "      Epoch    GPU_mem   box_loss   cls_loss   dfl_loss  Instances       Size\n"
          ]
        },
        {
          "output_type": "stream",
          "name": "stderr",
          "text": [
            "      13/50      2.51G      1.171      1.272      1.391          2        416: 100%|██████████| 45/45 [00:11<00:00,  3.80it/s]\n",
            "                 Class     Images  Instances      Box(P          R      mAP50  mAP50-95): 100%|██████████| 7/7 [00:01<00:00,  4.37it/s]"
          ]
        },
        {
          "output_type": "stream",
          "name": "stdout",
          "text": [
            "                   all        201        208      0.737      0.649      0.747      0.427\n"
          ]
        },
        {
          "output_type": "stream",
          "name": "stderr",
          "text": [
            "\n"
          ]
        },
        {
          "output_type": "stream",
          "name": "stdout",
          "text": [
            "\n",
            "      Epoch    GPU_mem   box_loss   cls_loss   dfl_loss  Instances       Size\n"
          ]
        },
        {
          "output_type": "stream",
          "name": "stderr",
          "text": [
            "      14/50      2.56G      1.191      1.285      1.394          1        416: 100%|██████████| 45/45 [00:11<00:00,  3.78it/s]\n",
            "                 Class     Images  Instances      Box(P          R      mAP50  mAP50-95): 100%|██████████| 7/7 [00:01<00:00,  3.81it/s]"
          ]
        },
        {
          "output_type": "stream",
          "name": "stdout",
          "text": [
            "                   all        201        208      0.619       0.62      0.638      0.346\n"
          ]
        },
        {
          "output_type": "stream",
          "name": "stderr",
          "text": [
            "\n"
          ]
        },
        {
          "output_type": "stream",
          "name": "stdout",
          "text": [
            "\n",
            "      Epoch    GPU_mem   box_loss   cls_loss   dfl_loss  Instances       Size\n"
          ]
        },
        {
          "output_type": "stream",
          "name": "stderr",
          "text": [
            "      15/50      2.74G      1.151      1.252        1.4          3        416: 100%|██████████| 45/45 [00:11<00:00,  3.85it/s]\n",
            "                 Class     Images  Instances      Box(P          R      mAP50  mAP50-95): 100%|██████████| 7/7 [00:01<00:00,  3.94it/s]"
          ]
        },
        {
          "output_type": "stream",
          "name": "stdout",
          "text": [
            "                   all        201        208      0.649      0.529      0.559      0.279\n"
          ]
        },
        {
          "output_type": "stream",
          "name": "stderr",
          "text": [
            "\n"
          ]
        },
        {
          "output_type": "stream",
          "name": "stdout",
          "text": [
            "\n",
            "      Epoch    GPU_mem   box_loss   cls_loss   dfl_loss  Instances       Size\n"
          ]
        },
        {
          "output_type": "stream",
          "name": "stderr",
          "text": [
            "      16/50      2.78G      1.144      1.253      1.388          5        416: 100%|██████████| 45/45 [00:12<00:00,  3.64it/s]\n",
            "                 Class     Images  Instances      Box(P          R      mAP50  mAP50-95): 100%|██████████| 7/7 [00:01<00:00,  4.10it/s]"
          ]
        },
        {
          "output_type": "stream",
          "name": "stdout",
          "text": [
            "                   all        201        208      0.603      0.688      0.638       0.33\n"
          ]
        },
        {
          "output_type": "stream",
          "name": "stderr",
          "text": [
            "\n"
          ]
        },
        {
          "output_type": "stream",
          "name": "stdout",
          "text": [
            "\n",
            "      Epoch    GPU_mem   box_loss   cls_loss   dfl_loss  Instances       Size\n"
          ]
        },
        {
          "output_type": "stream",
          "name": "stderr",
          "text": [
            "      17/50       2.8G      1.088      1.169      1.344          4        416: 100%|██████████| 45/45 [00:12<00:00,  3.68it/s]\n",
            "                 Class     Images  Instances      Box(P          R      mAP50  mAP50-95): 100%|██████████| 7/7 [00:01<00:00,  4.03it/s]"
          ]
        },
        {
          "output_type": "stream",
          "name": "stdout",
          "text": [
            "                   all        201        208      0.776      0.648      0.757      0.468\n"
          ]
        },
        {
          "output_type": "stream",
          "name": "stderr",
          "text": [
            "\n"
          ]
        },
        {
          "output_type": "stream",
          "name": "stdout",
          "text": [
            "\n",
            "      Epoch    GPU_mem   box_loss   cls_loss   dfl_loss  Instances       Size\n"
          ]
        },
        {
          "output_type": "stream",
          "name": "stderr",
          "text": [
            "      18/50      2.85G      1.138        1.2       1.38          2        416: 100%|██████████| 45/45 [00:11<00:00,  3.87it/s]\n",
            "                 Class     Images  Instances      Box(P          R      mAP50  mAP50-95): 100%|██████████| 7/7 [00:01<00:00,  3.86it/s]"
          ]
        },
        {
          "output_type": "stream",
          "name": "stdout",
          "text": [
            "                   all        201        208      0.632      0.663      0.691      0.412\n"
          ]
        },
        {
          "output_type": "stream",
          "name": "stderr",
          "text": [
            "\n"
          ]
        },
        {
          "output_type": "stream",
          "name": "stdout",
          "text": [
            "\n",
            "      Epoch    GPU_mem   box_loss   cls_loss   dfl_loss  Instances       Size\n"
          ]
        },
        {
          "output_type": "stream",
          "name": "stderr",
          "text": [
            "      19/50      2.88G      1.072      1.125      1.322          2        416: 100%|██████████| 45/45 [00:11<00:00,  3.85it/s]\n",
            "                 Class     Images  Instances      Box(P          R      mAP50  mAP50-95): 100%|██████████| 7/7 [00:01<00:00,  4.23it/s]"
          ]
        },
        {
          "output_type": "stream",
          "name": "stdout",
          "text": [
            "                   all        201        208      0.701      0.702      0.741      0.483\n"
          ]
        },
        {
          "output_type": "stream",
          "name": "stderr",
          "text": [
            "\n"
          ]
        },
        {
          "output_type": "stream",
          "name": "stdout",
          "text": [
            "\n",
            "      Epoch    GPU_mem   box_loss   cls_loss   dfl_loss  Instances       Size\n"
          ]
        },
        {
          "output_type": "stream",
          "name": "stderr",
          "text": [
            "      20/50      2.92G      1.039      1.112      1.317          4        416: 100%|██████████| 45/45 [00:11<00:00,  4.00it/s]\n",
            "                 Class     Images  Instances      Box(P          R      mAP50  mAP50-95): 100%|██████████| 7/7 [00:01<00:00,  4.00it/s]"
          ]
        },
        {
          "output_type": "stream",
          "name": "stdout",
          "text": [
            "                   all        201        208      0.793      0.692      0.774      0.504\n"
          ]
        },
        {
          "output_type": "stream",
          "name": "stderr",
          "text": [
            "\n"
          ]
        },
        {
          "output_type": "stream",
          "name": "stdout",
          "text": [
            "\n",
            "      Epoch    GPU_mem   box_loss   cls_loss   dfl_loss  Instances       Size\n"
          ]
        },
        {
          "output_type": "stream",
          "name": "stderr",
          "text": [
            "      21/50      2.94G      1.032       1.12      1.309          4        416: 100%|██████████| 45/45 [00:11<00:00,  3.81it/s]\n",
            "                 Class     Images  Instances      Box(P          R      mAP50  mAP50-95): 100%|██████████| 7/7 [00:01<00:00,  3.71it/s]"
          ]
        },
        {
          "output_type": "stream",
          "name": "stdout",
          "text": [
            "                   all        201        208      0.668      0.725      0.759      0.503\n"
          ]
        },
        {
          "output_type": "stream",
          "name": "stderr",
          "text": [
            "\n"
          ]
        },
        {
          "output_type": "stream",
          "name": "stdout",
          "text": [
            "\n",
            "      Epoch    GPU_mem   box_loss   cls_loss   dfl_loss  Instances       Size\n"
          ]
        },
        {
          "output_type": "stream",
          "name": "stderr",
          "text": [
            "      22/50      3.04G      1.017      1.057      1.297          4        416: 100%|██████████| 45/45 [00:11<00:00,  3.86it/s]\n",
            "                 Class     Images  Instances      Box(P          R      mAP50  mAP50-95): 100%|██████████| 7/7 [00:01<00:00,  4.10it/s]"
          ]
        },
        {
          "output_type": "stream",
          "name": "stdout",
          "text": [
            "                   all        201        208       0.73      0.644      0.746      0.472\n"
          ]
        },
        {
          "output_type": "stream",
          "name": "stderr",
          "text": [
            "\n"
          ]
        },
        {
          "output_type": "stream",
          "name": "stdout",
          "text": [
            "\n",
            "      Epoch    GPU_mem   box_loss   cls_loss   dfl_loss  Instances       Size\n"
          ]
        },
        {
          "output_type": "stream",
          "name": "stderr",
          "text": [
            "      23/50      3.31G      1.021      1.057      1.317          2        416: 100%|██████████| 45/45 [00:12<00:00,  3.62it/s]\n",
            "                 Class     Images  Instances      Box(P          R      mAP50  mAP50-95): 100%|██████████| 7/7 [00:01<00:00,  4.49it/s]"
          ]
        },
        {
          "output_type": "stream",
          "name": "stdout",
          "text": [
            "                   all        201        208      0.736      0.682       0.77       0.48\n"
          ]
        },
        {
          "output_type": "stream",
          "name": "stderr",
          "text": [
            "\n"
          ]
        },
        {
          "output_type": "stream",
          "name": "stdout",
          "text": [
            "\n",
            "      Epoch    GPU_mem   box_loss   cls_loss   dfl_loss  Instances       Size\n"
          ]
        },
        {
          "output_type": "stream",
          "name": "stderr",
          "text": [
            "      24/50      3.35G      1.016      1.055      1.301          3        416: 100%|██████████| 45/45 [00:11<00:00,  3.78it/s]\n",
            "                 Class     Images  Instances      Box(P          R      mAP50  mAP50-95): 100%|██████████| 7/7 [00:01<00:00,  4.42it/s]"
          ]
        },
        {
          "output_type": "stream",
          "name": "stdout",
          "text": [
            "                   all        201        208        0.8      0.807      0.847      0.522\n"
          ]
        },
        {
          "output_type": "stream",
          "name": "stderr",
          "text": [
            "\n"
          ]
        },
        {
          "output_type": "stream",
          "name": "stdout",
          "text": [
            "\n",
            "      Epoch    GPU_mem   box_loss   cls_loss   dfl_loss  Instances       Size\n"
          ]
        },
        {
          "output_type": "stream",
          "name": "stderr",
          "text": [
            "      25/50      3.37G     0.9573     0.9775      1.261          4        416: 100%|██████████| 45/45 [00:11<00:00,  3.77it/s]\n",
            "                 Class     Images  Instances      Box(P          R      mAP50  mAP50-95): 100%|██████████| 7/7 [00:01<00:00,  3.61it/s]"
          ]
        },
        {
          "output_type": "stream",
          "name": "stdout",
          "text": [
            "                   all        201        208      0.813      0.692      0.805       0.53\n"
          ]
        },
        {
          "output_type": "stream",
          "name": "stderr",
          "text": [
            "\n"
          ]
        },
        {
          "output_type": "stream",
          "name": "stdout",
          "text": [
            "\n",
            "      Epoch    GPU_mem   box_loss   cls_loss   dfl_loss  Instances       Size\n"
          ]
        },
        {
          "output_type": "stream",
          "name": "stderr",
          "text": [
            "      26/50      3.42G     0.9626     0.9834      1.265          4        416: 100%|██████████| 45/45 [00:11<00:00,  3.88it/s]\n",
            "                 Class     Images  Instances      Box(P          R      mAP50  mAP50-95): 100%|██████████| 7/7 [00:01<00:00,  3.80it/s]"
          ]
        },
        {
          "output_type": "stream",
          "name": "stdout",
          "text": [
            "                   all        201        208       0.79      0.724       0.82      0.518\n"
          ]
        },
        {
          "output_type": "stream",
          "name": "stderr",
          "text": [
            "\n"
          ]
        },
        {
          "output_type": "stream",
          "name": "stdout",
          "text": [
            "\n",
            "      Epoch    GPU_mem   box_loss   cls_loss   dfl_loss  Instances       Size\n"
          ]
        },
        {
          "output_type": "stream",
          "name": "stderr",
          "text": [
            "      27/50       3.7G     0.9554     0.9625      1.253          2        416: 100%|██████████| 45/45 [00:12<00:00,  3.73it/s]\n",
            "                 Class     Images  Instances      Box(P          R      mAP50  mAP50-95): 100%|██████████| 7/7 [00:01<00:00,  3.74it/s]"
          ]
        },
        {
          "output_type": "stream",
          "name": "stdout",
          "text": [
            "                   all        201        208      0.763      0.788      0.839      0.529\n"
          ]
        },
        {
          "output_type": "stream",
          "name": "stderr",
          "text": [
            "\n"
          ]
        },
        {
          "output_type": "stream",
          "name": "stdout",
          "text": [
            "\n",
            "      Epoch    GPU_mem   box_loss   cls_loss   dfl_loss  Instances       Size\n"
          ]
        },
        {
          "output_type": "stream",
          "name": "stderr",
          "text": [
            "      28/50      3.73G     0.9221     0.8987      1.235          2        416: 100%|██████████| 45/45 [00:12<00:00,  3.71it/s]\n",
            "                 Class     Images  Instances      Box(P          R      mAP50  mAP50-95): 100%|██████████| 7/7 [00:01<00:00,  3.58it/s]"
          ]
        },
        {
          "output_type": "stream",
          "name": "stdout",
          "text": [
            "                   all        201        208      0.734      0.779      0.785       0.49\n"
          ]
        },
        {
          "output_type": "stream",
          "name": "stderr",
          "text": [
            "\n"
          ]
        },
        {
          "output_type": "stream",
          "name": "stdout",
          "text": [
            "\n",
            "      Epoch    GPU_mem   box_loss   cls_loss   dfl_loss  Instances       Size\n"
          ]
        },
        {
          "output_type": "stream",
          "name": "stderr",
          "text": [
            "      29/50      3.76G     0.9138     0.9212      1.234          2        416: 100%|██████████| 45/45 [00:11<00:00,  3.80it/s]\n",
            "                 Class     Images  Instances      Box(P          R      mAP50  mAP50-95): 100%|██████████| 7/7 [00:01<00:00,  4.22it/s]"
          ]
        },
        {
          "output_type": "stream",
          "name": "stdout",
          "text": [
            "                   all        201        208      0.754       0.75       0.83      0.552\n"
          ]
        },
        {
          "output_type": "stream",
          "name": "stderr",
          "text": [
            "\n"
          ]
        },
        {
          "output_type": "stream",
          "name": "stdout",
          "text": [
            "\n",
            "      Epoch    GPU_mem   box_loss   cls_loss   dfl_loss  Instances       Size\n"
          ]
        },
        {
          "output_type": "stream",
          "name": "stderr",
          "text": [
            "      30/50      3.81G     0.9054     0.9267      1.218          2        416: 100%|██████████| 45/45 [00:11<00:00,  3.89it/s]\n",
            "                 Class     Images  Instances      Box(P          R      mAP50  mAP50-95): 100%|██████████| 7/7 [00:01<00:00,  4.13it/s]"
          ]
        },
        {
          "output_type": "stream",
          "name": "stdout",
          "text": [
            "                   all        201        208       0.83      0.764      0.851      0.577\n"
          ]
        },
        {
          "output_type": "stream",
          "name": "stderr",
          "text": [
            "\n"
          ]
        },
        {
          "output_type": "stream",
          "name": "stdout",
          "text": [
            "\n",
            "      Epoch    GPU_mem   box_loss   cls_loss   dfl_loss  Instances       Size\n"
          ]
        },
        {
          "output_type": "stream",
          "name": "stderr",
          "text": [
            "      31/50      3.84G     0.8928     0.8757      1.229          1        416: 100%|██████████| 45/45 [00:11<00:00,  3.76it/s]\n",
            "                 Class     Images  Instances      Box(P          R      mAP50  mAP50-95): 100%|██████████| 7/7 [00:01<00:00,  4.32it/s]"
          ]
        },
        {
          "output_type": "stream",
          "name": "stdout",
          "text": [
            "                   all        201        208      0.798      0.808      0.874      0.557\n"
          ]
        },
        {
          "output_type": "stream",
          "name": "stderr",
          "text": [
            "\n"
          ]
        },
        {
          "output_type": "stream",
          "name": "stdout",
          "text": [
            "\n",
            "      Epoch    GPU_mem   box_loss   cls_loss   dfl_loss  Instances       Size\n"
          ]
        },
        {
          "output_type": "stream",
          "name": "stderr",
          "text": [
            "      32/50      3.88G     0.9461     0.9231      1.249          1        416: 100%|██████████| 45/45 [00:11<00:00,  3.87it/s]\n",
            "                 Class     Images  Instances      Box(P          R      mAP50  mAP50-95): 100%|██████████| 7/7 [00:01<00:00,  4.20it/s]"
          ]
        },
        {
          "output_type": "stream",
          "name": "stdout",
          "text": [
            "                   all        201        208      0.819      0.764      0.842      0.554\n"
          ]
        },
        {
          "output_type": "stream",
          "name": "stderr",
          "text": [
            "\n"
          ]
        },
        {
          "output_type": "stream",
          "name": "stdout",
          "text": [
            "\n",
            "      Epoch    GPU_mem   box_loss   cls_loss   dfl_loss  Instances       Size\n"
          ]
        },
        {
          "output_type": "stream",
          "name": "stderr",
          "text": [
            "      33/50       3.9G     0.8707     0.8679      1.194          2        416: 100%|██████████| 45/45 [00:12<00:00,  3.70it/s]\n",
            "                 Class     Images  Instances      Box(P          R      mAP50  mAP50-95): 100%|██████████| 7/7 [00:01<00:00,  3.80it/s]"
          ]
        },
        {
          "output_type": "stream",
          "name": "stdout",
          "text": [
            "                   all        201        208      0.865      0.769      0.883      0.606\n"
          ]
        },
        {
          "output_type": "stream",
          "name": "stderr",
          "text": [
            "\n"
          ]
        },
        {
          "output_type": "stream",
          "name": "stdout",
          "text": [
            "\n",
            "      Epoch    GPU_mem   box_loss   cls_loss   dfl_loss  Instances       Size\n"
          ]
        },
        {
          "output_type": "stream",
          "name": "stderr",
          "text": [
            "      34/50      3.95G      0.828      0.804      1.183          4        416: 100%|██████████| 45/45 [00:11<00:00,  3.82it/s]\n",
            "                 Class     Images  Instances      Box(P          R      mAP50  mAP50-95): 100%|██████████| 7/7 [00:01<00:00,  4.28it/s]"
          ]
        },
        {
          "output_type": "stream",
          "name": "stdout",
          "text": [
            "                   all        201        208      0.777      0.838      0.864      0.596\n"
          ]
        },
        {
          "output_type": "stream",
          "name": "stderr",
          "text": [
            "\n"
          ]
        },
        {
          "output_type": "stream",
          "name": "stdout",
          "text": [
            "\n",
            "      Epoch    GPU_mem   box_loss   cls_loss   dfl_loss  Instances       Size\n"
          ]
        },
        {
          "output_type": "stream",
          "name": "stderr",
          "text": [
            "      35/50      4.13G     0.8512     0.8177      1.191          3        416: 100%|██████████| 45/45 [00:12<00:00,  3.73it/s]\n",
            "                 Class     Images  Instances      Box(P          R      mAP50  mAP50-95): 100%|██████████| 7/7 [00:01<00:00,  3.74it/s]"
          ]
        },
        {
          "output_type": "stream",
          "name": "stdout",
          "text": [
            "                   all        201        208      0.778      0.803      0.854      0.599\n"
          ]
        },
        {
          "output_type": "stream",
          "name": "stderr",
          "text": [
            "\n"
          ]
        },
        {
          "output_type": "stream",
          "name": "stdout",
          "text": [
            "\n",
            "      Epoch    GPU_mem   box_loss   cls_loss   dfl_loss  Instances       Size\n"
          ]
        },
        {
          "output_type": "stream",
          "name": "stderr",
          "text": [
            "      36/50      4.17G     0.7903     0.7937       1.16          1        416: 100%|██████████| 45/45 [00:11<00:00,  3.79it/s]\n",
            "                 Class     Images  Instances      Box(P          R      mAP50  mAP50-95): 100%|██████████| 7/7 [00:01<00:00,  4.29it/s]"
          ]
        },
        {
          "output_type": "stream",
          "name": "stdout",
          "text": [
            "                   all        201        208       0.84      0.809      0.881      0.621\n"
          ]
        },
        {
          "output_type": "stream",
          "name": "stderr",
          "text": [
            "\n"
          ]
        },
        {
          "output_type": "stream",
          "name": "stdout",
          "text": [
            "\n",
            "      Epoch    GPU_mem   box_loss   cls_loss   dfl_loss  Instances       Size\n"
          ]
        },
        {
          "output_type": "stream",
          "name": "stderr",
          "text": [
            "      37/50      4.19G     0.8305     0.7496      1.174          4        416: 100%|██████████| 45/45 [00:11<00:00,  3.87it/s]\n",
            "                 Class     Images  Instances      Box(P          R      mAP50  mAP50-95): 100%|██████████| 7/7 [00:01<00:00,  4.00it/s]"
          ]
        },
        {
          "output_type": "stream",
          "name": "stdout",
          "text": [
            "                   all        201        208      0.829      0.792      0.883      0.624\n"
          ]
        },
        {
          "output_type": "stream",
          "name": "stderr",
          "text": [
            "\n"
          ]
        },
        {
          "output_type": "stream",
          "name": "stdout",
          "text": [
            "\n",
            "      Epoch    GPU_mem   box_loss   cls_loss   dfl_loss  Instances       Size\n"
          ]
        },
        {
          "output_type": "stream",
          "name": "stderr",
          "text": [
            "      38/50      4.24G     0.7662     0.7143       1.14          4        416: 100%|██████████| 45/45 [00:12<00:00,  3.75it/s]\n",
            "                 Class     Images  Instances      Box(P          R      mAP50  mAP50-95): 100%|██████████| 7/7 [00:02<00:00,  3.29it/s]"
          ]
        },
        {
          "output_type": "stream",
          "name": "stdout",
          "text": [
            "                   all        201        208      0.813      0.837      0.864      0.622\n"
          ]
        },
        {
          "output_type": "stream",
          "name": "stderr",
          "text": [
            "\n"
          ]
        },
        {
          "output_type": "stream",
          "name": "stdout",
          "text": [
            "\n",
            "      Epoch    GPU_mem   box_loss   cls_loss   dfl_loss  Instances       Size\n"
          ]
        },
        {
          "output_type": "stream",
          "name": "stderr",
          "text": [
            "      39/50      4.42G     0.8082       0.73      1.167          3        416: 100%|██████████| 45/45 [00:11<00:00,  3.79it/s]\n",
            "                 Class     Images  Instances      Box(P          R      mAP50  mAP50-95): 100%|██████████| 7/7 [00:01<00:00,  4.59it/s]"
          ]
        },
        {
          "output_type": "stream",
          "name": "stdout",
          "text": [
            "                   all        201        208       0.84      0.808      0.873       0.61\n"
          ]
        },
        {
          "output_type": "stream",
          "name": "stderr",
          "text": [
            "\n"
          ]
        },
        {
          "output_type": "stream",
          "name": "stdout",
          "text": [
            "\n",
            "      Epoch    GPU_mem   box_loss   cls_loss   dfl_loss  Instances       Size\n"
          ]
        },
        {
          "output_type": "stream",
          "name": "stderr",
          "text": [
            "      40/50      4.46G     0.7596     0.7061      1.131          1        416: 100%|██████████| 45/45 [00:12<00:00,  3.66it/s]\n",
            "                 Class     Images  Instances      Box(P          R      mAP50  mAP50-95): 100%|██████████| 7/7 [00:01<00:00,  4.08it/s]"
          ]
        },
        {
          "output_type": "stream",
          "name": "stdout",
          "text": [
            "                   all        201        208       0.91      0.779      0.898      0.628\n"
          ]
        },
        {
          "output_type": "stream",
          "name": "stderr",
          "text": [
            "\n"
          ]
        },
        {
          "output_type": "stream",
          "name": "stdout",
          "text": [
            "Closing dataloader mosaic\n",
            "\u001b[34m\u001b[1malbumentations: \u001b[0mBlur(p=0.01, blur_limit=(3, 7)), MedianBlur(p=0.01, blur_limit=(3, 7)), ToGray(p=0.01, method='weighted_average', num_output_channels=3), CLAHE(p=0.01, clip_limit=(1.0, 4.0), tile_grid_size=(8, 8))\n",
            "\n",
            "      Epoch    GPU_mem   box_loss   cls_loss   dfl_loss  Instances       Size\n"
          ]
        },
        {
          "output_type": "stream",
          "name": "stderr",
          "text": [
            "      41/50      4.48G     0.6812     0.6239      1.082          1        416: 100%|██████████| 45/45 [00:13<00:00,  3.44it/s]\n",
            "                 Class     Images  Instances      Box(P          R      mAP50  mAP50-95): 100%|██████████| 7/7 [00:01<00:00,  4.55it/s]"
          ]
        },
        {
          "output_type": "stream",
          "name": "stdout",
          "text": [
            "                   all        201        208      0.839      0.827      0.887      0.614\n"
          ]
        },
        {
          "output_type": "stream",
          "name": "stderr",
          "text": [
            "\n"
          ]
        },
        {
          "output_type": "stream",
          "name": "stdout",
          "text": [
            "\n",
            "      Epoch    GPU_mem   box_loss   cls_loss   dfl_loss  Instances       Size\n"
          ]
        },
        {
          "output_type": "stream",
          "name": "stderr",
          "text": [
            "      42/50      4.53G     0.6256     0.5741      1.032          1        416: 100%|██████████| 45/45 [00:12<00:00,  3.74it/s]\n",
            "                 Class     Images  Instances      Box(P          R      mAP50  mAP50-95): 100%|██████████| 7/7 [00:01<00:00,  3.87it/s]"
          ]
        },
        {
          "output_type": "stream",
          "name": "stdout",
          "text": [
            "                   all        201        208      0.814      0.832      0.876      0.616\n"
          ]
        },
        {
          "output_type": "stream",
          "name": "stderr",
          "text": [
            "\n"
          ]
        },
        {
          "output_type": "stream",
          "name": "stdout",
          "text": [
            "\n",
            "      Epoch    GPU_mem   box_loss   cls_loss   dfl_loss  Instances       Size\n"
          ]
        },
        {
          "output_type": "stream",
          "name": "stderr",
          "text": [
            "      43/50      4.57G     0.6016     0.5053      1.003          1        416: 100%|██████████| 45/45 [00:11<00:00,  3.96it/s]\n",
            "                 Class     Images  Instances      Box(P          R      mAP50  mAP50-95): 100%|██████████| 7/7 [00:01<00:00,  3.80it/s]"
          ]
        },
        {
          "output_type": "stream",
          "name": "stdout",
          "text": [
            "                   all        201        208      0.808      0.812      0.865      0.635\n"
          ]
        },
        {
          "output_type": "stream",
          "name": "stderr",
          "text": [
            "\n"
          ]
        },
        {
          "output_type": "stream",
          "name": "stdout",
          "text": [
            "\n",
            "      Epoch    GPU_mem   box_loss   cls_loss   dfl_loss  Instances       Size\n"
          ]
        },
        {
          "output_type": "stream",
          "name": "stderr",
          "text": [
            "      44/50      4.61G     0.5855     0.4864     0.9994          1        416: 100%|██████████| 45/45 [00:11<00:00,  3.87it/s]\n",
            "                 Class     Images  Instances      Box(P          R      mAP50  mAP50-95): 100%|██████████| 7/7 [00:01<00:00,  4.19it/s]"
          ]
        },
        {
          "output_type": "stream",
          "name": "stdout",
          "text": [
            "                   all        201        208       0.89      0.803      0.902      0.655\n"
          ]
        },
        {
          "output_type": "stream",
          "name": "stderr",
          "text": [
            "\n"
          ]
        },
        {
          "output_type": "stream",
          "name": "stdout",
          "text": [
            "\n",
            "      Epoch    GPU_mem   box_loss   cls_loss   dfl_loss  Instances       Size\n"
          ]
        },
        {
          "output_type": "stream",
          "name": "stderr",
          "text": [
            "      45/50      4.63G     0.5717     0.4405      1.004          1        416: 100%|██████████| 45/45 [00:11<00:00,  3.83it/s]\n",
            "                 Class     Images  Instances      Box(P          R      mAP50  mAP50-95): 100%|██████████| 7/7 [00:01<00:00,  4.39it/s]"
          ]
        },
        {
          "output_type": "stream",
          "name": "stdout",
          "text": [
            "                   all        201        208      0.879      0.837      0.912      0.663\n"
          ]
        },
        {
          "output_type": "stream",
          "name": "stderr",
          "text": [
            "\n"
          ]
        },
        {
          "output_type": "stream",
          "name": "stdout",
          "text": [
            "\n",
            "      Epoch    GPU_mem   box_loss   cls_loss   dfl_loss  Instances       Size\n"
          ]
        },
        {
          "output_type": "stream",
          "name": "stderr",
          "text": [
            "      46/50      4.68G       0.57     0.4537     0.9954          1        416: 100%|██████████| 45/45 [00:11<00:00,  3.94it/s]\n",
            "                 Class     Images  Instances      Box(P          R      mAP50  mAP50-95): 100%|██████████| 7/7 [00:01<00:00,  3.82it/s]"
          ]
        },
        {
          "output_type": "stream",
          "name": "stdout",
          "text": [
            "                   all        201        208      0.889       0.85      0.911      0.689\n"
          ]
        },
        {
          "output_type": "stream",
          "name": "stderr",
          "text": [
            "\n"
          ]
        },
        {
          "output_type": "stream",
          "name": "stdout",
          "text": [
            "\n",
            "      Epoch    GPU_mem   box_loss   cls_loss   dfl_loss  Instances       Size\n"
          ]
        },
        {
          "output_type": "stream",
          "name": "stderr",
          "text": [
            "      47/50      4.86G     0.5496       0.46     0.9847          1        416: 100%|██████████| 45/45 [00:11<00:00,  3.94it/s]\n",
            "                 Class     Images  Instances      Box(P          R      mAP50  mAP50-95): 100%|██████████| 7/7 [00:01<00:00,  3.95it/s]"
          ]
        },
        {
          "output_type": "stream",
          "name": "stdout",
          "text": [
            "                   all        201        208       0.86      0.837      0.906       0.68\n"
          ]
        },
        {
          "output_type": "stream",
          "name": "stderr",
          "text": [
            "\n"
          ]
        },
        {
          "output_type": "stream",
          "name": "stdout",
          "text": [
            "\n",
            "      Epoch    GPU_mem   box_loss   cls_loss   dfl_loss  Instances       Size\n"
          ]
        },
        {
          "output_type": "stream",
          "name": "stderr",
          "text": [
            "      48/50      4.89G     0.5378     0.4202     0.9738          1        416: 100%|██████████| 45/45 [00:11<00:00,  3.77it/s]\n",
            "                 Class     Images  Instances      Box(P          R      mAP50  mAP50-95): 100%|██████████| 7/7 [00:01<00:00,  3.90it/s]"
          ]
        },
        {
          "output_type": "stream",
          "name": "stdout",
          "text": [
            "                   all        201        208      0.881      0.846      0.907      0.684\n"
          ]
        },
        {
          "output_type": "stream",
          "name": "stderr",
          "text": [
            "\n"
          ]
        },
        {
          "output_type": "stream",
          "name": "stdout",
          "text": [
            "\n",
            "      Epoch    GPU_mem   box_loss   cls_loss   dfl_loss  Instances       Size\n"
          ]
        },
        {
          "output_type": "stream",
          "name": "stderr",
          "text": [
            "      49/50      4.92G     0.5007     0.4146     0.9517          1        416: 100%|██████████| 45/45 [00:11<00:00,  3.86it/s]\n",
            "                 Class     Images  Instances      Box(P          R      mAP50  mAP50-95): 100%|██████████| 7/7 [00:01<00:00,  4.22it/s]"
          ]
        },
        {
          "output_type": "stream",
          "name": "stdout",
          "text": [
            "                   all        201        208      0.883      0.827      0.906      0.683\n"
          ]
        },
        {
          "output_type": "stream",
          "name": "stderr",
          "text": [
            "\n"
          ]
        },
        {
          "output_type": "stream",
          "name": "stdout",
          "text": [
            "\n",
            "      Epoch    GPU_mem   box_loss   cls_loss   dfl_loss  Instances       Size\n"
          ]
        },
        {
          "output_type": "stream",
          "name": "stderr",
          "text": [
            "      50/50      4.97G     0.4788     0.3788     0.9418          1        416: 100%|██████████| 45/45 [00:11<00:00,  3.85it/s]\n",
            "                 Class     Images  Instances      Box(P          R      mAP50  mAP50-95): 100%|██████████| 7/7 [00:01<00:00,  4.13it/s]"
          ]
        },
        {
          "output_type": "stream",
          "name": "stdout",
          "text": [
            "                   all        201        208      0.925      0.808       0.91      0.691\n"
          ]
        },
        {
          "output_type": "stream",
          "name": "stderr",
          "text": [
            "\n"
          ]
        },
        {
          "output_type": "stream",
          "name": "stdout",
          "text": [
            "\n",
            "50 epochs completed in 0.200 hours.\n",
            "Optimizer stripped from kedi_project/yolov8s_cat/weights/last.pt, 22.5MB\n",
            "Optimizer stripped from kedi_project/yolov8s_cat/weights/best.pt, 22.5MB\n",
            "\n",
            "Validating kedi_project/yolov8s_cat/weights/best.pt...\n",
            "Ultralytics 8.3.160 🚀 Python-3.11.13 torch-2.6.0+cu124 CUDA:0 (Tesla T4, 15095MiB)\n",
            "Model summary (fused): 72 layers, 11,125,971 parameters, 0 gradients, 28.4 GFLOPs\n"
          ]
        },
        {
          "output_type": "stream",
          "name": "stderr",
          "text": [
            "                 Class     Images  Instances      Box(P          R      mAP50  mAP50-95): 100%|██████████| 7/7 [00:02<00:00,  2.46it/s]\n"
          ]
        },
        {
          "output_type": "stream",
          "name": "stdout",
          "text": [
            "                   all        201        208      0.926      0.808       0.91      0.691\n",
            "Speed: 0.3ms preprocess, 3.2ms inference, 0.0ms loss, 2.9ms postprocess per image\n",
            "Results saved to \u001b[1mkedi_project/yolov8s_cat\u001b[0m\n"
          ]
        },
        {
          "output_type": "execute_result",
          "data": {
            "text/plain": [
              "ultralytics.utils.metrics.DetMetrics object with attributes:\n",
              "\n",
              "ap_class_index: array([0])\n",
              "box: ultralytics.utils.metrics.Metric object\n",
              "confusion_matrix: <ultralytics.utils.metrics.ConfusionMatrix object at 0x7a745a792e10>\n",
              "curves: ['Precision-Recall(B)', 'F1-Confidence(B)', 'Precision-Confidence(B)', 'Recall-Confidence(B)']\n",
              "curves_results: [[array([          0,    0.001001,    0.002002,    0.003003,    0.004004,    0.005005,    0.006006,    0.007007,    0.008008,    0.009009,     0.01001,    0.011011,    0.012012,    0.013013,    0.014014,    0.015015,    0.016016,    0.017017,    0.018018,    0.019019,     0.02002,    0.021021,    0.022022,    0.023023,\n",
              "          0.024024,    0.025025,    0.026026,    0.027027,    0.028028,    0.029029,     0.03003,    0.031031,    0.032032,    0.033033,    0.034034,    0.035035,    0.036036,    0.037037,    0.038038,    0.039039,     0.04004,    0.041041,    0.042042,    0.043043,    0.044044,    0.045045,    0.046046,    0.047047,\n",
              "          0.048048,    0.049049,     0.05005,    0.051051,    0.052052,    0.053053,    0.054054,    0.055055,    0.056056,    0.057057,    0.058058,    0.059059,     0.06006,    0.061061,    0.062062,    0.063063,    0.064064,    0.065065,    0.066066,    0.067067,    0.068068,    0.069069,     0.07007,    0.071071,\n",
              "          0.072072,    0.073073,    0.074074,    0.075075,    0.076076,    0.077077,    0.078078,    0.079079,     0.08008,    0.081081,    0.082082,    0.083083,    0.084084,    0.085085,    0.086086,    0.087087,    0.088088,    0.089089,     0.09009,    0.091091,    0.092092,    0.093093,    0.094094,    0.095095,\n",
              "          0.096096,    0.097097,    0.098098,    0.099099,      0.1001,      0.1011,      0.1021,      0.1031,      0.1041,     0.10511,     0.10611,     0.10711,     0.10811,     0.10911,     0.11011,     0.11111,     0.11211,     0.11311,     0.11411,     0.11512,     0.11612,     0.11712,     0.11812,     0.11912,\n",
              "           0.12012,     0.12112,     0.12212,     0.12312,     0.12412,     0.12513,     0.12613,     0.12713,     0.12813,     0.12913,     0.13013,     0.13113,     0.13213,     0.13313,     0.13413,     0.13514,     0.13614,     0.13714,     0.13814,     0.13914,     0.14014,     0.14114,     0.14214,     0.14314,\n",
              "           0.14414,     0.14515,     0.14615,     0.14715,     0.14815,     0.14915,     0.15015,     0.15115,     0.15215,     0.15315,     0.15415,     0.15516,     0.15616,     0.15716,     0.15816,     0.15916,     0.16016,     0.16116,     0.16216,     0.16316,     0.16416,     0.16517,     0.16617,     0.16717,\n",
              "           0.16817,     0.16917,     0.17017,     0.17117,     0.17217,     0.17317,     0.17417,     0.17518,     0.17618,     0.17718,     0.17818,     0.17918,     0.18018,     0.18118,     0.18218,     0.18318,     0.18418,     0.18519,     0.18619,     0.18719,     0.18819,     0.18919,     0.19019,     0.19119,\n",
              "           0.19219,     0.19319,     0.19419,      0.1952,      0.1962,      0.1972,      0.1982,      0.1992,      0.2002,      0.2012,      0.2022,      0.2032,      0.2042,     0.20521,     0.20621,     0.20721,     0.20821,     0.20921,     0.21021,     0.21121,     0.21221,     0.21321,     0.21421,     0.21522,\n",
              "           0.21622,     0.21722,     0.21822,     0.21922,     0.22022,     0.22122,     0.22222,     0.22322,     0.22422,     0.22523,     0.22623,     0.22723,     0.22823,     0.22923,     0.23023,     0.23123,     0.23223,     0.23323,     0.23423,     0.23524,     0.23624,     0.23724,     0.23824,     0.23924,\n",
              "           0.24024,     0.24124,     0.24224,     0.24324,     0.24424,     0.24525,     0.24625,     0.24725,     0.24825,     0.24925,     0.25025,     0.25125,     0.25225,     0.25325,     0.25425,     0.25526,     0.25626,     0.25726,     0.25826,     0.25926,     0.26026,     0.26126,     0.26226,     0.26326,\n",
              "           0.26426,     0.26527,     0.26627,     0.26727,     0.26827,     0.26927,     0.27027,     0.27127,     0.27227,     0.27327,     0.27427,     0.27528,     0.27628,     0.27728,     0.27828,     0.27928,     0.28028,     0.28128,     0.28228,     0.28328,     0.28428,     0.28529,     0.28629,     0.28729,\n",
              "           0.28829,     0.28929,     0.29029,     0.29129,     0.29229,     0.29329,     0.29429,      0.2953,      0.2963,      0.2973,      0.2983,      0.2993,      0.3003,      0.3013,      0.3023,      0.3033,      0.3043,     0.30531,     0.30631,     0.30731,     0.30831,     0.30931,     0.31031,     0.31131,\n",
              "           0.31231,     0.31331,     0.31431,     0.31532,     0.31632,     0.31732,     0.31832,     0.31932,     0.32032,     0.32132,     0.32232,     0.32332,     0.32432,     0.32533,     0.32633,     0.32733,     0.32833,     0.32933,     0.33033,     0.33133,     0.33233,     0.33333,     0.33433,     0.33534,\n",
              "           0.33634,     0.33734,     0.33834,     0.33934,     0.34034,     0.34134,     0.34234,     0.34334,     0.34434,     0.34535,     0.34635,     0.34735,     0.34835,     0.34935,     0.35035,     0.35135,     0.35235,     0.35335,     0.35435,     0.35536,     0.35636,     0.35736,     0.35836,     0.35936,\n",
              "           0.36036,     0.36136,     0.36236,     0.36336,     0.36436,     0.36537,     0.36637,     0.36737,     0.36837,     0.36937,     0.37037,     0.37137,     0.37237,     0.37337,     0.37437,     0.37538,     0.37638,     0.37738,     0.37838,     0.37938,     0.38038,     0.38138,     0.38238,     0.38338,\n",
              "           0.38438,     0.38539,     0.38639,     0.38739,     0.38839,     0.38939,     0.39039,     0.39139,     0.39239,     0.39339,     0.39439,      0.3954,      0.3964,      0.3974,      0.3984,      0.3994,      0.4004,      0.4014,      0.4024,      0.4034,      0.4044,     0.40541,     0.40641,     0.40741,\n",
              "           0.40841,     0.40941,     0.41041,     0.41141,     0.41241,     0.41341,     0.41441,     0.41542,     0.41642,     0.41742,     0.41842,     0.41942,     0.42042,     0.42142,     0.42242,     0.42342,     0.42442,     0.42543,     0.42643,     0.42743,     0.42843,     0.42943,     0.43043,     0.43143,\n",
              "           0.43243,     0.43343,     0.43443,     0.43544,     0.43644,     0.43744,     0.43844,     0.43944,     0.44044,     0.44144,     0.44244,     0.44344,     0.44444,     0.44545,     0.44645,     0.44745,     0.44845,     0.44945,     0.45045,     0.45145,     0.45245,     0.45345,     0.45445,     0.45546,\n",
              "           0.45646,     0.45746,     0.45846,     0.45946,     0.46046,     0.46146,     0.46246,     0.46346,     0.46446,     0.46547,     0.46647,     0.46747,     0.46847,     0.46947,     0.47047,     0.47147,     0.47247,     0.47347,     0.47447,     0.47548,     0.47648,     0.47748,     0.47848,     0.47948,\n",
              "           0.48048,     0.48148,     0.48248,     0.48348,     0.48448,     0.48549,     0.48649,     0.48749,     0.48849,     0.48949,     0.49049,     0.49149,     0.49249,     0.49349,     0.49449,      0.4955,      0.4965,      0.4975,      0.4985,      0.4995,      0.5005,      0.5015,      0.5025,      0.5035,\n",
              "            0.5045,     0.50551,     0.50651,     0.50751,     0.50851,     0.50951,     0.51051,     0.51151,     0.51251,     0.51351,     0.51451,     0.51552,     0.51652,     0.51752,     0.51852,     0.51952,     0.52052,     0.52152,     0.52252,     0.52352,     0.52452,     0.52553,     0.52653,     0.52753,\n",
              "           0.52853,     0.52953,     0.53053,     0.53153,     0.53253,     0.53353,     0.53453,     0.53554,     0.53654,     0.53754,     0.53854,     0.53954,     0.54054,     0.54154,     0.54254,     0.54354,     0.54454,     0.54555,     0.54655,     0.54755,     0.54855,     0.54955,     0.55055,     0.55155,\n",
              "           0.55255,     0.55355,     0.55455,     0.55556,     0.55656,     0.55756,     0.55856,     0.55956,     0.56056,     0.56156,     0.56256,     0.56356,     0.56456,     0.56557,     0.56657,     0.56757,     0.56857,     0.56957,     0.57057,     0.57157,     0.57257,     0.57357,     0.57457,     0.57558,\n",
              "           0.57658,     0.57758,     0.57858,     0.57958,     0.58058,     0.58158,     0.58258,     0.58358,     0.58458,     0.58559,     0.58659,     0.58759,     0.58859,     0.58959,     0.59059,     0.59159,     0.59259,     0.59359,     0.59459,      0.5956,      0.5966,      0.5976,      0.5986,      0.5996,\n",
              "            0.6006,      0.6016,      0.6026,      0.6036,      0.6046,     0.60561,     0.60661,     0.60761,     0.60861,     0.60961,     0.61061,     0.61161,     0.61261,     0.61361,     0.61461,     0.61562,     0.61662,     0.61762,     0.61862,     0.61962,     0.62062,     0.62162,     0.62262,     0.62362,\n",
              "           0.62462,     0.62563,     0.62663,     0.62763,     0.62863,     0.62963,     0.63063,     0.63163,     0.63263,     0.63363,     0.63463,     0.63564,     0.63664,     0.63764,     0.63864,     0.63964,     0.64064,     0.64164,     0.64264,     0.64364,     0.64464,     0.64565,     0.64665,     0.64765,\n",
              "           0.64865,     0.64965,     0.65065,     0.65165,     0.65265,     0.65365,     0.65465,     0.65566,     0.65666,     0.65766,     0.65866,     0.65966,     0.66066,     0.66166,     0.66266,     0.66366,     0.66466,     0.66567,     0.66667,     0.66767,     0.66867,     0.66967,     0.67067,     0.67167,\n",
              "           0.67267,     0.67367,     0.67467,     0.67568,     0.67668,     0.67768,     0.67868,     0.67968,     0.68068,     0.68168,     0.68268,     0.68368,     0.68468,     0.68569,     0.68669,     0.68769,     0.68869,     0.68969,     0.69069,     0.69169,     0.69269,     0.69369,     0.69469,      0.6957,\n",
              "            0.6967,      0.6977,      0.6987,      0.6997,      0.7007,      0.7017,      0.7027,      0.7037,      0.7047,     0.70571,     0.70671,     0.70771,     0.70871,     0.70971,     0.71071,     0.71171,     0.71271,     0.71371,     0.71471,     0.71572,     0.71672,     0.71772,     0.71872,     0.71972,\n",
              "           0.72072,     0.72172,     0.72272,     0.72372,     0.72472,     0.72573,     0.72673,     0.72773,     0.72873,     0.72973,     0.73073,     0.73173,     0.73273,     0.73373,     0.73473,     0.73574,     0.73674,     0.73774,     0.73874,     0.73974,     0.74074,     0.74174,     0.74274,     0.74374,\n",
              "           0.74474,     0.74575,     0.74675,     0.74775,     0.74875,     0.74975,     0.75075,     0.75175,     0.75275,     0.75375,     0.75475,     0.75576,     0.75676,     0.75776,     0.75876,     0.75976,     0.76076,     0.76176,     0.76276,     0.76376,     0.76476,     0.76577,     0.76677,     0.76777,\n",
              "           0.76877,     0.76977,     0.77077,     0.77177,     0.77277,     0.77377,     0.77477,     0.77578,     0.77678,     0.77778,     0.77878,     0.77978,     0.78078,     0.78178,     0.78278,     0.78378,     0.78478,     0.78579,     0.78679,     0.78779,     0.78879,     0.78979,     0.79079,     0.79179,\n",
              "           0.79279,     0.79379,     0.79479,      0.7958,      0.7968,      0.7978,      0.7988,      0.7998,      0.8008,      0.8018,      0.8028,      0.8038,      0.8048,     0.80581,     0.80681,     0.80781,     0.80881,     0.80981,     0.81081,     0.81181,     0.81281,     0.81381,     0.81481,     0.81582,\n",
              "           0.81682,     0.81782,     0.81882,     0.81982,     0.82082,     0.82182,     0.82282,     0.82382,     0.82482,     0.82583,     0.82683,     0.82783,     0.82883,     0.82983,     0.83083,     0.83183,     0.83283,     0.83383,     0.83483,     0.83584,     0.83684,     0.83784,     0.83884,     0.83984,\n",
              "           0.84084,     0.84184,     0.84284,     0.84384,     0.84484,     0.84585,     0.84685,     0.84785,     0.84885,     0.84985,     0.85085,     0.85185,     0.85285,     0.85385,     0.85485,     0.85586,     0.85686,     0.85786,     0.85886,     0.85986,     0.86086,     0.86186,     0.86286,     0.86386,\n",
              "           0.86486,     0.86587,     0.86687,     0.86787,     0.86887,     0.86987,     0.87087,     0.87187,     0.87287,     0.87387,     0.87487,     0.87588,     0.87688,     0.87788,     0.87888,     0.87988,     0.88088,     0.88188,     0.88288,     0.88388,     0.88488,     0.88589,     0.88689,     0.88789,\n",
              "           0.88889,     0.88989,     0.89089,     0.89189,     0.89289,     0.89389,     0.89489,      0.8959,      0.8969,      0.8979,      0.8989,      0.8999,      0.9009,      0.9019,      0.9029,      0.9039,      0.9049,     0.90591,     0.90691,     0.90791,     0.90891,     0.90991,     0.91091,     0.91191,\n",
              "           0.91291,     0.91391,     0.91491,     0.91592,     0.91692,     0.91792,     0.91892,     0.91992,     0.92092,     0.92192,     0.92292,     0.92392,     0.92492,     0.92593,     0.92693,     0.92793,     0.92893,     0.92993,     0.93093,     0.93193,     0.93293,     0.93393,     0.93493,     0.93594,\n",
              "           0.93694,     0.93794,     0.93894,     0.93994,     0.94094,     0.94194,     0.94294,     0.94394,     0.94494,     0.94595,     0.94695,     0.94795,     0.94895,     0.94995,     0.95095,     0.95195,     0.95295,     0.95395,     0.95495,     0.95596,     0.95696,     0.95796,     0.95896,     0.95996,\n",
              "           0.96096,     0.96196,     0.96296,     0.96396,     0.96496,     0.96597,     0.96697,     0.96797,     0.96897,     0.96997,     0.97097,     0.97197,     0.97297,     0.97397,     0.97497,     0.97598,     0.97698,     0.97798,     0.97898,     0.97998,     0.98098,     0.98198,     0.98298,     0.98398,\n",
              "           0.98498,     0.98599,     0.98699,     0.98799,     0.98899,     0.98999,     0.99099,     0.99199,     0.99299,     0.99399,     0.99499,       0.996,       0.997,       0.998,       0.999,           1]), array([[          1,           1,           1,           1,           1,           1,           1,           1,           1,           1,           1,           1,           1,           1,           1,           1,           1,           1,           1,           1,           1,           1,           1,\n",
              "                  1,           1,           1,           1,           1,           1,           1,           1,           1,           1,           1,           1,           1,           1,           1,           1,           1,           1,           1,           1,           1,           1,           1,\n",
              "                  1,           1,           1,           1,           1,           1,           1,           1,           1,           1,           1,           1,           1,           1,           1,           1,           1,           1,           1,           1,           1,           1,           1,\n",
              "                  1,           1,           1,           1,           1,           1,           1,           1,           1,           1,           1,           1,           1,           1,           1,           1,           1,           1,           1,           1,           1,           1,           1,\n",
              "                  1,           1,           1,           1,           1,           1,           1,           1,           1,           1,           1,           1,           1,           1,           1,           1,           1,           1,           1,           1,           1,           1,           1,\n",
              "                  1,           1,           1,           1,           1,           1,           1,           1,           1,           1,           1,           1,           1,           1,           1,           1,           1,           1,           1,           1,           1,           1,           1,\n",
              "                  1,           1,           1,           1,           1,           1,           1,           1,           1,           1,           1,           1,           1,           1,           1,           1,           1,           1,           1,           1,           1,           1,           1,\n",
              "                  1,           1,           1,           1,           1,           1,           1,           1,           1,           1,           1,           1,           1,           1,           1,           1,           1,           1,           1,           1,           1,           1,           1,\n",
              "                  1,           1,           1,           1,           1,           1,           1,           1,           1,           1,           1,           1,           1,           1,           1,           1,           1,           1,     0.98246,     0.98246,     0.98246,     0.98246,     0.98246,\n",
              "            0.98246,     0.98246,     0.98246,     0.98246,     0.98246,     0.98246,     0.98246,     0.98246,     0.98246,     0.98246,     0.98246,     0.98246,     0.98246,     0.98246,     0.98246,     0.98246,     0.98246,     0.98246,     0.98246,     0.98246,     0.98246,     0.98246,     0.98246,\n",
              "            0.98246,     0.98246,     0.98246,     0.98246,     0.98246,     0.98246,     0.98246,     0.98246,     0.98246,     0.98246,     0.98246,     0.98246,     0.98246,     0.98246,     0.98246,     0.98246,     0.98246,     0.98246,     0.98246,     0.98246,     0.98246,     0.98246,     0.98246,\n",
              "            0.98246,     0.98246,     0.98246,     0.98246,     0.98246,     0.98246,     0.98246,     0.98246,     0.98246,     0.98246,     0.98246,     0.98246,     0.98246,     0.98246,     0.98246,     0.98246,     0.98131,     0.98131,     0.98131,     0.98131,     0.98131,     0.98131,     0.98131,\n",
              "            0.98131,     0.98131,     0.98131,     0.98131,     0.98131,     0.98131,     0.98131,     0.98131,     0.98131,     0.98131,     0.98131,     0.98131,     0.98131,     0.98131,     0.98131,     0.98131,     0.98131,     0.98131,     0.98131,     0.98131,     0.98131,     0.98131,     0.98131,\n",
              "            0.98131,     0.98131,     0.98131,     0.98131,     0.98131,     0.98131,     0.98131,     0.98131,     0.98131,     0.98131,     0.98131,     0.98131,     0.98131,     0.98131,     0.98131,     0.98131,     0.98131,     0.98131,     0.98131,     0.98131,     0.98131,     0.98131,     0.98131,\n",
              "            0.98131,     0.98131,     0.98131,     0.98131,     0.98131,     0.98131,     0.98131,     0.98131,     0.98131,     0.98131,     0.98131,     0.98131,     0.98131,     0.98131,     0.98131,     0.98131,     0.98131,     0.98131,     0.98131,     0.98131,     0.98131,     0.98131,     0.98131,\n",
              "            0.98131,     0.98131,     0.98131,     0.98131,     0.98131,     0.98131,     0.98131,     0.98131,     0.98131,     0.98131,     0.98131,     0.98131,     0.98131,     0.98131,     0.98131,     0.98131,     0.98131,     0.98131,     0.98131,     0.98131,     0.98131,     0.98131,     0.98131,\n",
              "            0.98131,     0.98131,     0.98131,     0.98131,     0.98131,     0.98131,     0.98131,     0.98131,     0.98131,     0.98131,     0.98131,     0.98131,     0.98131,     0.98131,     0.98131,     0.98131,     0.98131,     0.98131,     0.98131,     0.98131,     0.98131,     0.98131,     0.98131,\n",
              "            0.98131,     0.98131,     0.98131,     0.98131,     0.98131,     0.98131,     0.98131,     0.98131,     0.98131,     0.98131,     0.98131,     0.98131,     0.98131,     0.98131,     0.98131,     0.98131,     0.98131,     0.98131,     0.98131,     0.98131,     0.98131,     0.98131,     0.98131,\n",
              "            0.98131,     0.98131,     0.98131,     0.98131,     0.98131,     0.98131,     0.98131,     0.98131,     0.98131,     0.98131,     0.98131,     0.98131,     0.98131,     0.98131,     0.98131,     0.98131,     0.98131,     0.98131,     0.98131,     0.98131,     0.98131,     0.98131,     0.98131,\n",
              "            0.98131,     0.98131,     0.98131,     0.98131,     0.98131,     0.98131,     0.98131,     0.98131,     0.98131,     0.98131,     0.98131,     0.98131,     0.98131,     0.98131,     0.98131,     0.98131,     0.98131,     0.98131,     0.98131,     0.98131,     0.98131,     0.98131,     0.98131,\n",
              "            0.98131,     0.98131,     0.98131,     0.98131,     0.98131,     0.98131,     0.98131,     0.98131,     0.98131,     0.98131,     0.98131,     0.98131,     0.98131,     0.98131,     0.98131,     0.98131,     0.98131,     0.98131,     0.98131,     0.98131,     0.98131,     0.98131,     0.98131,\n",
              "            0.98131,     0.98131,     0.98131,     0.98131,     0.98131,     0.98131,     0.98131,     0.98131,     0.98131,     0.98131,     0.98131,     0.98131,     0.98131,     0.98131,     0.98131,     0.98131,     0.98131,     0.98131,     0.98131,     0.98131,     0.98131,     0.98131,     0.97414,\n",
              "            0.97414,     0.97414,     0.97414,     0.97414,     0.97414,     0.97414,     0.97414,     0.97414,     0.97414,     0.97414,     0.97414,     0.97414,     0.97414,     0.97414,     0.97414,     0.97414,     0.97414,     0.97414,     0.97414,     0.97414,     0.97414,     0.97414,     0.97414,\n",
              "            0.97414,     0.97414,     0.97414,     0.97414,     0.97414,     0.97414,     0.97414,     0.97414,     0.97414,     0.97414,     0.97414,     0.97414,     0.97414,     0.97414,     0.96694,     0.96694,     0.96694,     0.96694,     0.96694,     0.96694,     0.96694,     0.96694,     0.96694,\n",
              "            0.96694,     0.96694,     0.96694,     0.96694,     0.96694,     0.96694,     0.96694,     0.96694,     0.96694,     0.96694,     0.95745,     0.95745,     0.95745,     0.95745,     0.95745,     0.95745,     0.95745,     0.95745,     0.95745,     0.95745,     0.95745,     0.95745,     0.95745,\n",
              "            0.95745,     0.95745,     0.95745,     0.95745,     0.95745,     0.95745,     0.95745,     0.95745,     0.95745,     0.95745,     0.95745,     0.95745,     0.95745,     0.95745,     0.95745,     0.95745,     0.95745,     0.95745,     0.95745,     0.95745,     0.95745,     0.95745,     0.95745,\n",
              "            0.95745,     0.95745,     0.95745,     0.95745,     0.95745,     0.95745,     0.95745,     0.95745,     0.95745,     0.95745,     0.95745,     0.95745,     0.95745,     0.95745,     0.95745,     0.95745,     0.95745,     0.95745,     0.95745,     0.95745,     0.95745,     0.95745,     0.95745,\n",
              "            0.95745,     0.95745,     0.95745,     0.95745,     0.95745,     0.95745,     0.95745,     0.95745,     0.95745,     0.95745,     0.95745,     0.95745,     0.95745,     0.95745,     0.95745,     0.95745,     0.95745,     0.95745,     0.95745,     0.95745,     0.95745,     0.95745,     0.95745,\n",
              "            0.95745,     0.95745,     0.95745,     0.95745,     0.95745,      0.9527,      0.9527,      0.9527,      0.9527,      0.9527,      0.9527,      0.9527,      0.9527,      0.9527,      0.9527,      0.9527,      0.9527,      0.9527,      0.9527,      0.9527,      0.9527,      0.9527,      0.9527,\n",
              "             0.9527,      0.9527,      0.9527,      0.9527,      0.9527,      0.9527,      0.9527,      0.9527,      0.9527,      0.9527,      0.9527,     0.95122,     0.95122,     0.95122,     0.95122,     0.95122,     0.95122,     0.95122,     0.95122,     0.95122,     0.95122,     0.95122,     0.95122,\n",
              "            0.95122,     0.95122,     0.95122,     0.95122,     0.95122,     0.95122,     0.95122,     0.95122,     0.95122,     0.95122,     0.95122,     0.95122,     0.95122,     0.95122,     0.95122,     0.95122,     0.95122,     0.95122,     0.95122,     0.95122,     0.95122,     0.95122,     0.95122,\n",
              "            0.95122,     0.95122,     0.95122,     0.95122,     0.95122,     0.95122,     0.95122,     0.95122,     0.95122,     0.95122,     0.95122,     0.95122,     0.95122,     0.95122,     0.95122,     0.95122,     0.95122,     0.95122,     0.95122,     0.95122,     0.95122,     0.95122,     0.95122,\n",
              "            0.95122,     0.95122,     0.95122,     0.95122,     0.95122,     0.95122,     0.95122,     0.95122,     0.95122,     0.95122,     0.95122,     0.95122,     0.95122,     0.95122,     0.94152,     0.94152,     0.94152,     0.94152,     0.94152,     0.94152,     0.94152,     0.94152,     0.94152,\n",
              "            0.94152,     0.94152,     0.94152,     0.94152,     0.94152,     0.94152,     0.94152,     0.94152,     0.94152,     0.94152,     0.94152,     0.94152,     0.94152,     0.94152,     0.94152,     0.93678,     0.93678,     0.93678,     0.93678,     0.93678,     0.93678,     0.93678,     0.93678,\n",
              "            0.93678,     0.93296,     0.93296,     0.93296,     0.93296,     0.93296,     0.93296,     0.93296,     0.93296,     0.93296,     0.93296,     0.93296,     0.93296,     0.93296,     0.93296,     0.93296,     0.93296,     0.93296,     0.93296,     0.93296,     0.93296,     0.92818,     0.92818,\n",
              "            0.92818,     0.92818,     0.91892,     0.91892,     0.91892,     0.91892,     0.91892,     0.91892,     0.91892,     0.91892,     0.91892,     0.91892,     0.89529,     0.89529,     0.89529,     0.89529,     0.89529,     0.88265,     0.88265,     0.88265,     0.88265,     0.88265,     0.88265,\n",
              "            0.88265,     0.88265,     0.88265,     0.87437,     0.87437,     0.87437,     0.87437,     0.87437,     0.87065,     0.87065,     0.87065,     0.87065,     0.87065,     0.85437,     0.85437,     0.85437,     0.85437,     0.85437,     0.85096,     0.85096,     0.85096,     0.85096,     0.85096,\n",
              "             0.8436,      0.8436,      0.8436,      0.8436,      0.8287,      0.8287,      0.8287,      0.8287,      0.8287,     0.82192,     0.82192,     0.82192,     0.82192,     0.82192,     0.81532,     0.81532,     0.81532,     0.81532,     0.81532,     0.76151,     0.76151,     0.76151,     0.76151,\n",
              "            0.76151,     0.75309,     0.75309,     0.75309,     0.75309,     0.73896,     0.73896,     0.73896,     0.73896,     0.73896,     0.72835,     0.72835,     0.72835,     0.72835,     0.72835,     0.69663,     0.69663,     0.69663,     0.69663,     0.69663,     0.69259,     0.69259,     0.69259,\n",
              "            0.69259,     0.69259,     0.67742,     0.67742,     0.67742,     0.67742,     0.67742,     0.67742,     0.67742,     0.67742,     0.67742,     0.67138,     0.67138,     0.67138,     0.67138,     0.67138,     0.66551,     0.66551,     0.66551,     0.66551,     0.66551,     0.66436,     0.66436,\n",
              "            0.66436,     0.66436,     0.66436,     0.65541,     0.65541,     0.65541,     0.65541,     0.65541,     0.65541,     0.65541,     0.65541,     0.65541,     0.61129,     0.61129,     0.61129,     0.61129,     0.61129,      0.5816,      0.5816,      0.5816,      0.5816,      0.5816,     0.57101,\n",
              "            0.57101,     0.57101,     0.57101,     0.57101,     0.53951,     0.53951,     0.53951,     0.53951,     0.48418,     0.48418,     0.48418,     0.48418,     0.48418,     0.47962,     0.47962,     0.47962,     0.47962,     0.47962,     0.47518,     0.47518,     0.47518,     0.47518,     0.47518,\n",
              "            0.37687,     0.37687,     0.37687,     0.37687,     0.37687,     0.32532,     0.32532,     0.32532,     0.32532,     0.20187,     0.19346,     0.18505,     0.17664,     0.16822,     0.15981,      0.1514,     0.14299,     0.13458,     0.12617,     0.11776,     0.10935,     0.10093,    0.092523,\n",
              "           0.084112,    0.075701,     0.06729,    0.058878,    0.050467,    0.042056,    0.033645,    0.025234,    0.016822,   0.0084112,           0]]), 'Recall', 'Precision'], [array([          0,    0.001001,    0.002002,    0.003003,    0.004004,    0.005005,    0.006006,    0.007007,    0.008008,    0.009009,     0.01001,    0.011011,    0.012012,    0.013013,    0.014014,    0.015015,    0.016016,    0.017017,    0.018018,    0.019019,     0.02002,    0.021021,    0.022022,    0.023023,\n",
              "          0.024024,    0.025025,    0.026026,    0.027027,    0.028028,    0.029029,     0.03003,    0.031031,    0.032032,    0.033033,    0.034034,    0.035035,    0.036036,    0.037037,    0.038038,    0.039039,     0.04004,    0.041041,    0.042042,    0.043043,    0.044044,    0.045045,    0.046046,    0.047047,\n",
              "          0.048048,    0.049049,     0.05005,    0.051051,    0.052052,    0.053053,    0.054054,    0.055055,    0.056056,    0.057057,    0.058058,    0.059059,     0.06006,    0.061061,    0.062062,    0.063063,    0.064064,    0.065065,    0.066066,    0.067067,    0.068068,    0.069069,     0.07007,    0.071071,\n",
              "          0.072072,    0.073073,    0.074074,    0.075075,    0.076076,    0.077077,    0.078078,    0.079079,     0.08008,    0.081081,    0.082082,    0.083083,    0.084084,    0.085085,    0.086086,    0.087087,    0.088088,    0.089089,     0.09009,    0.091091,    0.092092,    0.093093,    0.094094,    0.095095,\n",
              "          0.096096,    0.097097,    0.098098,    0.099099,      0.1001,      0.1011,      0.1021,      0.1031,      0.1041,     0.10511,     0.10611,     0.10711,     0.10811,     0.10911,     0.11011,     0.11111,     0.11211,     0.11311,     0.11411,     0.11512,     0.11612,     0.11712,     0.11812,     0.11912,\n",
              "           0.12012,     0.12112,     0.12212,     0.12312,     0.12412,     0.12513,     0.12613,     0.12713,     0.12813,     0.12913,     0.13013,     0.13113,     0.13213,     0.13313,     0.13413,     0.13514,     0.13614,     0.13714,     0.13814,     0.13914,     0.14014,     0.14114,     0.14214,     0.14314,\n",
              "           0.14414,     0.14515,     0.14615,     0.14715,     0.14815,     0.14915,     0.15015,     0.15115,     0.15215,     0.15315,     0.15415,     0.15516,     0.15616,     0.15716,     0.15816,     0.15916,     0.16016,     0.16116,     0.16216,     0.16316,     0.16416,     0.16517,     0.16617,     0.16717,\n",
              "           0.16817,     0.16917,     0.17017,     0.17117,     0.17217,     0.17317,     0.17417,     0.17518,     0.17618,     0.17718,     0.17818,     0.17918,     0.18018,     0.18118,     0.18218,     0.18318,     0.18418,     0.18519,     0.18619,     0.18719,     0.18819,     0.18919,     0.19019,     0.19119,\n",
              "           0.19219,     0.19319,     0.19419,      0.1952,      0.1962,      0.1972,      0.1982,      0.1992,      0.2002,      0.2012,      0.2022,      0.2032,      0.2042,     0.20521,     0.20621,     0.20721,     0.20821,     0.20921,     0.21021,     0.21121,     0.21221,     0.21321,     0.21421,     0.21522,\n",
              "           0.21622,     0.21722,     0.21822,     0.21922,     0.22022,     0.22122,     0.22222,     0.22322,     0.22422,     0.22523,     0.22623,     0.22723,     0.22823,     0.22923,     0.23023,     0.23123,     0.23223,     0.23323,     0.23423,     0.23524,     0.23624,     0.23724,     0.23824,     0.23924,\n",
              "           0.24024,     0.24124,     0.24224,     0.24324,     0.24424,     0.24525,     0.24625,     0.24725,     0.24825,     0.24925,     0.25025,     0.25125,     0.25225,     0.25325,     0.25425,     0.25526,     0.25626,     0.25726,     0.25826,     0.25926,     0.26026,     0.26126,     0.26226,     0.26326,\n",
              "           0.26426,     0.26527,     0.26627,     0.26727,     0.26827,     0.26927,     0.27027,     0.27127,     0.27227,     0.27327,     0.27427,     0.27528,     0.27628,     0.27728,     0.27828,     0.27928,     0.28028,     0.28128,     0.28228,     0.28328,     0.28428,     0.28529,     0.28629,     0.28729,\n",
              "           0.28829,     0.28929,     0.29029,     0.29129,     0.29229,     0.29329,     0.29429,      0.2953,      0.2963,      0.2973,      0.2983,      0.2993,      0.3003,      0.3013,      0.3023,      0.3033,      0.3043,     0.30531,     0.30631,     0.30731,     0.30831,     0.30931,     0.31031,     0.31131,\n",
              "           0.31231,     0.31331,     0.31431,     0.31532,     0.31632,     0.31732,     0.31832,     0.31932,     0.32032,     0.32132,     0.32232,     0.32332,     0.32432,     0.32533,     0.32633,     0.32733,     0.32833,     0.32933,     0.33033,     0.33133,     0.33233,     0.33333,     0.33433,     0.33534,\n",
              "           0.33634,     0.33734,     0.33834,     0.33934,     0.34034,     0.34134,     0.34234,     0.34334,     0.34434,     0.34535,     0.34635,     0.34735,     0.34835,     0.34935,     0.35035,     0.35135,     0.35235,     0.35335,     0.35435,     0.35536,     0.35636,     0.35736,     0.35836,     0.35936,\n",
              "           0.36036,     0.36136,     0.36236,     0.36336,     0.36436,     0.36537,     0.36637,     0.36737,     0.36837,     0.36937,     0.37037,     0.37137,     0.37237,     0.37337,     0.37437,     0.37538,     0.37638,     0.37738,     0.37838,     0.37938,     0.38038,     0.38138,     0.38238,     0.38338,\n",
              "           0.38438,     0.38539,     0.38639,     0.38739,     0.38839,     0.38939,     0.39039,     0.39139,     0.39239,     0.39339,     0.39439,      0.3954,      0.3964,      0.3974,      0.3984,      0.3994,      0.4004,      0.4014,      0.4024,      0.4034,      0.4044,     0.40541,     0.40641,     0.40741,\n",
              "           0.40841,     0.40941,     0.41041,     0.41141,     0.41241,     0.41341,     0.41441,     0.41542,     0.41642,     0.41742,     0.41842,     0.41942,     0.42042,     0.42142,     0.42242,     0.42342,     0.42442,     0.42543,     0.42643,     0.42743,     0.42843,     0.42943,     0.43043,     0.43143,\n",
              "           0.43243,     0.43343,     0.43443,     0.43544,     0.43644,     0.43744,     0.43844,     0.43944,     0.44044,     0.44144,     0.44244,     0.44344,     0.44444,     0.44545,     0.44645,     0.44745,     0.44845,     0.44945,     0.45045,     0.45145,     0.45245,     0.45345,     0.45445,     0.45546,\n",
              "           0.45646,     0.45746,     0.45846,     0.45946,     0.46046,     0.46146,     0.46246,     0.46346,     0.46446,     0.46547,     0.46647,     0.46747,     0.46847,     0.46947,     0.47047,     0.47147,     0.47247,     0.47347,     0.47447,     0.47548,     0.47648,     0.47748,     0.47848,     0.47948,\n",
              "           0.48048,     0.48148,     0.48248,     0.48348,     0.48448,     0.48549,     0.48649,     0.48749,     0.48849,     0.48949,     0.49049,     0.49149,     0.49249,     0.49349,     0.49449,      0.4955,      0.4965,      0.4975,      0.4985,      0.4995,      0.5005,      0.5015,      0.5025,      0.5035,\n",
              "            0.5045,     0.50551,     0.50651,     0.50751,     0.50851,     0.50951,     0.51051,     0.51151,     0.51251,     0.51351,     0.51451,     0.51552,     0.51652,     0.51752,     0.51852,     0.51952,     0.52052,     0.52152,     0.52252,     0.52352,     0.52452,     0.52553,     0.52653,     0.52753,\n",
              "           0.52853,     0.52953,     0.53053,     0.53153,     0.53253,     0.53353,     0.53453,     0.53554,     0.53654,     0.53754,     0.53854,     0.53954,     0.54054,     0.54154,     0.54254,     0.54354,     0.54454,     0.54555,     0.54655,     0.54755,     0.54855,     0.54955,     0.55055,     0.55155,\n",
              "           0.55255,     0.55355,     0.55455,     0.55556,     0.55656,     0.55756,     0.55856,     0.55956,     0.56056,     0.56156,     0.56256,     0.56356,     0.56456,     0.56557,     0.56657,     0.56757,     0.56857,     0.56957,     0.57057,     0.57157,     0.57257,     0.57357,     0.57457,     0.57558,\n",
              "           0.57658,     0.57758,     0.57858,     0.57958,     0.58058,     0.58158,     0.58258,     0.58358,     0.58458,     0.58559,     0.58659,     0.58759,     0.58859,     0.58959,     0.59059,     0.59159,     0.59259,     0.59359,     0.59459,      0.5956,      0.5966,      0.5976,      0.5986,      0.5996,\n",
              "            0.6006,      0.6016,      0.6026,      0.6036,      0.6046,     0.60561,     0.60661,     0.60761,     0.60861,     0.60961,     0.61061,     0.61161,     0.61261,     0.61361,     0.61461,     0.61562,     0.61662,     0.61762,     0.61862,     0.61962,     0.62062,     0.62162,     0.62262,     0.62362,\n",
              "           0.62462,     0.62563,     0.62663,     0.62763,     0.62863,     0.62963,     0.63063,     0.63163,     0.63263,     0.63363,     0.63463,     0.63564,     0.63664,     0.63764,     0.63864,     0.63964,     0.64064,     0.64164,     0.64264,     0.64364,     0.64464,     0.64565,     0.64665,     0.64765,\n",
              "           0.64865,     0.64965,     0.65065,     0.65165,     0.65265,     0.65365,     0.65465,     0.65566,     0.65666,     0.65766,     0.65866,     0.65966,     0.66066,     0.66166,     0.66266,     0.66366,     0.66466,     0.66567,     0.66667,     0.66767,     0.66867,     0.66967,     0.67067,     0.67167,\n",
              "           0.67267,     0.67367,     0.67467,     0.67568,     0.67668,     0.67768,     0.67868,     0.67968,     0.68068,     0.68168,     0.68268,     0.68368,     0.68468,     0.68569,     0.68669,     0.68769,     0.68869,     0.68969,     0.69069,     0.69169,     0.69269,     0.69369,     0.69469,      0.6957,\n",
              "            0.6967,      0.6977,      0.6987,      0.6997,      0.7007,      0.7017,      0.7027,      0.7037,      0.7047,     0.70571,     0.70671,     0.70771,     0.70871,     0.70971,     0.71071,     0.71171,     0.71271,     0.71371,     0.71471,     0.71572,     0.71672,     0.71772,     0.71872,     0.71972,\n",
              "           0.72072,     0.72172,     0.72272,     0.72372,     0.72472,     0.72573,     0.72673,     0.72773,     0.72873,     0.72973,     0.73073,     0.73173,     0.73273,     0.73373,     0.73473,     0.73574,     0.73674,     0.73774,     0.73874,     0.73974,     0.74074,     0.74174,     0.74274,     0.74374,\n",
              "           0.74474,     0.74575,     0.74675,     0.74775,     0.74875,     0.74975,     0.75075,     0.75175,     0.75275,     0.75375,     0.75475,     0.75576,     0.75676,     0.75776,     0.75876,     0.75976,     0.76076,     0.76176,     0.76276,     0.76376,     0.76476,     0.76577,     0.76677,     0.76777,\n",
              "           0.76877,     0.76977,     0.77077,     0.77177,     0.77277,     0.77377,     0.77477,     0.77578,     0.77678,     0.77778,     0.77878,     0.77978,     0.78078,     0.78178,     0.78278,     0.78378,     0.78478,     0.78579,     0.78679,     0.78779,     0.78879,     0.78979,     0.79079,     0.79179,\n",
              "           0.79279,     0.79379,     0.79479,      0.7958,      0.7968,      0.7978,      0.7988,      0.7998,      0.8008,      0.8018,      0.8028,      0.8038,      0.8048,     0.80581,     0.80681,     0.80781,     0.80881,     0.80981,     0.81081,     0.81181,     0.81281,     0.81381,     0.81481,     0.81582,\n",
              "           0.81682,     0.81782,     0.81882,     0.81982,     0.82082,     0.82182,     0.82282,     0.82382,     0.82482,     0.82583,     0.82683,     0.82783,     0.82883,     0.82983,     0.83083,     0.83183,     0.83283,     0.83383,     0.83483,     0.83584,     0.83684,     0.83784,     0.83884,     0.83984,\n",
              "           0.84084,     0.84184,     0.84284,     0.84384,     0.84484,     0.84585,     0.84685,     0.84785,     0.84885,     0.84985,     0.85085,     0.85185,     0.85285,     0.85385,     0.85485,     0.85586,     0.85686,     0.85786,     0.85886,     0.85986,     0.86086,     0.86186,     0.86286,     0.86386,\n",
              "           0.86486,     0.86587,     0.86687,     0.86787,     0.86887,     0.86987,     0.87087,     0.87187,     0.87287,     0.87387,     0.87487,     0.87588,     0.87688,     0.87788,     0.87888,     0.87988,     0.88088,     0.88188,     0.88288,     0.88388,     0.88488,     0.88589,     0.88689,     0.88789,\n",
              "           0.88889,     0.88989,     0.89089,     0.89189,     0.89289,     0.89389,     0.89489,      0.8959,      0.8969,      0.8979,      0.8989,      0.8999,      0.9009,      0.9019,      0.9029,      0.9039,      0.9049,     0.90591,     0.90691,     0.90791,     0.90891,     0.90991,     0.91091,     0.91191,\n",
              "           0.91291,     0.91391,     0.91491,     0.91592,     0.91692,     0.91792,     0.91892,     0.91992,     0.92092,     0.92192,     0.92292,     0.92392,     0.92492,     0.92593,     0.92693,     0.92793,     0.92893,     0.92993,     0.93093,     0.93193,     0.93293,     0.93393,     0.93493,     0.93594,\n",
              "           0.93694,     0.93794,     0.93894,     0.93994,     0.94094,     0.94194,     0.94294,     0.94394,     0.94494,     0.94595,     0.94695,     0.94795,     0.94895,     0.94995,     0.95095,     0.95195,     0.95295,     0.95395,     0.95495,     0.95596,     0.95696,     0.95796,     0.95896,     0.95996,\n",
              "           0.96096,     0.96196,     0.96296,     0.96396,     0.96496,     0.96597,     0.96697,     0.96797,     0.96897,     0.96997,     0.97097,     0.97197,     0.97297,     0.97397,     0.97497,     0.97598,     0.97698,     0.97798,     0.97898,     0.97998,     0.98098,     0.98198,     0.98298,     0.98398,\n",
              "           0.98498,     0.98599,     0.98699,     0.98799,     0.98899,     0.98999,     0.99099,     0.99199,     0.99299,     0.99399,     0.99499,       0.996,       0.997,       0.998,       0.999,           1]), array([[    0.33471,     0.33471,      0.4424,     0.49809,     0.53752,     0.55954,     0.57776,     0.59909,     0.61671,     0.63134,     0.63708,     0.64179,      0.6456,     0.65494,     0.66098,     0.66667,     0.67153,     0.68025,     0.68786,     0.69061,     0.69235,     0.69654,     0.70522,\n",
              "            0.70833,     0.71153,     0.71393,     0.71606,     0.71731,     0.72465,     0.72669,     0.72743,     0.72921,      0.7347,     0.73526,     0.73582,     0.73839,     0.73978,     0.73784,     0.73821,     0.73881,     0.74075,      0.7424,     0.74567,      0.7469,     0.74786,      0.7491,\n",
              "            0.74944,     0.74978,     0.75012,     0.75046,     0.75285,     0.75533,     0.75636,     0.75736,     0.75871,     0.76288,     0.76429,      0.7651,     0.76639,     0.76806,     0.76714,     0.76589,     0.77144,     0.77262,     0.77117,     0.77065,     0.77037,     0.77026,     0.77091,\n",
              "            0.77109,     0.77127,     0.77146,     0.77164,     0.77182,     0.77201,     0.77219,     0.77247,     0.77376,     0.77188,     0.77255,     0.77311,     0.77345,     0.77379,     0.77412,     0.77446,     0.77546,     0.77428,      0.7729,     0.77131,     0.77333,       0.774,     0.77537,\n",
              "             0.7768,     0.77818,     0.77984,     0.78101,     0.78152,     0.78202,     0.78211,      0.7805,     0.78207,     0.78296,     0.78245,     0.78194,     0.78144,     0.78093,     0.78084,     0.78159,     0.78233,     0.78294,     0.78356,     0.78455,     0.78568,     0.78606,     0.78645,\n",
              "            0.78684,     0.78722,     0.79074,     0.79091,     0.79109,     0.79126,     0.79144,     0.79162,     0.79179,     0.79197,     0.79214,     0.79231,     0.79243,     0.79255,     0.79266,     0.79278,      0.7929,     0.79302,     0.79314,     0.79325,     0.79337,     0.79349,     0.79361,\n",
              "            0.79373,     0.79385,     0.79396,     0.79404,      0.7941,     0.79416,     0.79422,     0.79428,     0.79434,     0.79441,     0.79447,     0.79453,     0.79459,     0.79465,     0.79471,     0.79477,     0.79483,     0.79489,     0.79496,     0.79502,     0.79508,     0.79514,      0.7952,\n",
              "            0.79526,     0.79532,     0.79538,     0.79544,     0.79551,     0.79557,     0.79563,     0.79569,     0.79602,     0.79642,     0.79681,      0.7972,      0.7975,     0.79769,     0.79787,     0.79806,     0.79825,     0.79844,     0.79863,     0.79882,       0.799,     0.79918,     0.79934,\n",
              "            0.79949,     0.79965,      0.7998,     0.79995,     0.80011,     0.80026,     0.80042,     0.80057,     0.80072,     0.80084,     0.80046,     0.80008,     0.79969,     0.79931,     0.79893,     0.79855,     0.79832,     0.79853,     0.79874,     0.79896,     0.79917,     0.79938,     0.79959,\n",
              "             0.7998,     0.80193,     0.80369,     0.80424,      0.8048,     0.80514,     0.80449,     0.80384,     0.80318,     0.80625,     0.80679,     0.80733,     0.80787,     0.80873,     0.80965,     0.81142,      0.8113,     0.81119,     0.81107,     0.81095,     0.81083,     0.81071,     0.81059,\n",
              "            0.81048,     0.81036,     0.81024,     0.81012,        0.81,     0.80988,     0.80977,     0.80965,     0.80953,     0.80941,     0.80929,     0.80917,     0.80906,     0.80894,     0.80908,     0.80939,      0.8097,     0.81002,     0.81033,     0.81065,     0.81081,     0.81094,     0.81107,\n",
              "            0.81121,     0.81134,     0.81147,     0.81161,     0.81174,     0.81188,     0.81201,     0.81214,     0.81228,     0.81241,     0.81262,     0.81297,     0.81333,     0.81368,     0.81403,     0.81415,     0.81331,     0.81247,      0.8117,     0.81294,     0.81367,       0.814,     0.81432,\n",
              "            0.81465,     0.81498,      0.8153,     0.81557,     0.81583,     0.81609,     0.81635,     0.81661,     0.81687,     0.81713,     0.81733,     0.81752,     0.81772,     0.81791,     0.81811,      0.8183,     0.81849,     0.81869,     0.81888,     0.81907,     0.81926,     0.81945,     0.81963,\n",
              "            0.81982,        0.82,     0.82019,     0.82037,     0.82056,     0.82075,     0.82143,     0.82278,      0.8231,     0.82342,     0.82374,     0.82406,     0.82438,     0.82489,     0.82586,     0.82654,     0.82668,     0.82683,     0.82697,     0.82712,     0.82727,     0.82741,     0.82756,\n",
              "            0.82771,     0.82785,       0.828,     0.82814,     0.82829,     0.82849,     0.82877,     0.82905,     0.82933,     0.82961,     0.82988,     0.83016,     0.83033,     0.83041,      0.8305,     0.83059,     0.83068,     0.83076,     0.83085,     0.83094,     0.83102,     0.83111,      0.8312,\n",
              "            0.83128,     0.83137,     0.83146,     0.83155,     0.83163,     0.83172,     0.83181,     0.83189,     0.83198,     0.83207,     0.83215,     0.83264,     0.83336,     0.83407,       0.836,     0.83991,     0.84028,     0.84064,       0.841,     0.84137,     0.84173,     0.84044,     0.83925,\n",
              "            0.83946,     0.83967,     0.83989,      0.8401,     0.84031,     0.84052,     0.84073,     0.84094,     0.84114,     0.84122,     0.84131,      0.8414,     0.84148,     0.84157,     0.84166,     0.84174,     0.84183,     0.84192,       0.842,     0.84209,     0.84218,     0.84227,     0.84235,\n",
              "            0.84244,     0.84253,     0.84261,      0.8427,     0.84279,     0.84287,     0.84296,     0.84305,     0.84274,       0.842,     0.84126,     0.84051,     0.84401,     0.84317,     0.84176,     0.84265,     0.84379,     0.84482,     0.84565,     0.84582,       0.846,     0.84617,     0.84635,\n",
              "            0.84653,      0.8467,     0.84688,     0.84705,     0.84723,      0.8474,     0.84758,     0.84782,     0.84809,     0.84836,     0.84863,      0.8489,     0.84916,     0.84943,      0.8495,     0.84879,     0.84809,     0.84738,     0.84696,      0.8472,     0.84744,     0.84768,     0.84791,\n",
              "            0.84815,     0.84839,     0.84863,     0.84887,     0.84904,     0.84921,     0.84937,     0.84953,     0.84969,     0.84985,     0.85001,     0.85017,     0.85033,     0.85049,     0.85065,     0.85081,     0.85083,      0.8492,     0.84825,      0.8484,     0.84855,      0.8487,     0.84885,\n",
              "              0.849,     0.84915,      0.8493,     0.84945,      0.8496,     0.84975,      0.8499,     0.85005,      0.8502,     0.84956,     0.84861,     0.84766,      0.8476,     0.84777,     0.84795,     0.84812,      0.8483,     0.84848,     0.84865,     0.84883,       0.849,     0.84918,     0.84935,\n",
              "            0.84955,     0.84998,      0.8504,     0.85082,     0.85125,     0.85202,     0.85391,     0.85498,     0.85567,     0.85538,     0.85509,      0.8548,     0.85452,     0.85423,     0.85394,     0.85365,     0.85337,     0.85308,     0.85305,     0.85327,     0.85348,      0.8537,     0.85391,\n",
              "            0.85413,     0.85434,     0.85456,     0.85477,     0.85499,     0.85491,     0.85475,     0.85459,     0.85443,     0.85427,     0.85411,     0.85395,     0.85379,     0.85363,     0.85347,     0.85331,     0.85315,     0.85299,     0.85283,     0.85267,     0.85251,     0.85234,     0.85224,\n",
              "            0.85235,     0.85246,     0.85256,     0.85267,     0.85278,     0.85289,       0.853,      0.8531,     0.85321,     0.85332,     0.85343,     0.85353,     0.85364,     0.85375,     0.85386,     0.85397,     0.85407,     0.85418,     0.85429,     0.85448,     0.85471,     0.85494,     0.85517,\n",
              "            0.85539,     0.85562,     0.85585,     0.85608,     0.85631,     0.85612,      0.8554,     0.85467,     0.85394,     0.85206,     0.85115,     0.85187,      0.8526,     0.85355,     0.85464,     0.85521,     0.85553,     0.85584,     0.85615,     0.85647,     0.85678,     0.85709,     0.85434,\n",
              "            0.85441,     0.85449,     0.85456,     0.85464,     0.85472,     0.85479,     0.85487,     0.85495,     0.85502,      0.8551,     0.85517,     0.85525,     0.85533,      0.8554,     0.85548,     0.85555,     0.85563,     0.85571,     0.85578,     0.85586,     0.85593,     0.85601,     0.85609,\n",
              "            0.85616,     0.85624,     0.85631,     0.85639,     0.85765,     0.85876,     0.85905,     0.85935,     0.85965,     0.85995,     0.86024,     0.86054,      0.8609,     0.86147,     0.86203,     0.86258,     0.86304,      0.8633,     0.86357,     0.86383,      0.8641,     0.86436,     0.86463,\n",
              "            0.86489,     0.86505,     0.86356,     0.86157,     0.86004,     0.86117,      0.8616,     0.86168,     0.86176,     0.86185,     0.86193,     0.86202,      0.8621,     0.86219,     0.86227,     0.86235,     0.86244,     0.86252,     0.86261,     0.86269,     0.86277,     0.86286,     0.86294,\n",
              "            0.86303,     0.86311,     0.86319,     0.86328,     0.86336,     0.86345,     0.86353,     0.86361,      0.8637,     0.86366,     0.86337,     0.86309,      0.8628,     0.86252,     0.86223,     0.86194,     0.86166,     0.86137,     0.86109,     0.86084,       0.861,     0.86117,     0.86133,\n",
              "            0.86149,     0.86166,     0.86182,     0.86198,     0.86214,     0.86231,     0.86247,     0.86263,     0.86279,     0.86296,     0.86295,     0.86272,     0.86249,     0.86225,     0.86202,     0.86179,     0.86156,     0.86132,     0.86109,     0.86086,     0.86063,     0.86039,     0.86016,\n",
              "            0.85897,     0.85745,     0.85666,     0.85605,     0.85544,     0.85483,     0.85422,     0.85135,       0.853,     0.85212,     0.85124,     0.85038,      0.8501,     0.84982,     0.84954,     0.84926,     0.84897,     0.84869,     0.84841,     0.84813,     0.84785,     0.84756,     0.84784,\n",
              "            0.84937,     0.84873,     0.84769,     0.84664,     0.84592,     0.84522,     0.84453,     0.84383,     0.84267,     0.84109,     0.84029,     0.84006,     0.83982,     0.83959,     0.83935,     0.83912,     0.83888,     0.83865,     0.83841,     0.83818,     0.83794,     0.83771,     0.83747,\n",
              "            0.83603,     0.83621,     0.83664,     0.83682,     0.83701,     0.83719,     0.83737,     0.83756,     0.83774,     0.83793,     0.83811,      0.8383,     0.83848,     0.83866,     0.83841,     0.83801,     0.83761,     0.83721,     0.83681,     0.83641,       0.836,      0.8356,     0.83456,\n",
              "            0.83349,     0.83241,     0.83133,     0.83025,     0.82912,     0.82749,     0.82578,      0.8236,     0.82233,     0.82151,     0.82068,     0.81986,     0.81882,     0.81771,     0.81661,     0.81456,     0.81061,      0.8079,     0.80621,     0.80524,     0.80428,     0.79996,     0.79767,\n",
              "            0.79636,     0.79583,      0.7953,     0.79477,     0.79424,     0.79371,      0.7928,     0.79049,     0.79077,     0.79191,     0.78935,     0.78801,     0.78714,     0.78626,     0.78538,      0.7845,     0.78362,     0.78274,     0.78186,     0.78139,     0.78092,     0.78044,     0.77997,\n",
              "             0.7795,     0.77902,     0.77855,     0.77741,     0.77598,     0.77461,     0.77342,     0.77222,     0.77156,     0.77194,     0.77231,     0.77269,     0.77307,     0.77344,     0.77294,      0.7715,     0.76649,     0.76466,     0.75873,     0.75106,     0.74919,     0.74361,     0.74066,\n",
              "             0.7399,     0.73914,     0.73838,     0.73762,      0.7344,     0.72736,     0.72288,     0.72011,     0.71802,     0.71671,     0.71539,     0.71442,     0.71381,      0.7132,     0.71259,     0.71198,     0.71137,      0.7107,     0.70971,     0.70871,     0.70771,     0.70801,     0.71076,\n",
              "            0.70968,     0.70767,     0.70565,     0.70362,     0.70194,     0.70031,     0.69635,     0.69373,     0.69081,     0.68838,     0.68629,     0.68095,     0.67275,     0.67061,     0.66815,      0.6648,     0.66624,     0.65751,     0.65457,     0.65162,       0.649,     0.64722,     0.64543,\n",
              "             0.6286,     0.61936,     0.61422,     0.60258,     0.59937,       0.598,     0.59663,     0.59046,     0.58722,     0.58444,     0.58199,     0.57485,     0.56925,     0.56559,     0.55945,     0.54986,     0.54729,     0.53557,     0.53208,     0.52973,     0.52761,     0.51381,      0.5047,\n",
              "            0.50313,     0.50157,         0.5,     0.48807,     0.48584,     0.48336,     0.47814,     0.47688,     0.47562,     0.47436,      0.4731,     0.45504,     0.45115,     0.43708,     0.42153,     0.42136,     0.41727,     0.40613,     0.39479,     0.39165,     0.39007,     0.38848,     0.38688,\n",
              "            0.38283,     0.37293,     0.34408,     0.33493,     0.33184,     0.32496,       0.315,     0.31033,     0.30396,     0.27923,      0.2719,     0.26523,     0.26027,     0.24697,     0.23169,     0.21919,     0.20033,     0.19419,     0.18233,        0.18,     0.17767,     0.16662,     0.14954,\n",
              "            0.14672,      0.1439,     0.13746,     0.13227,     0.12883,     0.12234,     0.10802,      0.1036,    0.095259,    0.084504,    0.080804,    0.078208,    0.075604,     0.06257,    0.056384,    0.037977,    0.031552,    0.028164,    0.027632,    0.027099,    0.026566,    0.026033,    0.025499,\n",
              "           0.024965,    0.024431,    0.023897,    0.023362,    0.022827,    0.022292,    0.021756,     0.02122,    0.020684,    0.020148,    0.019611,    0.019074,           0,           0,           0,           0,           0,           0,           0,           0,           0,           0,           0,\n",
              "                  0,           0,           0,           0,           0,           0,           0,           0,           0,           0,           0]]), 'Confidence', 'F1'], [array([          0,    0.001001,    0.002002,    0.003003,    0.004004,    0.005005,    0.006006,    0.007007,    0.008008,    0.009009,     0.01001,    0.011011,    0.012012,    0.013013,    0.014014,    0.015015,    0.016016,    0.017017,    0.018018,    0.019019,     0.02002,    0.021021,    0.022022,    0.023023,\n",
              "          0.024024,    0.025025,    0.026026,    0.027027,    0.028028,    0.029029,     0.03003,    0.031031,    0.032032,    0.033033,    0.034034,    0.035035,    0.036036,    0.037037,    0.038038,    0.039039,     0.04004,    0.041041,    0.042042,    0.043043,    0.044044,    0.045045,    0.046046,    0.047047,\n",
              "          0.048048,    0.049049,     0.05005,    0.051051,    0.052052,    0.053053,    0.054054,    0.055055,    0.056056,    0.057057,    0.058058,    0.059059,     0.06006,    0.061061,    0.062062,    0.063063,    0.064064,    0.065065,    0.066066,    0.067067,    0.068068,    0.069069,     0.07007,    0.071071,\n",
              "          0.072072,    0.073073,    0.074074,    0.075075,    0.076076,    0.077077,    0.078078,    0.079079,     0.08008,    0.081081,    0.082082,    0.083083,    0.084084,    0.085085,    0.086086,    0.087087,    0.088088,    0.089089,     0.09009,    0.091091,    0.092092,    0.093093,    0.094094,    0.095095,\n",
              "          0.096096,    0.097097,    0.098098,    0.099099,      0.1001,      0.1011,      0.1021,      0.1031,      0.1041,     0.10511,     0.10611,     0.10711,     0.10811,     0.10911,     0.11011,     0.11111,     0.11211,     0.11311,     0.11411,     0.11512,     0.11612,     0.11712,     0.11812,     0.11912,\n",
              "           0.12012,     0.12112,     0.12212,     0.12312,     0.12412,     0.12513,     0.12613,     0.12713,     0.12813,     0.12913,     0.13013,     0.13113,     0.13213,     0.13313,     0.13413,     0.13514,     0.13614,     0.13714,     0.13814,     0.13914,     0.14014,     0.14114,     0.14214,     0.14314,\n",
              "           0.14414,     0.14515,     0.14615,     0.14715,     0.14815,     0.14915,     0.15015,     0.15115,     0.15215,     0.15315,     0.15415,     0.15516,     0.15616,     0.15716,     0.15816,     0.15916,     0.16016,     0.16116,     0.16216,     0.16316,     0.16416,     0.16517,     0.16617,     0.16717,\n",
              "           0.16817,     0.16917,     0.17017,     0.17117,     0.17217,     0.17317,     0.17417,     0.17518,     0.17618,     0.17718,     0.17818,     0.17918,     0.18018,     0.18118,     0.18218,     0.18318,     0.18418,     0.18519,     0.18619,     0.18719,     0.18819,     0.18919,     0.19019,     0.19119,\n",
              "           0.19219,     0.19319,     0.19419,      0.1952,      0.1962,      0.1972,      0.1982,      0.1992,      0.2002,      0.2012,      0.2022,      0.2032,      0.2042,     0.20521,     0.20621,     0.20721,     0.20821,     0.20921,     0.21021,     0.21121,     0.21221,     0.21321,     0.21421,     0.21522,\n",
              "           0.21622,     0.21722,     0.21822,     0.21922,     0.22022,     0.22122,     0.22222,     0.22322,     0.22422,     0.22523,     0.22623,     0.22723,     0.22823,     0.22923,     0.23023,     0.23123,     0.23223,     0.23323,     0.23423,     0.23524,     0.23624,     0.23724,     0.23824,     0.23924,\n",
              "           0.24024,     0.24124,     0.24224,     0.24324,     0.24424,     0.24525,     0.24625,     0.24725,     0.24825,     0.24925,     0.25025,     0.25125,     0.25225,     0.25325,     0.25425,     0.25526,     0.25626,     0.25726,     0.25826,     0.25926,     0.26026,     0.26126,     0.26226,     0.26326,\n",
              "           0.26426,     0.26527,     0.26627,     0.26727,     0.26827,     0.26927,     0.27027,     0.27127,     0.27227,     0.27327,     0.27427,     0.27528,     0.27628,     0.27728,     0.27828,     0.27928,     0.28028,     0.28128,     0.28228,     0.28328,     0.28428,     0.28529,     0.28629,     0.28729,\n",
              "           0.28829,     0.28929,     0.29029,     0.29129,     0.29229,     0.29329,     0.29429,      0.2953,      0.2963,      0.2973,      0.2983,      0.2993,      0.3003,      0.3013,      0.3023,      0.3033,      0.3043,     0.30531,     0.30631,     0.30731,     0.30831,     0.30931,     0.31031,     0.31131,\n",
              "           0.31231,     0.31331,     0.31431,     0.31532,     0.31632,     0.31732,     0.31832,     0.31932,     0.32032,     0.32132,     0.32232,     0.32332,     0.32432,     0.32533,     0.32633,     0.32733,     0.32833,     0.32933,     0.33033,     0.33133,     0.33233,     0.33333,     0.33433,     0.33534,\n",
              "           0.33634,     0.33734,     0.33834,     0.33934,     0.34034,     0.34134,     0.34234,     0.34334,     0.34434,     0.34535,     0.34635,     0.34735,     0.34835,     0.34935,     0.35035,     0.35135,     0.35235,     0.35335,     0.35435,     0.35536,     0.35636,     0.35736,     0.35836,     0.35936,\n",
              "           0.36036,     0.36136,     0.36236,     0.36336,     0.36436,     0.36537,     0.36637,     0.36737,     0.36837,     0.36937,     0.37037,     0.37137,     0.37237,     0.37337,     0.37437,     0.37538,     0.37638,     0.37738,     0.37838,     0.37938,     0.38038,     0.38138,     0.38238,     0.38338,\n",
              "           0.38438,     0.38539,     0.38639,     0.38739,     0.38839,     0.38939,     0.39039,     0.39139,     0.39239,     0.39339,     0.39439,      0.3954,      0.3964,      0.3974,      0.3984,      0.3994,      0.4004,      0.4014,      0.4024,      0.4034,      0.4044,     0.40541,     0.40641,     0.40741,\n",
              "           0.40841,     0.40941,     0.41041,     0.41141,     0.41241,     0.41341,     0.41441,     0.41542,     0.41642,     0.41742,     0.41842,     0.41942,     0.42042,     0.42142,     0.42242,     0.42342,     0.42442,     0.42543,     0.42643,     0.42743,     0.42843,     0.42943,     0.43043,     0.43143,\n",
              "           0.43243,     0.43343,     0.43443,     0.43544,     0.43644,     0.43744,     0.43844,     0.43944,     0.44044,     0.44144,     0.44244,     0.44344,     0.44444,     0.44545,     0.44645,     0.44745,     0.44845,     0.44945,     0.45045,     0.45145,     0.45245,     0.45345,     0.45445,     0.45546,\n",
              "           0.45646,     0.45746,     0.45846,     0.45946,     0.46046,     0.46146,     0.46246,     0.46346,     0.46446,     0.46547,     0.46647,     0.46747,     0.46847,     0.46947,     0.47047,     0.47147,     0.47247,     0.47347,     0.47447,     0.47548,     0.47648,     0.47748,     0.47848,     0.47948,\n",
              "           0.48048,     0.48148,     0.48248,     0.48348,     0.48448,     0.48549,     0.48649,     0.48749,     0.48849,     0.48949,     0.49049,     0.49149,     0.49249,     0.49349,     0.49449,      0.4955,      0.4965,      0.4975,      0.4985,      0.4995,      0.5005,      0.5015,      0.5025,      0.5035,\n",
              "            0.5045,     0.50551,     0.50651,     0.50751,     0.50851,     0.50951,     0.51051,     0.51151,     0.51251,     0.51351,     0.51451,     0.51552,     0.51652,     0.51752,     0.51852,     0.51952,     0.52052,     0.52152,     0.52252,     0.52352,     0.52452,     0.52553,     0.52653,     0.52753,\n",
              "           0.52853,     0.52953,     0.53053,     0.53153,     0.53253,     0.53353,     0.53453,     0.53554,     0.53654,     0.53754,     0.53854,     0.53954,     0.54054,     0.54154,     0.54254,     0.54354,     0.54454,     0.54555,     0.54655,     0.54755,     0.54855,     0.54955,     0.55055,     0.55155,\n",
              "           0.55255,     0.55355,     0.55455,     0.55556,     0.55656,     0.55756,     0.55856,     0.55956,     0.56056,     0.56156,     0.56256,     0.56356,     0.56456,     0.56557,     0.56657,     0.56757,     0.56857,     0.56957,     0.57057,     0.57157,     0.57257,     0.57357,     0.57457,     0.57558,\n",
              "           0.57658,     0.57758,     0.57858,     0.57958,     0.58058,     0.58158,     0.58258,     0.58358,     0.58458,     0.58559,     0.58659,     0.58759,     0.58859,     0.58959,     0.59059,     0.59159,     0.59259,     0.59359,     0.59459,      0.5956,      0.5966,      0.5976,      0.5986,      0.5996,\n",
              "            0.6006,      0.6016,      0.6026,      0.6036,      0.6046,     0.60561,     0.60661,     0.60761,     0.60861,     0.60961,     0.61061,     0.61161,     0.61261,     0.61361,     0.61461,     0.61562,     0.61662,     0.61762,     0.61862,     0.61962,     0.62062,     0.62162,     0.62262,     0.62362,\n",
              "           0.62462,     0.62563,     0.62663,     0.62763,     0.62863,     0.62963,     0.63063,     0.63163,     0.63263,     0.63363,     0.63463,     0.63564,     0.63664,     0.63764,     0.63864,     0.63964,     0.64064,     0.64164,     0.64264,     0.64364,     0.64464,     0.64565,     0.64665,     0.64765,\n",
              "           0.64865,     0.64965,     0.65065,     0.65165,     0.65265,     0.65365,     0.65465,     0.65566,     0.65666,     0.65766,     0.65866,     0.65966,     0.66066,     0.66166,     0.66266,     0.66366,     0.66466,     0.66567,     0.66667,     0.66767,     0.66867,     0.66967,     0.67067,     0.67167,\n",
              "           0.67267,     0.67367,     0.67467,     0.67568,     0.67668,     0.67768,     0.67868,     0.67968,     0.68068,     0.68168,     0.68268,     0.68368,     0.68468,     0.68569,     0.68669,     0.68769,     0.68869,     0.68969,     0.69069,     0.69169,     0.69269,     0.69369,     0.69469,      0.6957,\n",
              "            0.6967,      0.6977,      0.6987,      0.6997,      0.7007,      0.7017,      0.7027,      0.7037,      0.7047,     0.70571,     0.70671,     0.70771,     0.70871,     0.70971,     0.71071,     0.71171,     0.71271,     0.71371,     0.71471,     0.71572,     0.71672,     0.71772,     0.71872,     0.71972,\n",
              "           0.72072,     0.72172,     0.72272,     0.72372,     0.72472,     0.72573,     0.72673,     0.72773,     0.72873,     0.72973,     0.73073,     0.73173,     0.73273,     0.73373,     0.73473,     0.73574,     0.73674,     0.73774,     0.73874,     0.73974,     0.74074,     0.74174,     0.74274,     0.74374,\n",
              "           0.74474,     0.74575,     0.74675,     0.74775,     0.74875,     0.74975,     0.75075,     0.75175,     0.75275,     0.75375,     0.75475,     0.75576,     0.75676,     0.75776,     0.75876,     0.75976,     0.76076,     0.76176,     0.76276,     0.76376,     0.76476,     0.76577,     0.76677,     0.76777,\n",
              "           0.76877,     0.76977,     0.77077,     0.77177,     0.77277,     0.77377,     0.77477,     0.77578,     0.77678,     0.77778,     0.77878,     0.77978,     0.78078,     0.78178,     0.78278,     0.78378,     0.78478,     0.78579,     0.78679,     0.78779,     0.78879,     0.78979,     0.79079,     0.79179,\n",
              "           0.79279,     0.79379,     0.79479,      0.7958,      0.7968,      0.7978,      0.7988,      0.7998,      0.8008,      0.8018,      0.8028,      0.8038,      0.8048,     0.80581,     0.80681,     0.80781,     0.80881,     0.80981,     0.81081,     0.81181,     0.81281,     0.81381,     0.81481,     0.81582,\n",
              "           0.81682,     0.81782,     0.81882,     0.81982,     0.82082,     0.82182,     0.82282,     0.82382,     0.82482,     0.82583,     0.82683,     0.82783,     0.82883,     0.82983,     0.83083,     0.83183,     0.83283,     0.83383,     0.83483,     0.83584,     0.83684,     0.83784,     0.83884,     0.83984,\n",
              "           0.84084,     0.84184,     0.84284,     0.84384,     0.84484,     0.84585,     0.84685,     0.84785,     0.84885,     0.84985,     0.85085,     0.85185,     0.85285,     0.85385,     0.85485,     0.85586,     0.85686,     0.85786,     0.85886,     0.85986,     0.86086,     0.86186,     0.86286,     0.86386,\n",
              "           0.86486,     0.86587,     0.86687,     0.86787,     0.86887,     0.86987,     0.87087,     0.87187,     0.87287,     0.87387,     0.87487,     0.87588,     0.87688,     0.87788,     0.87888,     0.87988,     0.88088,     0.88188,     0.88288,     0.88388,     0.88488,     0.88589,     0.88689,     0.88789,\n",
              "           0.88889,     0.88989,     0.89089,     0.89189,     0.89289,     0.89389,     0.89489,      0.8959,      0.8969,      0.8979,      0.8989,      0.8999,      0.9009,      0.9019,      0.9029,      0.9039,      0.9049,     0.90591,     0.90691,     0.90791,     0.90891,     0.90991,     0.91091,     0.91191,\n",
              "           0.91291,     0.91391,     0.91491,     0.91592,     0.91692,     0.91792,     0.91892,     0.91992,     0.92092,     0.92192,     0.92292,     0.92392,     0.92492,     0.92593,     0.92693,     0.92793,     0.92893,     0.92993,     0.93093,     0.93193,     0.93293,     0.93393,     0.93493,     0.93594,\n",
              "           0.93694,     0.93794,     0.93894,     0.93994,     0.94094,     0.94194,     0.94294,     0.94394,     0.94494,     0.94595,     0.94695,     0.94795,     0.94895,     0.94995,     0.95095,     0.95195,     0.95295,     0.95395,     0.95495,     0.95596,     0.95696,     0.95796,     0.95896,     0.95996,\n",
              "           0.96096,     0.96196,     0.96296,     0.96396,     0.96496,     0.96597,     0.96697,     0.96797,     0.96897,     0.96997,     0.97097,     0.97197,     0.97297,     0.97397,     0.97497,     0.97598,     0.97698,     0.97798,     0.97898,     0.97998,     0.98098,     0.98198,     0.98298,     0.98398,\n",
              "           0.98498,     0.98599,     0.98699,     0.98799,     0.98899,     0.98999,     0.99099,     0.99199,     0.99299,     0.99399,     0.99499,       0.996,       0.997,       0.998,       0.999,           1]), array([[    0.20199,     0.20199,     0.28603,     0.33494,      0.3716,     0.39377,     0.41207,     0.43411,     0.45286,     0.46881,     0.47635,     0.48351,     0.48842,      0.4992,     0.50625,     0.51296,     0.51874,     0.52922,     0.53848,     0.54343,      0.5456,     0.55082,     0.56175,\n",
              "             0.5657,      0.5698,     0.57466,     0.57742,     0.58088,     0.59057,     0.59328,     0.59427,     0.59665,     0.60403,     0.60479,     0.60555,     0.60904,     0.61093,     0.61016,     0.61083,     0.61166,     0.61433,     0.61659,     0.62113,     0.62283,     0.62417,     0.62589,\n",
              "            0.62637,     0.62684,     0.62732,     0.62779,     0.63116,     0.63464,     0.63609,     0.63752,     0.63944,     0.64538,     0.64741,     0.64857,     0.65041,     0.65283,     0.65411,     0.65445,      0.6626,     0.66435,     0.66367,     0.66392,     0.66487,     0.66587,     0.66684,\n",
              "            0.66711,     0.66739,     0.66766,     0.66794,     0.66821,     0.66849,     0.66876,     0.66918,     0.67112,      0.6709,      0.6719,     0.67275,     0.67327,     0.67378,     0.67429,      0.6748,     0.67709,     0.67654,     0.67591,     0.67517,     0.67846,      0.6795,     0.68161,\n",
              "            0.68383,     0.68596,     0.68855,     0.69038,     0.69117,     0.69196,     0.69245,     0.69173,      0.6949,     0.69654,     0.69632,     0.69609,     0.69586,     0.69564,     0.69589,     0.69708,     0.69825,     0.69923,     0.70022,      0.7018,     0.70361,     0.70423,     0.70485,\n",
              "            0.70547,     0.70609,     0.71176,     0.71205,     0.71233,     0.71262,      0.7129,     0.71319,     0.71347,     0.71376,     0.71404,     0.71431,     0.71451,      0.7147,     0.71489,     0.71508,     0.71528,     0.71547,     0.71566,     0.71585,     0.71605,     0.71624,     0.71643,\n",
              "            0.71662,     0.71682,     0.71701,     0.71713,     0.71723,     0.71733,     0.71743,     0.71753,     0.71763,     0.71773,     0.71783,     0.71793,     0.71803,     0.71813,     0.71823,     0.71833,     0.71843,     0.71853,     0.71863,     0.71873,     0.71883,     0.71893,     0.71903,\n",
              "            0.71913,     0.71923,     0.71933,     0.71943,     0.71953,     0.71963,     0.71973,     0.71983,     0.72038,     0.72102,     0.72166,      0.7223,     0.72279,      0.7231,     0.72341,     0.72372,     0.72403,     0.72434,     0.72465,     0.72496,     0.72527,     0.72557,     0.72582,\n",
              "            0.72608,     0.72633,     0.72658,     0.72684,     0.72709,     0.72735,      0.7276,     0.72786,     0.72811,     0.72833,     0.72818,     0.72802,     0.72786,     0.72771,     0.72755,     0.72739,     0.72736,     0.72771,     0.72807,     0.72842,     0.72877,     0.72913,     0.72948,\n",
              "            0.72983,     0.73338,     0.73632,     0.73726,     0.73819,     0.73891,     0.73865,     0.73839,     0.73813,     0.74404,     0.74496,     0.74589,     0.74681,     0.74829,     0.74986,     0.75304,       0.753,     0.75295,     0.75291,     0.75286,     0.75282,     0.75277,     0.75272,\n",
              "            0.75268,     0.75263,     0.75259,     0.75254,      0.7525,     0.75245,      0.7524,     0.75236,     0.75231,     0.75227,     0.75222,     0.75218,     0.75213,     0.75208,     0.75239,     0.75293,     0.75348,     0.75402,     0.75457,     0.75511,     0.75539,     0.75562,     0.75585,\n",
              "            0.75608,     0.75632,     0.75655,     0.75678,     0.75701,     0.75725,     0.75748,     0.75771,     0.75794,     0.75818,     0.75853,     0.75915,     0.75977,     0.76039,     0.76101,     0.76144,     0.76113,     0.76081,     0.76057,     0.76276,     0.76404,     0.76462,     0.76519,\n",
              "            0.76577,     0.76635,     0.76692,     0.76739,     0.76785,     0.76831,     0.76878,     0.76924,      0.7697,     0.77016,     0.77052,     0.77087,     0.77121,     0.77156,      0.7719,     0.77225,      0.7726,     0.77294,     0.77329,     0.77363,     0.77396,     0.77429,     0.77462,\n",
              "            0.77496,     0.77529,     0.77562,     0.77595,     0.77628,     0.77662,     0.77785,     0.78026,     0.78084,     0.78142,     0.78199,     0.78257,     0.78315,     0.78407,     0.78582,     0.78705,     0.78732,     0.78758,     0.78785,     0.78811,     0.78838,     0.78864,     0.78891,\n",
              "            0.78918,     0.78944,     0.78971,     0.78997,     0.79024,     0.79061,     0.79112,     0.79162,     0.79213,     0.79264,     0.79315,     0.79365,     0.79395,     0.79411,     0.79427,     0.79443,     0.79459,     0.79475,     0.79491,     0.79507,     0.79523,     0.79539,     0.79555,\n",
              "            0.79571,     0.79587,     0.79603,     0.79618,     0.79634,      0.7965,     0.79666,     0.79682,     0.79698,     0.79714,      0.7973,      0.7982,     0.79952,     0.80083,     0.80439,     0.81167,     0.81235,     0.81303,     0.81371,     0.81439,     0.81507,     0.81487,     0.81465,\n",
              "            0.81505,     0.81545,     0.81585,     0.81625,     0.81665,     0.81705,     0.81745,     0.81784,     0.81821,     0.81837,     0.81854,      0.8187,     0.81887,     0.81903,      0.8192,     0.81936,     0.81953,     0.81969,     0.81985,     0.82002,     0.82018,     0.82035,     0.82051,\n",
              "            0.82068,     0.82084,     0.82101,     0.82117,     0.82134,      0.8215,     0.82167,     0.82183,     0.82181,     0.82159,     0.82137,     0.82114,     0.82807,     0.82836,     0.82795,     0.82992,     0.83214,     0.83414,     0.83576,      0.8361,     0.83645,     0.83679,     0.83714,\n",
              "            0.83748,     0.83782,     0.83817,     0.83851,     0.83885,      0.8392,     0.83954,     0.84003,     0.84055,     0.84108,      0.8416,     0.84213,     0.84266,     0.84318,     0.84356,     0.84337,     0.84318,     0.84299,       0.843,     0.84347,     0.84395,     0.84442,     0.84489,\n",
              "            0.84536,     0.84583,     0.84631,     0.84678,     0.84714,     0.84746,     0.84778,      0.8481,     0.84842,     0.84874,     0.84906,     0.84938,      0.8497,     0.85003,     0.85035,     0.85067,     0.85093,      0.8505,     0.85036,     0.85066,     0.85096,     0.85126,     0.85156,\n",
              "            0.85187,     0.85217,     0.85247,     0.85277,     0.85308,     0.85338,     0.85368,     0.85398,     0.85428,     0.85419,     0.85395,     0.85371,     0.85394,      0.8543,     0.85466,     0.85501,     0.85537,     0.85573,     0.85609,     0.85644,      0.8568,     0.85716,     0.85752,\n",
              "            0.85792,     0.85878,     0.85965,     0.86052,     0.86138,     0.86297,     0.86685,     0.86906,     0.87063,     0.87056,      0.8705,     0.87043,     0.87036,      0.8703,     0.87023,     0.87016,      0.8701,     0.87003,     0.87024,     0.87068,     0.87113,     0.87158,     0.87203,\n",
              "            0.87248,     0.87292,     0.87337,     0.87382,     0.87427,     0.87434,     0.87431,     0.87427,     0.87424,      0.8742,     0.87416,     0.87413,     0.87409,     0.87406,     0.87402,     0.87398,     0.87395,     0.87391,     0.87387,     0.87384,      0.8738,     0.87377,     0.87378,\n",
              "            0.87401,     0.87424,     0.87447,     0.87469,     0.87492,     0.87515,     0.87538,      0.8756,     0.87583,     0.87606,     0.87629,     0.87651,     0.87674,     0.87697,     0.87719,     0.87742,     0.87765,     0.87788,      0.8781,     0.87851,     0.87899,     0.87948,     0.87996,\n",
              "            0.88044,     0.88093,     0.88141,     0.88189,     0.88238,     0.88259,     0.88243,     0.88228,     0.88212,     0.88172,      0.8823,     0.88386,     0.88542,     0.88749,     0.88985,     0.89108,     0.89177,     0.89245,     0.89313,     0.89382,      0.8945,     0.89518,     0.89488,\n",
              "            0.89505,     0.89521,     0.89538,     0.89555,     0.89571,     0.89588,     0.89605,     0.89622,     0.89638,     0.89655,     0.89672,     0.89689,     0.89705,     0.89722,     0.89739,     0.89756,     0.89772,     0.89789,     0.89806,     0.89822,     0.89839,     0.89856,     0.89873,\n",
              "            0.89889,     0.89906,     0.89923,      0.8994,     0.90217,     0.90464,      0.9053,     0.90596,     0.90662,     0.90728,     0.90794,      0.9086,     0.90942,     0.91067,     0.91192,     0.91317,     0.91419,     0.91479,     0.91538,     0.91598,     0.91657,     0.91717,     0.91777,\n",
              "            0.91836,      0.9189,     0.91868,     0.91838,     0.91965,     0.92223,     0.92321,      0.9234,     0.92359,     0.92379,     0.92398,     0.92418,     0.92437,     0.92456,     0.92476,     0.92495,     0.92514,     0.92534,     0.92553,     0.92572,     0.92592,     0.92611,     0.92631,\n",
              "             0.9265,     0.92669,     0.92689,     0.92708,     0.92727,     0.92747,     0.92766,     0.92785,     0.92805,     0.92816,     0.92812,     0.92809,     0.92805,     0.92801,     0.92797,     0.92793,     0.92789,     0.92785,     0.92781,     0.92781,     0.92819,     0.92857,     0.92895,\n",
              "            0.92933,     0.92971,     0.93009,     0.93047,     0.93085,     0.93123,     0.93161,     0.93199,     0.93237,     0.93275,     0.93295,     0.93292,     0.93289,     0.93286,     0.93283,      0.9328,     0.93277,     0.93274,     0.93271,     0.93268,     0.93265,     0.93262,     0.93259,\n",
              "            0.93244,     0.93224,     0.93214,     0.93206,     0.93198,      0.9319,     0.93182,     0.93145,     0.93673,     0.93663,     0.93652,     0.93641,     0.93638,     0.93635,     0.93631,     0.93628,     0.93624,     0.93621,     0.93617,     0.93614,      0.9361,     0.93607,     0.93721,\n",
              "            0.94095,     0.94142,      0.9413,     0.94119,      0.9411,     0.94102,     0.94094,     0.94087,     0.94073,     0.94055,     0.94046,     0.94043,     0.94041,     0.94038,     0.94035,     0.94033,      0.9403,     0.94027,     0.94024,     0.94022,     0.94019,     0.94016,     0.94014,\n",
              "            0.93997,     0.94481,      0.9459,     0.94637,     0.94685,     0.94732,     0.94779,     0.94826,     0.94874,     0.94921,     0.94968,     0.95016,     0.95063,      0.9511,     0.95119,     0.95115,     0.95111,     0.95108,     0.95104,       0.951,     0.95096,     0.95092,     0.95082,\n",
              "            0.95072,     0.95062,     0.95051,     0.95041,      0.9503,     0.95014,     0.94997,     0.94975,     0.94963,     0.94955,     0.94947,     0.94939,     0.94928,     0.94917,     0.94906,     0.94886,     0.94846,     0.94818,     0.94801,     0.94791,     0.94781,     0.94736,     0.94713,\n",
              "            0.94699,     0.94693,     0.94688,     0.94682,     0.94677,     0.94671,     0.94661,     0.94637,     0.94877,     0.95205,     0.95244,     0.95231,     0.95223,     0.95214,     0.95206,     0.95198,     0.95189,     0.95181,     0.95172,     0.95168,     0.95163,     0.95159,     0.95154,\n",
              "            0.95149,     0.95145,      0.9514,     0.95129,     0.95115,     0.95102,      0.9509,     0.95078,     0.95109,     0.95224,      0.9534,     0.95455,      0.9557,     0.95685,     0.95739,     0.95726,     0.95683,     0.95667,     0.95614,     0.95545,     0.95528,     0.95477,      0.9545,\n",
              "            0.95443,     0.95435,     0.95428,     0.95421,     0.95391,     0.95324,      0.9528,     0.95253,     0.95233,      0.9522,     0.95207,     0.95197,     0.95191,     0.95185,     0.95179,     0.95173,     0.95167,      0.9516,      0.9515,      0.9514,      0.9513,     0.95506,     0.96513,\n",
              "            0.96683,     0.96669,     0.96655,      0.9664,     0.96628,     0.96617,     0.96953,     0.97393,     0.97376,     0.97362,      0.9735,      0.9732,     0.97272,     0.97259,     0.97244,     0.97326,     0.97947,     0.98093,      0.9808,     0.98067,     0.98056,     0.98048,      0.9804,\n",
              "            0.97964,     0.97921,     0.97896,     0.97839,     0.97823,     0.97816,     0.97809,     0.97777,      0.9776,     0.97745,     0.97732,     0.97693,     0.97662,     0.97642,     0.97606,      0.9755,     0.97534,     0.97462,      0.9744,     0.97425,     0.97411,     0.97319,     0.97256,\n",
              "            0.97245,     0.97233,     0.97222,     0.97134,     0.97117,     0.97098,     0.97058,     0.97048,     0.97038,     0.97028,     0.97018,     0.96868,     0.96834,     0.96706,     0.97056,     0.98239,     0.98217,     0.98157,     0.98091,     0.98073,     0.98063,     0.98054,     0.98044,\n",
              "            0.98019,     0.97955,     0.97749,     0.98131,           1,           1,           1,           1,           1,           1,           1,           1,           1,           1,           1,           1,           1,           1,           1,           1,           1,           1,           1,\n",
              "                  1,           1,           1,           1,           1,           1,           1,           1,           1,           1,           1,           1,           1,           1,           1,           1,           1,           1,           1,           1,           1,           1,           1,\n",
              "                  1,           1,           1,           1,           1,           1,           1,           1,           1,           1,           1,           1,           1,           1,           1,           1,           1,           1,           1,           1,           1,           1,           1,\n",
              "                  1,           1,           1,           1,           1,           1,           1,           1,           1,           1,           1]]), 'Confidence', 'Precision'], [array([          0,    0.001001,    0.002002,    0.003003,    0.004004,    0.005005,    0.006006,    0.007007,    0.008008,    0.009009,     0.01001,    0.011011,    0.012012,    0.013013,    0.014014,    0.015015,    0.016016,    0.017017,    0.018018,    0.019019,     0.02002,    0.021021,    0.022022,    0.023023,\n",
              "          0.024024,    0.025025,    0.026026,    0.027027,    0.028028,    0.029029,     0.03003,    0.031031,    0.032032,    0.033033,    0.034034,    0.035035,    0.036036,    0.037037,    0.038038,    0.039039,     0.04004,    0.041041,    0.042042,    0.043043,    0.044044,    0.045045,    0.046046,    0.047047,\n",
              "          0.048048,    0.049049,     0.05005,    0.051051,    0.052052,    0.053053,    0.054054,    0.055055,    0.056056,    0.057057,    0.058058,    0.059059,     0.06006,    0.061061,    0.062062,    0.063063,    0.064064,    0.065065,    0.066066,    0.067067,    0.068068,    0.069069,     0.07007,    0.071071,\n",
              "          0.072072,    0.073073,    0.074074,    0.075075,    0.076076,    0.077077,    0.078078,    0.079079,     0.08008,    0.081081,    0.082082,    0.083083,    0.084084,    0.085085,    0.086086,    0.087087,    0.088088,    0.089089,     0.09009,    0.091091,    0.092092,    0.093093,    0.094094,    0.095095,\n",
              "          0.096096,    0.097097,    0.098098,    0.099099,      0.1001,      0.1011,      0.1021,      0.1031,      0.1041,     0.10511,     0.10611,     0.10711,     0.10811,     0.10911,     0.11011,     0.11111,     0.11211,     0.11311,     0.11411,     0.11512,     0.11612,     0.11712,     0.11812,     0.11912,\n",
              "           0.12012,     0.12112,     0.12212,     0.12312,     0.12412,     0.12513,     0.12613,     0.12713,     0.12813,     0.12913,     0.13013,     0.13113,     0.13213,     0.13313,     0.13413,     0.13514,     0.13614,     0.13714,     0.13814,     0.13914,     0.14014,     0.14114,     0.14214,     0.14314,\n",
              "           0.14414,     0.14515,     0.14615,     0.14715,     0.14815,     0.14915,     0.15015,     0.15115,     0.15215,     0.15315,     0.15415,     0.15516,     0.15616,     0.15716,     0.15816,     0.15916,     0.16016,     0.16116,     0.16216,     0.16316,     0.16416,     0.16517,     0.16617,     0.16717,\n",
              "           0.16817,     0.16917,     0.17017,     0.17117,     0.17217,     0.17317,     0.17417,     0.17518,     0.17618,     0.17718,     0.17818,     0.17918,     0.18018,     0.18118,     0.18218,     0.18318,     0.18418,     0.18519,     0.18619,     0.18719,     0.18819,     0.18919,     0.19019,     0.19119,\n",
              "           0.19219,     0.19319,     0.19419,      0.1952,      0.1962,      0.1972,      0.1982,      0.1992,      0.2002,      0.2012,      0.2022,      0.2032,      0.2042,     0.20521,     0.20621,     0.20721,     0.20821,     0.20921,     0.21021,     0.21121,     0.21221,     0.21321,     0.21421,     0.21522,\n",
              "           0.21622,     0.21722,     0.21822,     0.21922,     0.22022,     0.22122,     0.22222,     0.22322,     0.22422,     0.22523,     0.22623,     0.22723,     0.22823,     0.22923,     0.23023,     0.23123,     0.23223,     0.23323,     0.23423,     0.23524,     0.23624,     0.23724,     0.23824,     0.23924,\n",
              "           0.24024,     0.24124,     0.24224,     0.24324,     0.24424,     0.24525,     0.24625,     0.24725,     0.24825,     0.24925,     0.25025,     0.25125,     0.25225,     0.25325,     0.25425,     0.25526,     0.25626,     0.25726,     0.25826,     0.25926,     0.26026,     0.26126,     0.26226,     0.26326,\n",
              "           0.26426,     0.26527,     0.26627,     0.26727,     0.26827,     0.26927,     0.27027,     0.27127,     0.27227,     0.27327,     0.27427,     0.27528,     0.27628,     0.27728,     0.27828,     0.27928,     0.28028,     0.28128,     0.28228,     0.28328,     0.28428,     0.28529,     0.28629,     0.28729,\n",
              "           0.28829,     0.28929,     0.29029,     0.29129,     0.29229,     0.29329,     0.29429,      0.2953,      0.2963,      0.2973,      0.2983,      0.2993,      0.3003,      0.3013,      0.3023,      0.3033,      0.3043,     0.30531,     0.30631,     0.30731,     0.30831,     0.30931,     0.31031,     0.31131,\n",
              "           0.31231,     0.31331,     0.31431,     0.31532,     0.31632,     0.31732,     0.31832,     0.31932,     0.32032,     0.32132,     0.32232,     0.32332,     0.32432,     0.32533,     0.32633,     0.32733,     0.32833,     0.32933,     0.33033,     0.33133,     0.33233,     0.33333,     0.33433,     0.33534,\n",
              "           0.33634,     0.33734,     0.33834,     0.33934,     0.34034,     0.34134,     0.34234,     0.34334,     0.34434,     0.34535,     0.34635,     0.34735,     0.34835,     0.34935,     0.35035,     0.35135,     0.35235,     0.35335,     0.35435,     0.35536,     0.35636,     0.35736,     0.35836,     0.35936,\n",
              "           0.36036,     0.36136,     0.36236,     0.36336,     0.36436,     0.36537,     0.36637,     0.36737,     0.36837,     0.36937,     0.37037,     0.37137,     0.37237,     0.37337,     0.37437,     0.37538,     0.37638,     0.37738,     0.37838,     0.37938,     0.38038,     0.38138,     0.38238,     0.38338,\n",
              "           0.38438,     0.38539,     0.38639,     0.38739,     0.38839,     0.38939,     0.39039,     0.39139,     0.39239,     0.39339,     0.39439,      0.3954,      0.3964,      0.3974,      0.3984,      0.3994,      0.4004,      0.4014,      0.4024,      0.4034,      0.4044,     0.40541,     0.40641,     0.40741,\n",
              "           0.40841,     0.40941,     0.41041,     0.41141,     0.41241,     0.41341,     0.41441,     0.41542,     0.41642,     0.41742,     0.41842,     0.41942,     0.42042,     0.42142,     0.42242,     0.42342,     0.42442,     0.42543,     0.42643,     0.42743,     0.42843,     0.42943,     0.43043,     0.43143,\n",
              "           0.43243,     0.43343,     0.43443,     0.43544,     0.43644,     0.43744,     0.43844,     0.43944,     0.44044,     0.44144,     0.44244,     0.44344,     0.44444,     0.44545,     0.44645,     0.44745,     0.44845,     0.44945,     0.45045,     0.45145,     0.45245,     0.45345,     0.45445,     0.45546,\n",
              "           0.45646,     0.45746,     0.45846,     0.45946,     0.46046,     0.46146,     0.46246,     0.46346,     0.46446,     0.46547,     0.46647,     0.46747,     0.46847,     0.46947,     0.47047,     0.47147,     0.47247,     0.47347,     0.47447,     0.47548,     0.47648,     0.47748,     0.47848,     0.47948,\n",
              "           0.48048,     0.48148,     0.48248,     0.48348,     0.48448,     0.48549,     0.48649,     0.48749,     0.48849,     0.48949,     0.49049,     0.49149,     0.49249,     0.49349,     0.49449,      0.4955,      0.4965,      0.4975,      0.4985,      0.4995,      0.5005,      0.5015,      0.5025,      0.5035,\n",
              "            0.5045,     0.50551,     0.50651,     0.50751,     0.50851,     0.50951,     0.51051,     0.51151,     0.51251,     0.51351,     0.51451,     0.51552,     0.51652,     0.51752,     0.51852,     0.51952,     0.52052,     0.52152,     0.52252,     0.52352,     0.52452,     0.52553,     0.52653,     0.52753,\n",
              "           0.52853,     0.52953,     0.53053,     0.53153,     0.53253,     0.53353,     0.53453,     0.53554,     0.53654,     0.53754,     0.53854,     0.53954,     0.54054,     0.54154,     0.54254,     0.54354,     0.54454,     0.54555,     0.54655,     0.54755,     0.54855,     0.54955,     0.55055,     0.55155,\n",
              "           0.55255,     0.55355,     0.55455,     0.55556,     0.55656,     0.55756,     0.55856,     0.55956,     0.56056,     0.56156,     0.56256,     0.56356,     0.56456,     0.56557,     0.56657,     0.56757,     0.56857,     0.56957,     0.57057,     0.57157,     0.57257,     0.57357,     0.57457,     0.57558,\n",
              "           0.57658,     0.57758,     0.57858,     0.57958,     0.58058,     0.58158,     0.58258,     0.58358,     0.58458,     0.58559,     0.58659,     0.58759,     0.58859,     0.58959,     0.59059,     0.59159,     0.59259,     0.59359,     0.59459,      0.5956,      0.5966,      0.5976,      0.5986,      0.5996,\n",
              "            0.6006,      0.6016,      0.6026,      0.6036,      0.6046,     0.60561,     0.60661,     0.60761,     0.60861,     0.60961,     0.61061,     0.61161,     0.61261,     0.61361,     0.61461,     0.61562,     0.61662,     0.61762,     0.61862,     0.61962,     0.62062,     0.62162,     0.62262,     0.62362,\n",
              "           0.62462,     0.62563,     0.62663,     0.62763,     0.62863,     0.62963,     0.63063,     0.63163,     0.63263,     0.63363,     0.63463,     0.63564,     0.63664,     0.63764,     0.63864,     0.63964,     0.64064,     0.64164,     0.64264,     0.64364,     0.64464,     0.64565,     0.64665,     0.64765,\n",
              "           0.64865,     0.64965,     0.65065,     0.65165,     0.65265,     0.65365,     0.65465,     0.65566,     0.65666,     0.65766,     0.65866,     0.65966,     0.66066,     0.66166,     0.66266,     0.66366,     0.66466,     0.66567,     0.66667,     0.66767,     0.66867,     0.66967,     0.67067,     0.67167,\n",
              "           0.67267,     0.67367,     0.67467,     0.67568,     0.67668,     0.67768,     0.67868,     0.67968,     0.68068,     0.68168,     0.68268,     0.68368,     0.68468,     0.68569,     0.68669,     0.68769,     0.68869,     0.68969,     0.69069,     0.69169,     0.69269,     0.69369,     0.69469,      0.6957,\n",
              "            0.6967,      0.6977,      0.6987,      0.6997,      0.7007,      0.7017,      0.7027,      0.7037,      0.7047,     0.70571,     0.70671,     0.70771,     0.70871,     0.70971,     0.71071,     0.71171,     0.71271,     0.71371,     0.71471,     0.71572,     0.71672,     0.71772,     0.71872,     0.71972,\n",
              "           0.72072,     0.72172,     0.72272,     0.72372,     0.72472,     0.72573,     0.72673,     0.72773,     0.72873,     0.72973,     0.73073,     0.73173,     0.73273,     0.73373,     0.73473,     0.73574,     0.73674,     0.73774,     0.73874,     0.73974,     0.74074,     0.74174,     0.74274,     0.74374,\n",
              "           0.74474,     0.74575,     0.74675,     0.74775,     0.74875,     0.74975,     0.75075,     0.75175,     0.75275,     0.75375,     0.75475,     0.75576,     0.75676,     0.75776,     0.75876,     0.75976,     0.76076,     0.76176,     0.76276,     0.76376,     0.76476,     0.76577,     0.76677,     0.76777,\n",
              "           0.76877,     0.76977,     0.77077,     0.77177,     0.77277,     0.77377,     0.77477,     0.77578,     0.77678,     0.77778,     0.77878,     0.77978,     0.78078,     0.78178,     0.78278,     0.78378,     0.78478,     0.78579,     0.78679,     0.78779,     0.78879,     0.78979,     0.79079,     0.79179,\n",
              "           0.79279,     0.79379,     0.79479,      0.7958,      0.7968,      0.7978,      0.7988,      0.7998,      0.8008,      0.8018,      0.8028,      0.8038,      0.8048,     0.80581,     0.80681,     0.80781,     0.80881,     0.80981,     0.81081,     0.81181,     0.81281,     0.81381,     0.81481,     0.81582,\n",
              "           0.81682,     0.81782,     0.81882,     0.81982,     0.82082,     0.82182,     0.82282,     0.82382,     0.82482,     0.82583,     0.82683,     0.82783,     0.82883,     0.82983,     0.83083,     0.83183,     0.83283,     0.83383,     0.83483,     0.83584,     0.83684,     0.83784,     0.83884,     0.83984,\n",
              "           0.84084,     0.84184,     0.84284,     0.84384,     0.84484,     0.84585,     0.84685,     0.84785,     0.84885,     0.84985,     0.85085,     0.85185,     0.85285,     0.85385,     0.85485,     0.85586,     0.85686,     0.85786,     0.85886,     0.85986,     0.86086,     0.86186,     0.86286,     0.86386,\n",
              "           0.86486,     0.86587,     0.86687,     0.86787,     0.86887,     0.86987,     0.87087,     0.87187,     0.87287,     0.87387,     0.87487,     0.87588,     0.87688,     0.87788,     0.87888,     0.87988,     0.88088,     0.88188,     0.88288,     0.88388,     0.88488,     0.88589,     0.88689,     0.88789,\n",
              "           0.88889,     0.88989,     0.89089,     0.89189,     0.89289,     0.89389,     0.89489,      0.8959,      0.8969,      0.8979,      0.8989,      0.8999,      0.9009,      0.9019,      0.9029,      0.9039,      0.9049,     0.90591,     0.90691,     0.90791,     0.90891,     0.90991,     0.91091,     0.91191,\n",
              "           0.91291,     0.91391,     0.91491,     0.91592,     0.91692,     0.91792,     0.91892,     0.91992,     0.92092,     0.92192,     0.92292,     0.92392,     0.92492,     0.92593,     0.92693,     0.92793,     0.92893,     0.92993,     0.93093,     0.93193,     0.93293,     0.93393,     0.93493,     0.93594,\n",
              "           0.93694,     0.93794,     0.93894,     0.93994,     0.94094,     0.94194,     0.94294,     0.94394,     0.94494,     0.94595,     0.94695,     0.94795,     0.94895,     0.94995,     0.95095,     0.95195,     0.95295,     0.95395,     0.95495,     0.95596,     0.95696,     0.95796,     0.95896,     0.95996,\n",
              "           0.96096,     0.96196,     0.96296,     0.96396,     0.96496,     0.96597,     0.96697,     0.96797,     0.96897,     0.96997,     0.97097,     0.97197,     0.97297,     0.97397,     0.97497,     0.97598,     0.97698,     0.97798,     0.97898,     0.97998,     0.98098,     0.98198,     0.98298,     0.98398,\n",
              "           0.98498,     0.98599,     0.98699,     0.98799,     0.98899,     0.98999,     0.99099,     0.99199,     0.99299,     0.99399,     0.99499,       0.996,       0.997,       0.998,       0.999,           1]), array([[    0.97596,     0.97596,     0.97596,     0.97115,     0.97115,     0.96635,     0.96635,     0.96635,     0.96635,     0.96635,     0.96154,     0.95414,     0.95192,     0.95192,     0.95192,     0.95192,     0.95192,     0.95192,     0.95192,     0.94712,     0.94712,     0.94712,     0.94712,\n",
              "            0.94712,     0.94712,     0.94231,     0.94231,      0.9375,      0.9375,      0.9375,      0.9375,      0.9375,      0.9375,      0.9375,      0.9375,      0.9375,      0.9375,     0.93309,     0.93269,     0.93269,     0.93269,     0.93269,     0.93269,     0.93269,     0.93269,     0.93269,\n",
              "            0.93269,     0.93269,     0.93269,     0.93269,     0.93269,     0.93269,     0.93269,     0.93269,     0.93269,     0.93269,     0.93269,     0.93269,     0.93269,     0.93269,     0.92738,     0.92308,     0.92308,     0.92304,     0.92022,     0.91827,     0.91566,     0.91346,     0.91346,\n",
              "            0.91346,     0.91346,     0.91346,     0.91346,     0.91346,     0.91346,     0.91346,     0.91346,     0.91346,     0.90865,     0.90865,     0.90865,     0.90865,     0.90865,     0.90865,     0.90865,     0.90728,     0.90502,      0.9024,     0.89936,     0.89904,     0.89904,     0.89904,\n",
              "            0.89904,     0.89904,     0.89904,     0.89904,     0.89904,     0.89904,     0.89844,     0.89541,     0.89423,     0.89386,     0.89291,     0.89196,     0.89101,     0.89006,     0.88942,     0.88942,     0.88942,     0.88942,     0.88942,     0.88942,     0.88942,     0.88942,     0.88942,\n",
              "            0.88942,     0.88942,     0.88942,     0.88942,     0.88942,     0.88942,     0.88942,     0.88942,     0.88942,     0.88942,     0.88942,     0.88942,     0.88942,     0.88942,     0.88942,     0.88942,     0.88942,     0.88942,     0.88942,     0.88942,     0.88942,     0.88942,     0.88942,\n",
              "            0.88942,     0.88942,     0.88942,     0.88942,     0.88942,     0.88942,     0.88942,     0.88942,     0.88942,     0.88942,     0.88942,     0.88942,     0.88942,     0.88942,     0.88942,     0.88942,     0.88942,     0.88942,     0.88942,     0.88942,     0.88942,     0.88942,     0.88942,\n",
              "            0.88942,     0.88942,     0.88942,     0.88942,     0.88942,     0.88942,     0.88942,     0.88942,     0.88942,     0.88942,     0.88942,     0.88942,     0.88942,     0.88942,     0.88942,     0.88942,     0.88942,     0.88942,     0.88942,     0.88942,     0.88942,     0.88942,     0.88942,\n",
              "            0.88942,     0.88942,     0.88942,     0.88942,     0.88942,     0.88942,     0.88942,     0.88942,     0.88942,     0.88937,     0.88866,     0.88796,     0.88726,     0.88655,     0.88585,     0.88514,     0.88462,     0.88462,     0.88462,     0.88462,     0.88462,     0.88462,     0.88462,\n",
              "            0.88462,     0.88462,     0.88462,     0.88462,     0.88462,     0.88441,     0.88321,     0.88202,     0.88082,     0.87981,     0.87981,     0.87981,     0.87981,     0.87981,     0.87981,     0.87961,      0.8794,     0.87918,     0.87897,     0.87875,     0.87853,     0.87832,      0.8781,\n",
              "            0.87789,     0.87767,     0.87746,     0.87724,     0.87703,     0.87681,      0.8766,     0.87638,     0.87617,     0.87595,     0.87573,     0.87552,      0.8753,     0.87509,       0.875,       0.875,       0.875,       0.875,       0.875,       0.875,       0.875,       0.875,       0.875,\n",
              "              0.875,       0.875,       0.875,       0.875,       0.875,       0.875,       0.875,       0.875,       0.875,       0.875,       0.875,       0.875,       0.875,       0.875,       0.875,     0.87469,     0.87318,     0.87166,     0.87019,     0.87019,     0.87019,     0.87019,     0.87019,\n",
              "            0.87019,     0.87019,     0.87019,     0.87019,     0.87019,     0.87019,     0.87019,     0.87019,     0.87019,     0.87019,     0.87019,     0.87019,     0.87019,     0.87019,     0.87019,     0.87019,     0.87019,     0.87019,     0.87019,     0.87019,     0.87019,     0.87019,     0.87019,\n",
              "            0.87019,     0.87019,     0.87019,     0.87019,     0.87019,     0.87019,     0.87019,     0.87019,     0.87019,     0.87019,     0.87019,     0.87019,     0.87019,     0.87019,     0.87019,     0.87019,     0.87019,     0.87019,     0.87019,     0.87019,     0.87019,     0.87019,     0.87019,\n",
              "            0.87019,     0.87019,     0.87019,     0.87019,     0.87019,     0.87019,     0.87019,     0.87019,     0.87019,     0.87019,     0.87019,     0.87019,     0.87019,     0.87019,     0.87019,     0.87019,     0.87019,     0.87019,     0.87019,     0.87019,     0.87019,     0.87019,     0.87019,\n",
              "            0.87019,     0.87019,     0.87019,     0.87019,     0.87019,     0.87019,     0.87019,     0.87019,     0.87019,     0.87019,     0.87019,     0.87019,     0.87019,     0.87019,     0.87019,     0.87019,     0.87019,     0.87019,     0.87019,     0.87019,     0.87019,     0.86766,     0.86538,\n",
              "            0.86538,     0.86538,     0.86538,     0.86538,     0.86538,     0.86538,     0.86538,     0.86538,     0.86538,     0.86538,     0.86538,     0.86538,     0.86538,     0.86538,     0.86538,     0.86538,     0.86538,     0.86538,     0.86538,     0.86538,     0.86538,     0.86538,     0.86538,\n",
              "            0.86538,     0.86538,     0.86538,     0.86538,     0.86538,     0.86538,     0.86538,     0.86538,     0.86476,     0.86345,     0.86213,     0.86082,     0.86058,     0.85851,     0.85605,     0.85577,     0.85577,     0.85577,     0.85577,     0.85577,     0.85577,     0.85577,     0.85577,\n",
              "            0.85577,     0.85577,     0.85577,     0.85577,     0.85577,     0.85577,     0.85577,     0.85577,     0.85577,     0.85577,     0.85577,     0.85577,     0.85577,     0.85577,     0.85552,     0.85428,     0.85305,     0.85182,     0.85096,     0.85096,     0.85096,     0.85096,     0.85096,\n",
              "            0.85096,     0.85096,     0.85096,     0.85096,     0.85096,     0.85096,     0.85096,     0.85096,     0.85096,     0.85096,     0.85096,     0.85096,     0.85096,     0.85096,     0.85096,     0.85096,     0.85072,     0.84791,     0.84615,     0.84615,     0.84615,     0.84615,     0.84615,\n",
              "            0.84615,     0.84615,     0.84615,     0.84615,     0.84615,     0.84615,     0.84615,     0.84615,     0.84615,     0.84497,     0.84333,     0.84169,     0.84135,     0.84135,     0.84135,     0.84135,     0.84135,     0.84135,     0.84135,     0.84135,     0.84135,     0.84135,     0.84135,\n",
              "            0.84135,     0.84135,     0.84135,     0.84135,     0.84135,     0.84135,     0.84135,     0.84135,     0.84121,     0.84072,     0.84022,     0.83973,     0.83924,     0.83874,     0.83825,     0.83776,     0.83727,     0.83677,     0.83654,     0.83654,     0.83654,     0.83654,     0.83654,\n",
              "            0.83654,     0.83654,     0.83654,     0.83654,     0.83654,     0.83633,     0.83605,     0.83578,     0.83551,     0.83523,     0.83496,     0.83469,     0.83441,     0.83414,     0.83386,     0.83359,     0.83332,     0.83304,     0.83277,      0.8325,     0.83222,     0.83195,     0.83173,\n",
              "            0.83173,     0.83173,     0.83173,     0.83173,     0.83173,     0.83173,     0.83173,     0.83173,     0.83173,     0.83173,     0.83173,     0.83173,     0.83173,     0.83173,     0.83173,     0.83173,     0.83173,     0.83173,     0.83173,     0.83173,     0.83173,     0.83173,     0.83173,\n",
              "            0.83173,     0.83173,     0.83173,     0.83173,     0.83173,      0.8312,     0.82997,     0.82874,     0.82751,     0.82433,     0.82212,     0.82212,     0.82212,     0.82212,     0.82212,     0.82212,     0.82212,     0.82212,     0.82212,     0.82212,     0.82212,     0.82212,     0.81731,\n",
              "            0.81731,     0.81731,     0.81731,     0.81731,     0.81731,     0.81731,     0.81731,     0.81731,     0.81731,     0.81731,     0.81731,     0.81731,     0.81731,     0.81731,     0.81731,     0.81731,     0.81731,     0.81731,     0.81731,     0.81731,     0.81731,     0.81731,     0.81731,\n",
              "            0.81731,     0.81731,     0.81731,     0.81731,     0.81731,     0.81731,     0.81731,     0.81731,     0.81731,     0.81731,     0.81731,     0.81731,     0.81731,     0.81731,     0.81731,     0.81731,     0.81731,     0.81731,     0.81731,     0.81731,     0.81731,     0.81731,     0.81731,\n",
              "            0.81731,     0.81715,     0.81469,     0.81139,     0.80769,     0.80769,     0.80769,     0.80769,     0.80769,     0.80769,     0.80769,     0.80769,     0.80769,     0.80769,     0.80769,     0.80769,     0.80769,     0.80769,     0.80769,     0.80769,     0.80769,     0.80769,     0.80769,\n",
              "            0.80769,     0.80769,     0.80769,     0.80769,     0.80769,     0.80769,     0.80769,     0.80769,     0.80769,     0.80754,     0.80707,      0.8066,     0.80613,     0.80566,     0.80519,     0.80472,     0.80425,     0.80378,     0.80331,     0.80288,     0.80288,     0.80288,     0.80288,\n",
              "            0.80288,     0.80288,     0.80288,     0.80288,     0.80288,     0.80288,     0.80288,     0.80288,     0.80288,     0.80288,     0.80272,     0.80234,     0.80196,     0.80158,      0.8012,     0.80083,     0.80045,     0.80007,     0.79969,     0.79931,     0.79893,     0.79855,     0.79817,\n",
              "            0.79623,     0.79377,     0.79248,      0.7915,     0.79051,     0.78953,     0.78854,     0.78393,     0.78301,      0.7816,      0.7802,     0.77883,     0.77838,     0.77793,     0.77748,     0.77704,     0.77659,     0.77614,     0.77569,     0.77524,      0.7748,     0.77435,     0.77404,\n",
              "            0.77404,     0.77265,       0.771,     0.76936,     0.76822,     0.76713,     0.76603,     0.76494,     0.76312,     0.76065,      0.7594,     0.75904,     0.75867,     0.75831,     0.75794,     0.75758,     0.75721,     0.75685,     0.75648,     0.75612,     0.75575,     0.75539,     0.75502,\n",
              "             0.7528,        0.75,        0.75,        0.75,        0.75,        0.75,        0.75,        0.75,        0.75,        0.75,        0.75,        0.75,        0.75,        0.75,     0.74954,     0.74892,     0.74831,     0.74769,     0.74707,     0.74646,     0.74584,     0.74523,     0.74364,\n",
              "              0.742,     0.74035,     0.73871,     0.73707,     0.73535,     0.73289,     0.73031,     0.72702,     0.72513,      0.7239,     0.72266,     0.72143,     0.71988,     0.71824,      0.7166,     0.71356,     0.70775,     0.70378,     0.70131,      0.6999,      0.6985,     0.69225,     0.68896,\n",
              "            0.68708,     0.68632,     0.68556,      0.6848,     0.68405,     0.68329,     0.68199,      0.6787,     0.67788,     0.67788,     0.67394,     0.67206,     0.67083,      0.6696,     0.66837,     0.66713,      0.6659,     0.66467,     0.66345,     0.66279,     0.66213,     0.66148,     0.66082,\n",
              "            0.66016,     0.65951,     0.65885,     0.65727,      0.6553,     0.65341,     0.65177,     0.65013,     0.64904,     0.64904,     0.64904,     0.64904,     0.64904,     0.64904,     0.64809,     0.64611,     0.63931,     0.63685,     0.62889,      0.6187,     0.61624,     0.60894,      0.6051,\n",
              "            0.60411,     0.60313,     0.60214,     0.60116,     0.59702,     0.58802,     0.58235,     0.57886,     0.57625,     0.57461,     0.57296,     0.57175,     0.57099,     0.57023,     0.56947,     0.56872,     0.56796,     0.56713,      0.5659,     0.56467,     0.56344,      0.5625,      0.5625,\n",
              "            0.56059,     0.55812,     0.55566,     0.55319,     0.55116,     0.54919,     0.54327,     0.53874,     0.53527,      0.5324,     0.52994,     0.52369,     0.51419,     0.51173,     0.50891,     0.50481,     0.50481,     0.49448,      0.4912,     0.48791,     0.48501,     0.48303,     0.48106,\n",
              "            0.46277,     0.45291,     0.44749,     0.43535,     0.43204,     0.43064,     0.42923,     0.42293,     0.41964,     0.41683,     0.41437,     0.40724,     0.40169,     0.39809,     0.39209,     0.38282,     0.38036,     0.36924,     0.36595,     0.36376,     0.36178,     0.34905,     0.34077,\n",
              "            0.33936,     0.33795,     0.33654,     0.32592,     0.32395,     0.32177,      0.3172,     0.31611,     0.31501,     0.31392,     0.31282,     0.29736,     0.29408,     0.28234,     0.26923,      0.2682,     0.26491,     0.25603,     0.24712,     0.24468,     0.24345,     0.24222,     0.24099,\n",
              "            0.23787,     0.23031,     0.20878,     0.20192,     0.19893,       0.194,     0.18694,     0.18366,     0.17922,     0.16227,     0.15734,     0.15289,      0.1496,     0.14088,     0.13103,     0.12308,     0.11131,     0.10754,     0.10031,    0.098903,    0.097495,    0.090879,    0.080812,\n",
              "           0.079169,    0.077526,    0.073805,     0.07082,    0.068849,    0.065157,    0.057094,     0.05463,    0.050012,    0.044116,    0.042103,    0.040695,    0.039287,    0.032295,     0.02901,    0.019356,    0.016029,    0.014283,    0.014009,    0.013736,    0.013462,    0.013188,    0.012914,\n",
              "            0.01264,    0.012367,    0.012093,    0.011819,    0.011545,    0.011272,    0.010998,    0.010724,     0.01045,    0.010176,   0.0099027,   0.0096289,           0,           0,           0,           0,           0,           0,           0,           0,           0,           0,           0,\n",
              "                  0,           0,           0,           0,           0,           0,           0,           0,           0,           0,           0]]), 'Confidence', 'Recall']]\n",
              "fitness: np.float64(0.7127301969796338)\n",
              "keys: ['metrics/precision(B)', 'metrics/recall(B)', 'metrics/mAP50(B)', 'metrics/mAP50-95(B)']\n",
              "maps: array([    0.69084])\n",
              "names: {0: 'kedo'}\n",
              "nt_per_class: array([208])\n",
              "nt_per_image: array([201])\n",
              "results_dict: {'metrics/precision(B)': np.float64(0.9263051595771056), 'metrics/recall(B)': np.float64(0.8076923076923077), 'metrics/mAP50(B)': np.float64(0.9097637117864646), 'metrics/mAP50-95(B)': np.float64(0.6908375842233193), 'fitness': np.float64(0.7127301969796338)}\n",
              "save_dir: PosixPath('kedi_project/yolov8s_cat')\n",
              "speed: {'preprocess': 0.3347268109438974, 'inference': 3.2356503184064196, 'loss': 0.000411686568581198, 'postprocess': 2.9294328159248924}\n",
              "stats: {'tp': [], 'conf': [], 'pred_cls': [], 'target_cls': [], 'target_img': []}\n",
              "task: 'detect'"
            ]
          },
          "metadata": {},
          "execution_count": 20
        }
      ]
    },
    {
      "cell_type": "code",
      "source": [
        "from ultralytics import YOLO\n",
        "\n",
        "model = YOLO(\"/content/kedi_project/yolov8s_cat/weights/best.pt\")\n",
        "model.predict(source=\"/content/dataset/test/images\", save=True, imgsz=416)"
      ],
      "metadata": {
        "id": "ce_hzx4O8MzC"
      },
      "execution_count": null,
      "outputs": []
    },
    {
      "cell_type": "code",
      "source": [
        "!ls -R runs/train | sed -n '1,40p'"
      ],
      "metadata": {
        "id": "BGDCdrQL8mvp"
      },
      "execution_count": null,
      "outputs": []
    },
    {
      "cell_type": "code",
      "source": [
        "!ls runs/detect/predict | head"
      ],
      "metadata": {
        "id": "DdbFT-uE9axv"
      },
      "execution_count": null,
      "outputs": []
    },
    {
      "cell_type": "code",
      "source": [
        "from IPython.display import Image, display\n",
        "display(Image(filename='runs/detect/predict/9290a96f-116b-487f-a0dc-9044f1fc96ab_jpg.rf.d3df0f64c47c23cd6e9506775ac35836.jpg'))"
      ],
      "metadata": {
        "id": "zPixwTOM9lpv"
      },
      "execution_count": null,
      "outputs": []
    },
    {
      "cell_type": "code",
      "source": [
        "from ultralytics import YOLO\n",
        "import matplotlib.pyplot as plt\n",
        "\n",
        "\n",
        "model = YOLO(\"/content/kedi_project/yolov8s_cat/weights/best.pt\")\n",
        "\n",
        "# 1) Tahmin – save=False, tek sonuç al\n",
        "result = model.predict(\"cc.png\", conf=0.7, iou=0.2, agnostic_nms=True, imgsz=800, save=False)[0]\n",
        "\n",
        "# 2) Çizilmiş resmi ekrana bas\n",
        "plt.imshow(result.plot())   # result.plot() -> Numpy array (kutular çizili)\n",
        "plt.axis('off')\n",
        "plt.show()"
      ],
      "metadata": {
        "id": "vYOhcTJc_bo5"
      },
      "execution_count": null,
      "outputs": []
    },
    {
      "cell_type": "code",
      "source": [
        "from ultralytics import YOLO\n",
        "import matplotlib.pyplot as plt\n",
        "\n",
        "\n",
        "model = YOLO(\"/content/kedi_project/yolov8s_cat/weights/best.pt\")\n",
        "\n",
        "# 1) Tahmin – save=False, tek sonuç al\n",
        "result = model.predict(\"hh.png\", conf=0.1, iou=0.2, agnostic_nms=True, imgsz=800, save=False)[0]\n",
        "\n",
        "# 2) Çizilmiş resmi ekrana bas\n",
        "plt.imshow(result.plot())   # result.plot() -> Numpy array (kutular çizili)\n",
        "plt.axis('off')\n",
        "plt.show()"
      ],
      "metadata": {
        "id": "OWzEOqtXK63M"
      },
      "execution_count": null,
      "outputs": []
    },
    {
      "cell_type": "code",
      "source": [
        "!zip -qr kedi_project.zip kedi_project\n",
        "from google.colab import files\n",
        "files.download(\"kedi_project.zip\")"
      ],
      "metadata": {
        "id": "M6ugfOp3B6mo"
      },
      "execution_count": null,
      "outputs": []
    },
    {
      "cell_type": "code",
      "source": [
        "from ultralytics import YOLO\n",
        "import matplotlib.pyplot as plt\n",
        "\n",
        "\n",
        "model = YOLO(\"/content/kedi_project/yolov8s_cat/weights/best.pt\")\n",
        "\n",
        "# 1) Tahmin – save=False, tek sonuç al\n",
        "result = model.predict(\"ff.png\", conf=0.2, iou=0.2, agnostic_nms=True, imgsz=800, save=False)[0]\n",
        "\n",
        "# 2) Çizilmiş resmi ekrana bas\n",
        "plt.imshow(result.plot())   # result.plot() -> Numpy array (kutular çizili)\n",
        "plt.axis('off')\n",
        "plt.show()"
      ],
      "metadata": {
        "id": "IgPyltgICcc1"
      },
      "execution_count": null,
      "outputs": []
    },
    {
      "cell_type": "code",
      "source": [
        "!ls runs/detect"
      ],
      "metadata": {
        "id": "Ly7FlPE-DVKP"
      },
      "execution_count": null,
      "outputs": []
    },
    {
      "cell_type": "code",
      "source": [
        "from ultralytics import YOLO\n",
        "import matplotlib.pyplot as plt\n",
        "\n",
        "\n",
        "model = YOLO(\"/content/kedi_project/yolov8s_cat/weights/best.pt\")\n",
        "\n",
        "# 1) Tahmin – save=False, tek sonuç al\n",
        "result = model.predict(\"jj.png\", conf=0.7, iou=0.2, agnostic_nms=True, imgsz=800, save=False)[0]\n",
        "\n",
        "# 2) Çizilmiş resmi ekrana bas\n",
        "plt.imshow(result.plot())   # result.plot() -> Numpy array (kutular çizili)\n",
        "plt.axis('off')\n",
        "plt.show()"
      ],
      "metadata": {
        "id": "xtagRsusEfZ2"
      },
      "execution_count": null,
      "outputs": []
    },
    {
      "cell_type": "code",
      "source": [
        "from ultralytics import YOLO\n",
        "import matplotlib.pyplot as plt\n",
        "\n",
        "\n",
        "model = YOLO(\"/content/kedi_project/yolov8s_cat/weights/best.pt\")\n",
        "\n",
        "# 1) Tahmin – save=False, tek sonuç al\n",
        "result = model.predict(\"aaaa.png\", conf=0.7, iou=0.2, agnostic_nms=True, imgsz=800, save=False)[0]\n",
        "\n",
        "# 2) Çizilmiş resmi ekrana bas\n",
        "plt.imshow(result.plot())   # result.plot() -> Numpy array (kutular çizili)\n",
        "plt.axis('off')\n",
        "plt.show()"
      ],
      "metadata": {
        "id": "94CmCv09KF70"
      },
      "execution_count": null,
      "outputs": []
    },
    {
      "cell_type": "code",
      "source": [
        "from ultralytics import YOLO\n",
        "import matplotlib.pyplot as plt\n",
        "\n",
        "\n",
        "model = YOLO(\"/content/kedi_project/yolov8s_cat/weights/best.pt\")\n",
        "\n",
        "# 1) Tahmin – save=False, tek sonuç al\n",
        "result = model.predict(\"gg.png\", conf=0.3, iou=0.2, agnostic_nms=True, imgsz=800, save=False)[0]\n",
        "\n",
        "# 2) Çizilmiş resmi ekrana bas\n",
        "plt.imshow(result.plot())   # result.plot() -> Numpy array (kutular çizili)\n",
        "plt.axis('off')\n",
        "plt.show()"
      ],
      "metadata": {
        "id": "6h111rs9Kb_A"
      },
      "execution_count": null,
      "outputs": []
    },
    {
      "cell_type": "code",
      "source": [
        "from ultralytics import YOLO\n",
        "import matplotlib.pyplot as plt\n",
        "\n",
        "\n",
        "model = YOLO(\"/content/kedi_project/yolov8s_cat/weights/best.pt\")\n",
        "\n",
        "# 1) Tahmin – save=False, tek sonuç al\n",
        "result = model.predict(\"a1.png\", conf=0.7, iou=0.2, agnostic_nms=True, imgsz=800, save=False)[0]\n",
        "\n",
        "# 2) Çizilmiş resmi ekrana bas\n",
        "plt.imshow(result.plot())   # result.plot() -> Numpy array (kutular çizili)\n",
        "plt.axis('off')\n",
        "plt.show()"
      ],
      "metadata": {
        "id": "1tFnsY2bLEjg"
      },
      "execution_count": null,
      "outputs": []
    },
    {
      "cell_type": "code",
      "source": [
        "from ultralytics import YOLO\n",
        "import matplotlib.pyplot as plt\n",
        "\n",
        "\n",
        "model = YOLO(\"/content/kedi_project/yolov8s_cat/weights/best.pt\")\n",
        "\n",
        "# 1) Tahmin – save=False, tek sonuç al\n",
        "result = model.predict(\"a2.png\", conf=0.2, iou=0.2, agnostic_nms=True, imgsz=800, save=False)[0]\n",
        "\n",
        "# 2) Çizilmiş resmi ekrana bas\n",
        "plt.imshow(result.plot())   # result.plot() -> Numpy array (kutular çizili)\n",
        "plt.axis('off')\n",
        "plt.show()"
      ],
      "metadata": {
        "id": "c90tPXvdL5bV"
      },
      "execution_count": null,
      "outputs": []
    },
    {
      "cell_type": "code",
      "source": [
        "from ultralytics import YOLO\n",
        "import matplotlib.pyplot as plt\n",
        "\n",
        "\n",
        "model = YOLO(\"/content/kedi_project/yolov8s_cat/weights/best.pt\")\n",
        "\n",
        "# 1) Tahmin – save=False, tek sonuç al\n",
        "result = model.predict(\"a3.png\", conf=0.7, iou=0.2, agnostic_nms=True, imgsz=800, save=False)[0]\n",
        "\n",
        "# 2) Çizilmiş resmi ekrana bas\n",
        "plt.imshow(result.plot())   # result.plot() -> Numpy array (kutular çizili)\n",
        "plt.axis('off')\n",
        "plt.show()"
      ],
      "metadata": {
        "id": "VGmC5rapMCB4"
      },
      "execution_count": null,
      "outputs": []
    },
    {
      "cell_type": "code",
      "source": [
        "from ultralytics import YOLO\n",
        "import matplotlib.pyplot as plt\n",
        "\n",
        "\n",
        "model = YOLO(\"/content/kedi_project/yolov8s_cat/weights/best.pt\")\n",
        "\n",
        "# 1) Tahmin – save=False, tek sonuç al\n",
        "result = model.predict(\"a4.png\", conf=0.5, iou=0.2, agnostic_nms=True, imgsz=800, save=False)[0]\n",
        "\n",
        "# 2) Çizilmiş resmi ekrana bas\n",
        "plt.imshow(result.plot())   # result.plot() -> Numpy array (kutular çizili)\n",
        "plt.axis('off')\n",
        "plt.show()"
      ],
      "metadata": {
        "id": "EfaQj4hyMFiD"
      },
      "execution_count": null,
      "outputs": []
    },
    {
      "cell_type": "code",
      "source": [
        "from ultralytics import YOLO\n",
        "import matplotlib.pyplot as plt\n",
        "\n",
        "\n",
        "model = YOLO(\"/content/kedi_project/yolov8s_cat/weights/best.pt\")\n",
        "\n",
        "# 1) Tahmin – save=False, tek sonuç al\n",
        "result = model.predict(\"a5.png\", conf=0.3, iou=0.2, agnostic_nms=True, imgsz=800, save=False)[0]\n",
        "\n",
        "# 2) Çizilmiş resmi ekrana bas\n",
        "plt.imshow(result.plot())   # result.plot() -> Numpy array (kutular çizili)\n",
        "plt.axis('off')\n",
        "plt.show()"
      ],
      "metadata": {
        "id": "5OwU5chIMLJf"
      },
      "execution_count": null,
      "outputs": []
    },
    {
      "cell_type": "code",
      "source": [
        "from ultralytics import YOLO\n",
        "import matplotlib.pyplot as plt\n",
        "\n",
        "\n",
        "model = YOLO(\"/content/kedi_project/yolov8s_cat/weights/best.pt\")\n",
        "\n",
        "# 1) Tahmin – save=False, tek sonuç al\n",
        "result = model.predict(\"a6.png\", conf=0.7, iou=0.2, agnostic_nms=True, imgsz=800, save=False)[0]\n",
        "\n",
        "# 2) Çizilmiş resmi ekrana bas\n",
        "plt.imshow(result.plot())   # result.plot() -> Numpy array (kutular çizili)\n",
        "plt.axis('off')\n",
        "plt.show()"
      ],
      "metadata": {
        "id": "zVYE0weMM5Lb"
      },
      "execution_count": null,
      "outputs": []
    },
    {
      "cell_type": "code",
      "source": [
        "from ultralytics import YOLO\n",
        "import matplotlib.pyplot as plt\n",
        "\n",
        "\n",
        "model = YOLO(\"/content/kedi_project/yolov8s_cat/weights/best.pt\")\n",
        "\n",
        "# 1) Tahmin – save=False, tek sonuç al\n",
        "result = model.predict(\"a7.png\", conf=0.3, iou=0.2, agnostic_nms=True, imgsz=800, save=False)[0]\n",
        "\n",
        "# 2) Çizilmiş resmi ekrana bas\n",
        "plt.imshow(result.plot())   # result.plot() -> Numpy array (kutular çizili)\n",
        "plt.axis('off')\n",
        "plt.show()"
      ],
      "metadata": {
        "id": "M_MH8lqZM-DR"
      },
      "execution_count": null,
      "outputs": []
    },
    {
      "cell_type": "code",
      "source": [
        "from ultralytics import YOLO\n",
        "import matplotlib.pyplot as plt\n",
        "\n",
        "\n",
        "model = YOLO(\"/content/kedi_project/yolov8s_cat/weights/best.pt\")\n",
        "\n",
        "# 1) Tahmin – save=False, tek sonuç al\n",
        "result = model.predict(\"a8.png\", conf=0.3, iou=0.2, agnostic_nms=True, imgsz=800, save=False)[0]\n",
        "\n",
        "# 2) Çizilmiş resmi ekrana bas\n",
        "plt.imshow(result.plot())   # result.plot() -> Numpy array (kutular çizili)\n",
        "plt.axis('off')\n",
        "plt.show()"
      ],
      "metadata": {
        "id": "PqBA5HDXNA00"
      },
      "execution_count": null,
      "outputs": []
    },
    {
      "cell_type": "code",
      "source": [
        "from ultralytics import YOLO\n",
        "import matplotlib.pyplot as plt\n",
        "\n",
        "\n",
        "model = YOLO(\"/content/kedi_project/yolov8s_cat/weights/best.pt\")\n",
        "\n",
        "# 1) Tahmin – save=False, tek sonuç al\n",
        "result = model.predict(\"a9.jpg\", conf=0.3, iou=0.2, agnostic_nms=True, imgsz=800, save=False)[0]\n",
        "\n",
        "# 2) Çizilmiş resmi ekrana bas\n",
        "plt.imshow(result.plot())   # result.plot() -> Numpy array (kutular çizili)\n",
        "plt.axis('off')\n",
        "plt.show()"
      ],
      "metadata": {
        "id": "tgWkACtZNEJW"
      },
      "execution_count": null,
      "outputs": []
    },
    {
      "cell_type": "code",
      "source": [
        "from ultralytics import YOLO\n",
        "import matplotlib.pyplot as plt\n",
        "\n",
        "\n",
        "model = YOLO(\"/content/kedi_project/yolov8s_cat/weights/best.pt\")\n",
        "\n",
        "# 1) Tahmin – save=False, tek sonuç al\n",
        "result = model.predict(\"a10.png\", conf=0.7, iou=0.2, agnostic_nms=True, imgsz=800, save=False)[0]\n",
        "\n",
        "# 2) Çizilmiş resmi ekrana bas\n",
        "plt.imshow(result.plot())   # result.plot() -> Numpy array (kutular çizili)\n",
        "plt.axis('off')\n",
        "plt.show()"
      ],
      "metadata": {
        "id": "AmKmBFPbPChH"
      },
      "execution_count": null,
      "outputs": []
    },
    {
      "cell_type": "code",
      "source": [
        "from ultralytics import YOLO\n",
        "import matplotlib.pyplot as plt\n",
        "\n",
        "\n",
        "model = YOLO(\"/content/kedi_project/yolov8s_cat/weights/best.pt\")\n",
        "\n",
        "# 1) Tahmin – save=False, tek sonuç al\n",
        "result = model.predict(\"a12.png\", conf=0.7, iou=0.2, agnostic_nms=True, imgsz=800, save=False)[0]\n",
        "\n",
        "# 2) Çizilmiş resmi ekrana bas\n",
        "plt.imshow(result.plot())   # result.plot() -> Numpy array (kutular çizili)\n",
        "plt.axis('off')\n",
        "plt.show()"
      ],
      "metadata": {
        "id": "TrCk0XHiPK8x"
      },
      "execution_count": null,
      "outputs": []
    },
    {
      "cell_type": "code",
      "source": [
        "from ultralytics import YOLO\n",
        "import matplotlib.pyplot as plt\n",
        "\n",
        "\n",
        "model = YOLO(\"/content/kedi_project/yolov8s_cat/weights/best.pt\")\n",
        "\n",
        "# 1) Tahmin – save=False, tek sonuç al\n",
        "result = model.predict(\"a13.png\", conf=0.7, iou=0.2, agnostic_nms=True, imgsz=800, save=False)[0]\n",
        "\n",
        "# 2) Çizilmiş resmi ekrana bas\n",
        "plt.imshow(result.plot())   # result.plot() -> Numpy array (kutular çizili)\n",
        "plt.axis('off')\n",
        "plt.show()"
      ],
      "metadata": {
        "id": "LdWoBls6PRTW"
      },
      "execution_count": null,
      "outputs": []
    },
    {
      "cell_type": "code",
      "source": [
        "from ultralytics import YOLO\n",
        "import matplotlib.pyplot as plt\n",
        "\n",
        "\n",
        "model = YOLO(\"/content/kedi_project/yolov8s_cat/weights/best.pt\")\n",
        "\n",
        "# 1) Tahmin – save=False, tek sonuç al\n",
        "result = model.predict(\"a14.png\", conf=0.2, iou=0.2, agnostic_nms=True, imgsz=800, save=False)[0]\n",
        "\n",
        "# 2) Çizilmiş resmi ekrana bas\n",
        "plt.imshow(result.plot())   # result.plot() -> Numpy array (kutular çizili)\n",
        "plt.axis('off')\n",
        "plt.show()"
      ],
      "metadata": {
        "id": "X1DDoa8HPXy6"
      },
      "execution_count": null,
      "outputs": []
    },
    {
      "cell_type": "code",
      "source": [
        "from ultralytics import YOLO\n",
        "import matplotlib.pyplot as plt\n",
        "\n",
        "\n",
        "model = YOLO(\"/content/kedi_project/yolov8s_cat/weights/best.pt\")\n",
        "\n",
        "# 1) Tahmin – save=False, tek sonuç al\n",
        "result = model.predict(\"aaaa.png\", conf=0.7, iou=0.2, agnostic_nms=True, imgsz=800, save=False)[0]\n",
        "\n",
        "# 2) Çizilmiş resmi ekrana bas\n",
        "plt.imshow(result.plot())   # result.plot() -> Numpy array (kutular çizili)\n",
        "plt.axis('off')\n",
        "plt.show()"
      ],
      "metadata": {
        "id": "lONpTs2QPd7m"
      },
      "execution_count": null,
      "outputs": []
    },
    {
      "cell_type": "code",
      "source": [
        "!pip install gradio --quiet\n",
        "\n",
        "\n"
      ],
      "metadata": {
        "id": "QXWh8ibD9M73"
      },
      "execution_count": null,
      "outputs": []
    },
    {
      "cell_type": "code",
      "source": [
        "import zipfile\n",
        "\n",
        "zip_path = \"/content/yolo_kedi_project.zip\"  # senin dosya adın\n",
        "extract_path = \"/content/kedi_project\"\n",
        "\n",
        "with zipfile.ZipFile(zip_path, 'r') as zip_ref:\n",
        "    zip_ref.extractall(extract_path)\n",
        "\n",
        "print(\"Dosya başarıyla açıldı!\")\n"
      ],
      "metadata": {
        "id": "_r5oxnuXB_Bl"
      },
      "execution_count": null,
      "outputs": []
    },
    {
      "cell_type": "code",
      "source": [
        "import os\n",
        "os.listdir(\"/content\")\n"
      ],
      "metadata": {
        "id": "IX_vJYIcCZ8I"
      },
      "execution_count": null,
      "outputs": []
    }
  ],
  "metadata": {
    "colab": {
      "provenance": [],
      "gpuType": "T4"
    },
    "kernelspec": {
      "display_name": "Python 3",
      "name": "python3"
    },
    "accelerator": "GPU"
  },
  "nbformat": 4,
  "nbformat_minor": 0
}